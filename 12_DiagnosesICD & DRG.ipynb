{
 "cells": [
  {
   "cell_type": "markdown",
   "id": "d5622439",
   "metadata": {},
   "source": [
    "We move on the the DIAGNOSES_ICD table. <br>\n",
    "Let's import the libraries."
   ]
  },
  {
   "cell_type": "code",
   "execution_count": 1,
   "id": "23495427",
   "metadata": {},
   "outputs": [],
   "source": [
    "import pandas as pd\n",
    "import numpy as np\n",
    "import matplotlib.pyplot as plt\n",
    "import seaborn as sns\n",
    "%matplotlib inline\n",
    "sns.set_style(style='whitegrid')"
   ]
  },
  {
   "cell_type": "code",
   "execution_count": 3,
   "id": "de215f80",
   "metadata": {},
   "outputs": [],
   "source": [
    "diagnosesICD_df = pd.read_csv('..\\Extracted CSVs\\DIAGNOSES_ICD.csv')"
   ]
  },
  {
   "cell_type": "code",
   "execution_count": 4,
   "id": "f8b1b634",
   "metadata": {},
   "outputs": [
    {
     "data": {
      "text/html": [
       "<div>\n",
       "<style scoped>\n",
       "    .dataframe tbody tr th:only-of-type {\n",
       "        vertical-align: middle;\n",
       "    }\n",
       "\n",
       "    .dataframe tbody tr th {\n",
       "        vertical-align: top;\n",
       "    }\n",
       "\n",
       "    .dataframe thead th {\n",
       "        text-align: right;\n",
       "    }\n",
       "</style>\n",
       "<table border=\"1\" class=\"dataframe\">\n",
       "  <thead>\n",
       "    <tr style=\"text-align: right;\">\n",
       "      <th></th>\n",
       "      <th>ROW_ID</th>\n",
       "      <th>SUBJECT_ID</th>\n",
       "      <th>HADM_ID</th>\n",
       "      <th>SEQ_NUM</th>\n",
       "      <th>ICD9_CODE</th>\n",
       "    </tr>\n",
       "  </thead>\n",
       "  <tbody>\n",
       "    <tr>\n",
       "      <th>0</th>\n",
       "      <td>1297</td>\n",
       "      <td>109</td>\n",
       "      <td>172335</td>\n",
       "      <td>1.0</td>\n",
       "      <td>40301</td>\n",
       "    </tr>\n",
       "    <tr>\n",
       "      <th>1</th>\n",
       "      <td>1298</td>\n",
       "      <td>109</td>\n",
       "      <td>172335</td>\n",
       "      <td>2.0</td>\n",
       "      <td>486</td>\n",
       "    </tr>\n",
       "    <tr>\n",
       "      <th>2</th>\n",
       "      <td>1299</td>\n",
       "      <td>109</td>\n",
       "      <td>172335</td>\n",
       "      <td>3.0</td>\n",
       "      <td>58281</td>\n",
       "    </tr>\n",
       "    <tr>\n",
       "      <th>3</th>\n",
       "      <td>1300</td>\n",
       "      <td>109</td>\n",
       "      <td>172335</td>\n",
       "      <td>4.0</td>\n",
       "      <td>5855</td>\n",
       "    </tr>\n",
       "    <tr>\n",
       "      <th>4</th>\n",
       "      <td>1301</td>\n",
       "      <td>109</td>\n",
       "      <td>172335</td>\n",
       "      <td>5.0</td>\n",
       "      <td>4254</td>\n",
       "    </tr>\n",
       "  </tbody>\n",
       "</table>\n",
       "</div>"
      ],
      "text/plain": [
       "   ROW_ID  SUBJECT_ID  HADM_ID  SEQ_NUM ICD9_CODE\n",
       "0    1297         109   172335      1.0     40301\n",
       "1    1298         109   172335      2.0       486\n",
       "2    1299         109   172335      3.0     58281\n",
       "3    1300         109   172335      4.0      5855\n",
       "4    1301         109   172335      5.0      4254"
      ]
     },
     "execution_count": 4,
     "metadata": {},
     "output_type": "execute_result"
    }
   ],
   "source": [
    "diagnosesICD_df.head()"
   ]
  },
  {
   "cell_type": "code",
   "execution_count": 5,
   "id": "d6323286",
   "metadata": {},
   "outputs": [
    {
     "name": "stdout",
     "output_type": "stream",
     "text": [
      "<class 'pandas.core.frame.DataFrame'>\n",
      "RangeIndex: 651047 entries, 0 to 651046\n",
      "Data columns (total 5 columns):\n",
      " #   Column      Non-Null Count   Dtype  \n",
      "---  ------      --------------   -----  \n",
      " 0   ROW_ID      651047 non-null  int64  \n",
      " 1   SUBJECT_ID  651047 non-null  int64  \n",
      " 2   HADM_ID     651047 non-null  int64  \n",
      " 3   SEQ_NUM     651000 non-null  float64\n",
      " 4   ICD9_CODE   651000 non-null  object \n",
      "dtypes: float64(1), int64(3), object(1)\n",
      "memory usage: 24.8+ MB\n"
     ]
    }
   ],
   "source": [
    "diagnosesICD_df.info()"
   ]
  },
  {
   "cell_type": "code",
   "execution_count": 6,
   "id": "7809c368",
   "metadata": {},
   "outputs": [],
   "source": [
    "diagnoses_dict = pd.read_csv('..\\Extracted CSVs\\D_ICD_DIAGNOSES.csv')"
   ]
  },
  {
   "cell_type": "markdown",
   "id": "3f20c84e",
   "metadata": {},
   "source": [
    "We merge the diagnoses_dict and diagnosesICD_df to obtain more information."
   ]
  },
  {
   "cell_type": "code",
   "execution_count": 7,
   "id": "d6fe5e16",
   "metadata": {},
   "outputs": [],
   "source": [
    "merged_diagnoses = pd.merge(diagnoses_dict,diagnosesICD_df,on='ICD9_CODE')"
   ]
  },
  {
   "cell_type": "markdown",
   "id": "a0ccf4f1",
   "metadata": {},
   "source": [
    "The SEQ_NUM column tells us the priority of the code. "
   ]
  },
  {
   "cell_type": "code",
   "execution_count": 8,
   "id": "d55acc1a",
   "metadata": {},
   "outputs": [
    {
     "data": {
      "text/plain": [
       "Unspecified essential hypertension                              20703\n",
       "Congestive heart failure, unspecified                           13111\n",
       "Atrial fibrillation                                             12891\n",
       "Coronary atherosclerosis of native coronary artery              12429\n",
       "Acute kidney failure, unspecified                                9119\n",
       "                                                                ...  \n",
       "Simple type schizophrenia, chronic                                  1\n",
       "Other congenital anomalies of posterior segment                     1\n",
       "Other abnormal Papanicolaou smear of cervix and cervical HPV        1\n",
       "Syphilitic iridocyclitis (secondary)                                1\n",
       "Foreign body granuloma of muscle                                    1\n",
       "Name: LONG_TITLE, Length: 6839, dtype: int64"
      ]
     },
     "execution_count": 8,
     "metadata": {},
     "output_type": "execute_result"
    }
   ],
   "source": [
    "merged_diagnoses['LONG_TITLE'].value_counts()"
   ]
  },
  {
   "cell_type": "code",
   "execution_count": 9,
   "id": "c8d19b25",
   "metadata": {},
   "outputs": [
    {
     "data": {
      "text/plain": [
       "Unspecified essential hypertension                    20703\n",
       "Congestive heart failure, unspecified                 13111\n",
       "Atrial fibrillation                                   12891\n",
       "Coronary atherosclerosis of native coronary artery    12429\n",
       "Acute kidney failure, unspecified                      9119\n",
       "Name: LONG_TITLE, dtype: int64"
      ]
     },
     "execution_count": 9,
     "metadata": {},
     "output_type": "execute_result"
    }
   ],
   "source": [
    "merged_diagnoses['LONG_TITLE'].value_counts().head()"
   ]
  },
  {
   "cell_type": "markdown",
   "id": "584ef6cd",
   "metadata": {},
   "source": [
    "These are the most common diagnoses."
   ]
  },
  {
   "cell_type": "code",
   "execution_count": 10,
   "id": "8b4eae01",
   "metadata": {},
   "outputs": [
    {
     "data": {
      "text/plain": [
       "Hypertension NOS            20703\n",
       "CHF NOS                     13111\n",
       "Atrial fibrillation         12891\n",
       "Crnry athrscl natve vssl    12429\n",
       "Acute kidney failure NOS     9119\n",
       "Name: SHORT_TITLE, dtype: int64"
      ]
     },
     "execution_count": 10,
     "metadata": {},
     "output_type": "execute_result"
    }
   ],
   "source": [
    "merged_diagnoses['SHORT_TITLE'].value_counts().head()"
   ]
  },
  {
   "cell_type": "markdown",
   "id": "c9276216",
   "metadata": {},
   "source": [
    "Let's look at the DRGCODES table."
   ]
  },
  {
   "cell_type": "code",
   "execution_count": 12,
   "id": "a1c1c108",
   "metadata": {},
   "outputs": [],
   "source": [
    "drgcodes_df = pd.read_csv('../Extracted CSVs/DRGCODES.csv')"
   ]
  },
  {
   "cell_type": "code",
   "execution_count": 13,
   "id": "dc47a709",
   "metadata": {},
   "outputs": [
    {
     "data": {
      "text/html": [
       "<div>\n",
       "<style scoped>\n",
       "    .dataframe tbody tr th:only-of-type {\n",
       "        vertical-align: middle;\n",
       "    }\n",
       "\n",
       "    .dataframe tbody tr th {\n",
       "        vertical-align: top;\n",
       "    }\n",
       "\n",
       "    .dataframe thead th {\n",
       "        text-align: right;\n",
       "    }\n",
       "</style>\n",
       "<table border=\"1\" class=\"dataframe\">\n",
       "  <thead>\n",
       "    <tr style=\"text-align: right;\">\n",
       "      <th></th>\n",
       "      <th>ROW_ID</th>\n",
       "      <th>SUBJECT_ID</th>\n",
       "      <th>HADM_ID</th>\n",
       "      <th>DRG_TYPE</th>\n",
       "      <th>DRG_CODE</th>\n",
       "      <th>DESCRIPTION</th>\n",
       "      <th>DRG_SEVERITY</th>\n",
       "      <th>DRG_MORTALITY</th>\n",
       "    </tr>\n",
       "  </thead>\n",
       "  <tbody>\n",
       "    <tr>\n",
       "      <th>0</th>\n",
       "      <td>342</td>\n",
       "      <td>2491</td>\n",
       "      <td>144486</td>\n",
       "      <td>HCFA</td>\n",
       "      <td>28</td>\n",
       "      <td>TRAUMATIC STUPOR &amp; COMA, COMA &lt;1 HR AGE &gt;17 WI...</td>\n",
       "      <td>NaN</td>\n",
       "      <td>NaN</td>\n",
       "    </tr>\n",
       "    <tr>\n",
       "      <th>1</th>\n",
       "      <td>343</td>\n",
       "      <td>24958</td>\n",
       "      <td>162910</td>\n",
       "      <td>HCFA</td>\n",
       "      <td>110</td>\n",
       "      <td>MAJOR CARDIOVASCULAR PROCEDURES WITH COMPLICAT...</td>\n",
       "      <td>NaN</td>\n",
       "      <td>NaN</td>\n",
       "    </tr>\n",
       "    <tr>\n",
       "      <th>2</th>\n",
       "      <td>344</td>\n",
       "      <td>18325</td>\n",
       "      <td>153751</td>\n",
       "      <td>HCFA</td>\n",
       "      <td>390</td>\n",
       "      <td>NEONATE WITH OTHER SIGNIFICANT PROBLEMS</td>\n",
       "      <td>NaN</td>\n",
       "      <td>NaN</td>\n",
       "    </tr>\n",
       "    <tr>\n",
       "      <th>3</th>\n",
       "      <td>345</td>\n",
       "      <td>17887</td>\n",
       "      <td>182692</td>\n",
       "      <td>HCFA</td>\n",
       "      <td>14</td>\n",
       "      <td>SPECIFIC CEREBROVASCULAR DISORDERS EXCEPT TRAN...</td>\n",
       "      <td>NaN</td>\n",
       "      <td>NaN</td>\n",
       "    </tr>\n",
       "    <tr>\n",
       "      <th>4</th>\n",
       "      <td>346</td>\n",
       "      <td>11113</td>\n",
       "      <td>157980</td>\n",
       "      <td>HCFA</td>\n",
       "      <td>390</td>\n",
       "      <td>NEONATE WITH OTHER SIGNIFICANT PROBLEMS</td>\n",
       "      <td>NaN</td>\n",
       "      <td>NaN</td>\n",
       "    </tr>\n",
       "  </tbody>\n",
       "</table>\n",
       "</div>"
      ],
      "text/plain": [
       "   ROW_ID  SUBJECT_ID  HADM_ID DRG_TYPE  DRG_CODE  \\\n",
       "0     342        2491   144486     HCFA        28   \n",
       "1     343       24958   162910     HCFA       110   \n",
       "2     344       18325   153751     HCFA       390   \n",
       "3     345       17887   182692     HCFA        14   \n",
       "4     346       11113   157980     HCFA       390   \n",
       "\n",
       "                                         DESCRIPTION  DRG_SEVERITY  \\\n",
       "0  TRAUMATIC STUPOR & COMA, COMA <1 HR AGE >17 WI...           NaN   \n",
       "1  MAJOR CARDIOVASCULAR PROCEDURES WITH COMPLICAT...           NaN   \n",
       "2            NEONATE WITH OTHER SIGNIFICANT PROBLEMS           NaN   \n",
       "3  SPECIFIC CEREBROVASCULAR DISORDERS EXCEPT TRAN...           NaN   \n",
       "4            NEONATE WITH OTHER SIGNIFICANT PROBLEMS           NaN   \n",
       "\n",
       "   DRG_MORTALITY  \n",
       "0            NaN  \n",
       "1            NaN  \n",
       "2            NaN  \n",
       "3            NaN  \n",
       "4            NaN  "
      ]
     },
     "execution_count": 13,
     "metadata": {},
     "output_type": "execute_result"
    }
   ],
   "source": [
    "drgcodes_df.head()\n"
   ]
  },
  {
   "cell_type": "code",
   "execution_count": 14,
   "id": "4db54d65",
   "metadata": {},
   "outputs": [
    {
     "name": "stdout",
     "output_type": "stream",
     "text": [
      "<class 'pandas.core.frame.DataFrame'>\n",
      "RangeIndex: 125557 entries, 0 to 125556\n",
      "Data columns (total 8 columns):\n",
      " #   Column         Non-Null Count   Dtype  \n",
      "---  ------         --------------   -----  \n",
      " 0   ROW_ID         125557 non-null  int64  \n",
      " 1   SUBJECT_ID     125557 non-null  int64  \n",
      " 2   HADM_ID        125557 non-null  int64  \n",
      " 3   DRG_TYPE       125557 non-null  object \n",
      " 4   DRG_CODE       125557 non-null  int64  \n",
      " 5   DESCRIPTION    125494 non-null  object \n",
      " 6   DRG_SEVERITY   66634 non-null   float64\n",
      " 7   DRG_MORTALITY  66634 non-null   float64\n",
      "dtypes: float64(2), int64(4), object(2)\n",
      "memory usage: 7.7+ MB\n"
     ]
    }
   ],
   "source": [
    "drgcodes_df.info()"
   ]
  },
  {
   "cell_type": "markdown",
   "id": "974159b6",
   "metadata": {},
   "source": [
    "The last two columns, DRG_SEVERITY and DRG_MORTALITY are available for APR Diagnosis-Related Group Only."
   ]
  },
  {
   "cell_type": "code",
   "execution_count": 15,
   "id": "6f1533a3",
   "metadata": {},
   "outputs": [
    {
     "data": {
      "text/plain": [
       "APR     66634\n",
       "HCFA    31644\n",
       "MS      27279\n",
       "Name: DRG_TYPE, dtype: int64"
      ]
     },
     "execution_count": 15,
     "metadata": {},
     "output_type": "execute_result"
    }
   ],
   "source": [
    "drgcodes_df['DRG_TYPE'].value_counts()"
   ]
  },
  {
   "cell_type": "code",
   "execution_count": 16,
   "id": "a9413a2b",
   "metadata": {},
   "outputs": [
    {
     "data": {
      "text/plain": [
       "([<matplotlib.patches.Wedge at 0x1ab8e2dd640>,\n",
       "  <matplotlib.patches.Wedge at 0x1ab8e2ddb20>,\n",
       "  <matplotlib.patches.Wedge at 0x1ab8e2ddfa0>],\n",
       " [Text(-0.10595188169244121, 1.0948854728992576, 'APR'),\n",
       "  Text(-0.6084140484338874, -0.916423671490587, 'HCPA'),\n",
       "  Text(0.8535603846509904, -0.6938549342293773, 'MS')])"
      ]
     },
     "execution_count": 16,
     "metadata": {},
     "output_type": "execute_result"
    },
    {
     "data": {
      "image/png": "[encoded data removed]",
      "text/plain": [
       "<Figure size 432x288 with 1 Axes>"
      ]
     },
     "metadata": {},
     "output_type": "display_data"
    }
   ],
   "source": [
    "plt.pie(drgcodes_df['DRG_TYPE'].value_counts(), labels = ['APR', 'HCPA', 'MS'])"
   ]
  },
  {
   "cell_type": "markdown",
   "id": "5c8a12fd",
   "metadata": {},
   "source": [
    "These are the three different types of drugs administered."
   ]
  },
  {
   "cell_type": "markdown",
   "id": "5ed8150b",
   "metadata": {},
   "source": [
    "The three types of DRG codes in the MIMIC-III database are ‘HCFA’ (Health Care Financing Administration), ‘MS’ (Medicare), and ‘APR’ (All Payers Registry)."
   ]
  },
  {
   "cell_type": "code",
   "execution_count": 17,
   "id": "7cb71d2c",
   "metadata": {},
   "outputs": [
    {
     "data": {
      "text/html": [
       "<div>\n",
       "<style scoped>\n",
       "    .dataframe tbody tr th:only-of-type {\n",
       "        vertical-align: middle;\n",
       "    }\n",
       "\n",
       "    .dataframe tbody tr th {\n",
       "        vertical-align: top;\n",
       "    }\n",
       "\n",
       "    .dataframe thead th {\n",
       "        text-align: right;\n",
       "    }\n",
       "</style>\n",
       "<table border=\"1\" class=\"dataframe\">\n",
       "  <thead>\n",
       "    <tr style=\"text-align: right;\">\n",
       "      <th></th>\n",
       "      <th>ROW_ID</th>\n",
       "      <th>SUBJECT_ID</th>\n",
       "      <th>HADM_ID</th>\n",
       "      <th>DRG_TYPE</th>\n",
       "      <th>DRG_CODE</th>\n",
       "      <th>DESCRIPTION</th>\n",
       "      <th>DRG_SEVERITY</th>\n",
       "      <th>DRG_MORTALITY</th>\n",
       "    </tr>\n",
       "  </thead>\n",
       "  <tbody>\n",
       "    <tr>\n",
       "      <th>10546</th>\n",
       "      <td>13782</td>\n",
       "      <td>21729</td>\n",
       "      <td>192719</td>\n",
       "      <td>APR</td>\n",
       "      <td>44</td>\n",
       "      <td>Tracheostomy W Long Term Mechanical Ventilatio...</td>\n",
       "      <td>4.0</td>\n",
       "      <td>3.0</td>\n",
       "    </tr>\n",
       "    <tr>\n",
       "      <th>10548</th>\n",
       "      <td>13784</td>\n",
       "      <td>9270</td>\n",
       "      <td>171336</td>\n",
       "      <td>APR</td>\n",
       "      <td>44</td>\n",
       "      <td>Tracheostomy W Long Term Mechanical Ventilatio...</td>\n",
       "      <td>4.0</td>\n",
       "      <td>3.0</td>\n",
       "    </tr>\n",
       "    <tr>\n",
       "      <th>10560</th>\n",
       "      <td>13796</td>\n",
       "      <td>11318</td>\n",
       "      <td>151558</td>\n",
       "      <td>APR</td>\n",
       "      <td>7204</td>\n",
       "      <td>Septicemia &amp; Disseminated Infections</td>\n",
       "      <td>4.0</td>\n",
       "      <td>4.0</td>\n",
       "    </tr>\n",
       "    <tr>\n",
       "      <th>10713</th>\n",
       "      <td>15353</td>\n",
       "      <td>252</td>\n",
       "      <td>190159</td>\n",
       "      <td>APR</td>\n",
       "      <td>2804</td>\n",
       "      <td>Alcoholic Liver Disease</td>\n",
       "      <td>4.0</td>\n",
       "      <td>4.0</td>\n",
       "    </tr>\n",
       "    <tr>\n",
       "      <th>10714</th>\n",
       "      <td>15354</td>\n",
       "      <td>25188</td>\n",
       "      <td>160667</td>\n",
       "      <td>APR</td>\n",
       "      <td>1694</td>\n",
       "      <td>Major Thoracic &amp; Abdominal Vascular Procedures</td>\n",
       "      <td>4.0</td>\n",
       "      <td>3.0</td>\n",
       "    </tr>\n",
       "    <tr>\n",
       "      <th>...</th>\n",
       "      <td>...</td>\n",
       "      <td>...</td>\n",
       "      <td>...</td>\n",
       "      <td>...</td>\n",
       "      <td>...</td>\n",
       "      <td>...</td>\n",
       "      <td>...</td>\n",
       "      <td>...</td>\n",
       "    </tr>\n",
       "    <tr>\n",
       "      <th>125550</th>\n",
       "      <td>123450</td>\n",
       "      <td>71582</td>\n",
       "      <td>101422</td>\n",
       "      <td>APR</td>\n",
       "      <td>1632</td>\n",
       "      <td>Cardiac Valve Procedures w/o Cardiac Catheteri...</td>\n",
       "      <td>2.0</td>\n",
       "      <td>1.0</td>\n",
       "    </tr>\n",
       "    <tr>\n",
       "      <th>125551</th>\n",
       "      <td>123451</td>\n",
       "      <td>71582</td>\n",
       "      <td>101422</td>\n",
       "      <td>APR</td>\n",
       "      <td>1632</td>\n",
       "      <td>Cardiac Valve Procedures w/o Cardiac Catheteri...</td>\n",
       "      <td>2.0</td>\n",
       "      <td>1.0</td>\n",
       "    </tr>\n",
       "    <tr>\n",
       "      <th>125553</th>\n",
       "      <td>123453</td>\n",
       "      <td>46449</td>\n",
       "      <td>110075</td>\n",
       "      <td>APR</td>\n",
       "      <td>1653</td>\n",
       "      <td>Coronary Bypass w/ Cardiac Cath Or Percutaneou...</td>\n",
       "      <td>3.0</td>\n",
       "      <td>2.0</td>\n",
       "    </tr>\n",
       "    <tr>\n",
       "      <th>125554</th>\n",
       "      <td>123454</td>\n",
       "      <td>46449</td>\n",
       "      <td>110075</td>\n",
       "      <td>APR</td>\n",
       "      <td>1653</td>\n",
       "      <td>Coronary Bypass w/ Cardiac Cath Or Percutaneou...</td>\n",
       "      <td>3.0</td>\n",
       "      <td>2.0</td>\n",
       "    </tr>\n",
       "    <tr>\n",
       "      <th>125556</th>\n",
       "      <td>123456</td>\n",
       "      <td>87879</td>\n",
       "      <td>155607</td>\n",
       "      <td>APR</td>\n",
       "      <td>6813</td>\n",
       "      <td>Other O.R. Procedures For Lymphatic/Hematopiet...</td>\n",
       "      <td>3.0</td>\n",
       "      <td>2.0</td>\n",
       "    </tr>\n",
       "  </tbody>\n",
       "</table>\n",
       "<p>66634 rows × 8 columns</p>\n",
       "</div>"
      ],
      "text/plain": [
       "        ROW_ID  SUBJECT_ID  HADM_ID DRG_TYPE  DRG_CODE  \\\n",
       "10546    13782       21729   192719     APR         44   \n",
       "10548    13784        9270   171336     APR         44   \n",
       "10560    13796       11318   151558     APR       7204   \n",
       "10713    15353         252   190159     APR       2804   \n",
       "10714    15354       25188   160667     APR       1694   \n",
       "...        ...         ...      ...      ...       ...   \n",
       "125550  123450       71582   101422     APR       1632   \n",
       "125551  123451       71582   101422     APR       1632   \n",
       "125553  123453       46449   110075     APR       1653   \n",
       "125554  123454       46449   110075     APR       1653   \n",
       "125556  123456       87879   155607     APR       6813   \n",
       "\n",
       "                                              DESCRIPTION  DRG_SEVERITY  \\\n",
       "10546   Tracheostomy W Long Term Mechanical Ventilatio...           4.0   \n",
       "10548   Tracheostomy W Long Term Mechanical Ventilatio...           4.0   \n",
       "10560                Septicemia & Disseminated Infections           4.0   \n",
       "10713                             Alcoholic Liver Disease           4.0   \n",
       "10714      Major Thoracic & Abdominal Vascular Procedures           4.0   \n",
       "...                                                   ...           ...   \n",
       "125550  Cardiac Valve Procedures w/o Cardiac Catheteri...           2.0   \n",
       "125551  Cardiac Valve Procedures w/o Cardiac Catheteri...           2.0   \n",
       "125553  Coronary Bypass w/ Cardiac Cath Or Percutaneou...           3.0   \n",
       "125554  Coronary Bypass w/ Cardiac Cath Or Percutaneou...           3.0   \n",
       "125556  Other O.R. Procedures For Lymphatic/Hematopiet...           3.0   \n",
       "\n",
       "        DRG_MORTALITY  \n",
       "10546             3.0  \n",
       "10548             3.0  \n",
       "10560             4.0  \n",
       "10713             4.0  \n",
       "10714             3.0  \n",
       "...               ...  \n",
       "125550            1.0  \n",
       "125551            1.0  \n",
       "125553            2.0  \n",
       "125554            2.0  \n",
       "125556            2.0  \n",
       "\n",
       "[66634 rows x 8 columns]"
      ]
     },
     "execution_count": 17,
     "metadata": {},
     "output_type": "execute_result"
    }
   ],
   "source": [
    "drgcodes_df[drgcodes_df['DRG_SEVERITY'].notnull()]"
   ]
  },
  {
   "cell_type": "code",
   "execution_count": 18,
   "id": "7813ffbf",
   "metadata": {},
   "outputs": [
    {
     "data": {
      "text/plain": [
       "3.0    24297\n",
       "4.0    22978\n",
       "2.0    14282\n",
       "1.0     5076\n",
       "0.0        1\n",
       "Name: DRG_SEVERITY, dtype: int64"
      ]
     },
     "execution_count": 18,
     "metadata": {},
     "output_type": "execute_result"
    }
   ],
   "source": [
    "drgcodes_df[drgcodes_df['DRG_SEVERITY'].notnull()]['DRG_SEVERITY'].value_counts()"
   ]
  },
  {
   "cell_type": "markdown",
   "id": "b28d2ff5",
   "metadata": {},
   "source": [
    "0 is the least severe and 4.0 is the most severe."
   ]
  },
  {
   "cell_type": "code",
   "execution_count": 19,
   "id": "83b357dc",
   "metadata": {},
   "outputs": [
    {
     "data": {
      "text/plain": [
       "([<matplotlib.patches.Wedge at 0x1ab8f0b5a00>,\n",
       "  <matplotlib.patches.Wedge at 0x1ab8f0b5ee0>,\n",
       "  <matplotlib.patches.Wedge at 0x1ab8f0c43a0>,\n",
       "  <matplotlib.patches.Wedge at 0x1ab8f0c4820>,\n",
       "  <matplotlib.patches.Wedge at 0x1ab8f0c4ca0>],\n",
       " [Text(0.45381925184728966, 1.002021999086231, '3.0'),\n",
       "  Text(-1.0703236412454753, -0.2537859393091493, '4.0'),\n",
       "  Text(0.4472429920238888, -1.0049744803155551, '2.0'),\n",
       "  Text(1.0686252488713253, -0.2608449299386483, '1.0'),\n",
       "  Text(1.0999999987829023, -5.174567768221638e-05, '0.0')])"
      ]
     },
     "execution_count": 19,
     "metadata": {},
     "output_type": "execute_result"
    },
    {
     "data": {
      "image/png": "[encoded data removed]",
      "text/plain": [
       "<Figure size 432x288 with 1 Axes>"
      ]
     },
     "metadata": {},
     "output_type": "display_data"
    }
   ],
   "source": [
    "plt.pie(drgcodes_df[drgcodes_df['DRG_SEVERITY'].notnull()]['DRG_SEVERITY'].value_counts(), labels = '3.0 4.0 2.0 1.0 0.0'.split())"
   ]
  },
  {
   "cell_type": "code",
   "execution_count": 20,
   "id": "faa9768c",
   "metadata": {},
   "outputs": [
    {
     "data": {
      "text/plain": [
       "4.0    19684\n",
       "3.0    18726\n",
       "2.0    14752\n",
       "1.0    13471\n",
       "0.0        1\n",
       "Name: DRG_MORTALITY, dtype: int64"
      ]
     },
     "execution_count": 20,
     "metadata": {},
     "output_type": "execute_result"
    }
   ],
   "source": [
    "drgcodes_df[drgcodes_df['DRG_SEVERITY'].notnull()]['DRG_MORTALITY'].value_counts()"
   ]
  },
  {
   "cell_type": "markdown",
   "id": "5bf52de0",
   "metadata": {},
   "source": [
    "0 is the least risky and 4.0 is the most risky."
   ]
  },
  {
   "cell_type": "code",
   "execution_count": 21,
   "id": "982e6aac",
   "metadata": {},
   "outputs": [
    {
     "data": {
      "text/plain": [
       "([<matplotlib.patches.Wedge at 0x1ab8f657940>,\n",
       "  <matplotlib.patches.Wedge at 0x1ab8f657e20>,\n",
       "  <matplotlib.patches.Wedge at 0x1ab8f6662e0>,\n",
       "  <matplotlib.patches.Wedge at 0x1ab8f666760>,\n",
       "  <matplotlib.patches.Wedge at 0x1ab8f666be0>],\n",
       " [Text(0.6593431495471344, 0.8804922550171952, '4.0'),\n",
       "  Text(-1.0120347529390163, 0.4310286055978937, '3.0'),\n",
       "  Text(-0.42333426146144787, -1.015277352782426, '2.0'),\n",
       "  Text(0.885440916177257, -0.6526824526208591, '1.0'),\n",
       "  Text(1.0999999987780527, -5.1848667114817566e-05, '0.0')])"
      ]
     },
     "execution_count": 21,
     "metadata": {},
     "output_type": "execute_result"
    },
    {
     "data": {
      "image/png": "[encoded data removed]",
      "text/plain": [
       "<Figure size 432x288 with 1 Axes>"
      ]
     },
     "metadata": {},
     "output_type": "display_data"
    }
   ],
   "source": [
    "plt.pie(drgcodes_df[drgcodes_df['DRG_SEVERITY'].notnull()]['DRG_MORTALITY'].value_counts(), labels = '4.0 3.0 2.0 1.0 0.0'.split())"
   ]
  }
 ],
 "metadata": {
  "kernelspec": {
   "display_name": "Python 3",
   "language": "python",
   "name": "python3"
  },
  "language_info": {
   "codemirror_mode": {
    "name": "ipython",
    "version": 3
   },
   "file_extension": ".py",
   "mimetype": "text/x-python",
   "name": "python",
   "nbconvert_exporter": "python",
   "pygments_lexer": "ipython3",
   "version": "3.8.8"
  }
 },
 "nbformat": 4,
 "nbformat_minor": 5
}
