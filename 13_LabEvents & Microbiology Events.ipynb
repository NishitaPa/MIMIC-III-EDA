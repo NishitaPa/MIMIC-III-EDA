{
 "cells": [
  {
   "cell_type": "markdown",
   "id": "3b454e50",
   "metadata": {},
   "source": [
    "Now we explore the labevents table."
   ]
  },
  {
   "cell_type": "markdown",
   "id": "af175516",
   "metadata": {},
   "source": [
    "Let's start with some imports."
   ]
  },
  {
   "cell_type": "code",
   "execution_count": 1,
   "id": "8a7943a3",
   "metadata": {},
   "outputs": [],
   "source": [
    "import pandas as pd\n",
    "import numpy as np\n",
    "import matplotlib.pyplot as plt\n",
    "import seaborn as sns\n",
    "%matplotlib inline\n",
    "sns.set_style(style='whitegrid')"
   ]
  },
  {
   "cell_type": "code",
   "execution_count": 2,
   "id": "3becafe8",
   "metadata": {},
   "outputs": [],
   "source": [
    "labevents_df = pd.read_csv('../Extracted CSVs/LABEVENTS.csv')"
   ]
  },
  {
   "cell_type": "markdown",
   "id": "97cfa93f",
   "metadata": {},
   "source": [
    "Getting a feel of the data."
   ]
  },
  {
   "cell_type": "code",
   "execution_count": 3,
   "id": "926f8d45",
   "metadata": {},
   "outputs": [
    {
     "data": {
      "text/html": [
       "<div>\n",
       "<style scoped>\n",
       "    .dataframe tbody tr th:only-of-type {\n",
       "        vertical-align: middle;\n",
       "    }\n",
       "\n",
       "    .dataframe tbody tr th {\n",
       "        vertical-align: top;\n",
       "    }\n",
       "\n",
       "    .dataframe thead th {\n",
       "        text-align: right;\n",
       "    }\n",
       "</style>\n",
       "<table border=\"1\" class=\"dataframe\">\n",
       "  <thead>\n",
       "    <tr style=\"text-align: right;\">\n",
       "      <th></th>\n",
       "      <th>ROW_ID</th>\n",
       "      <th>SUBJECT_ID</th>\n",
       "      <th>HADM_ID</th>\n",
       "      <th>ITEMID</th>\n",
       "      <th>CHARTTIME</th>\n",
       "      <th>VALUE</th>\n",
       "      <th>VALUENUM</th>\n",
       "      <th>VALUEUOM</th>\n",
       "      <th>FLAG</th>\n",
       "    </tr>\n",
       "  </thead>\n",
       "  <tbody>\n",
       "    <tr>\n",
       "      <th>0</th>\n",
       "      <td>281</td>\n",
       "      <td>3</td>\n",
       "      <td>NaN</td>\n",
       "      <td>50820</td>\n",
       "      <td>2101-10-12 16:07:00</td>\n",
       "      <td>7.39</td>\n",
       "      <td>7.39</td>\n",
       "      <td>units</td>\n",
       "      <td>NaN</td>\n",
       "    </tr>\n",
       "    <tr>\n",
       "      <th>1</th>\n",
       "      <td>282</td>\n",
       "      <td>3</td>\n",
       "      <td>NaN</td>\n",
       "      <td>50800</td>\n",
       "      <td>2101-10-12 18:17:00</td>\n",
       "      <td>ART</td>\n",
       "      <td>NaN</td>\n",
       "      <td>NaN</td>\n",
       "      <td>NaN</td>\n",
       "    </tr>\n",
       "    <tr>\n",
       "      <th>2</th>\n",
       "      <td>283</td>\n",
       "      <td>3</td>\n",
       "      <td>NaN</td>\n",
       "      <td>50802</td>\n",
       "      <td>2101-10-12 18:17:00</td>\n",
       "      <td>-1</td>\n",
       "      <td>-1.00</td>\n",
       "      <td>mEq/L</td>\n",
       "      <td>NaN</td>\n",
       "    </tr>\n",
       "    <tr>\n",
       "      <th>3</th>\n",
       "      <td>284</td>\n",
       "      <td>3</td>\n",
       "      <td>NaN</td>\n",
       "      <td>50804</td>\n",
       "      <td>2101-10-12 18:17:00</td>\n",
       "      <td>22</td>\n",
       "      <td>22.00</td>\n",
       "      <td>mEq/L</td>\n",
       "      <td>NaN</td>\n",
       "    </tr>\n",
       "    <tr>\n",
       "      <th>4</th>\n",
       "      <td>285</td>\n",
       "      <td>3</td>\n",
       "      <td>NaN</td>\n",
       "      <td>50808</td>\n",
       "      <td>2101-10-12 18:17:00</td>\n",
       "      <td>0.93</td>\n",
       "      <td>0.93</td>\n",
       "      <td>mmol/L</td>\n",
       "      <td>abnormal</td>\n",
       "    </tr>\n",
       "  </tbody>\n",
       "</table>\n",
       "</div>"
      ],
      "text/plain": [
       "   ROW_ID  SUBJECT_ID  HADM_ID  ITEMID            CHARTTIME VALUE  VALUENUM  \\\n",
       "0     281           3      NaN   50820  2101-10-12 16:07:00  7.39      7.39   \n",
       "1     282           3      NaN   50800  2101-10-12 18:17:00   ART       NaN   \n",
       "2     283           3      NaN   50802  2101-10-12 18:17:00    -1     -1.00   \n",
       "3     284           3      NaN   50804  2101-10-12 18:17:00    22     22.00   \n",
       "4     285           3      NaN   50808  2101-10-12 18:17:00  0.93      0.93   \n",
       "\n",
       "  VALUEUOM      FLAG  \n",
       "0    units       NaN  \n",
       "1      NaN       NaN  \n",
       "2    mEq/L       NaN  \n",
       "3    mEq/L       NaN  \n",
       "4   mmol/L  abnormal  "
      ]
     },
     "execution_count": 3,
     "metadata": {},
     "output_type": "execute_result"
    }
   ],
   "source": [
    "labevents_df.head()\n"
   ]
  },
  {
   "cell_type": "code",
   "execution_count": 4,
   "id": "9c078187",
   "metadata": {},
   "outputs": [
    {
     "name": "stdout",
     "output_type": "stream",
     "text": [
      "<class 'pandas.core.frame.DataFrame'>\n",
      "RangeIndex: 27854055 entries, 0 to 27854054\n",
      "Data columns (total 9 columns):\n",
      " #   Column      Dtype  \n",
      "---  ------      -----  \n",
      " 0   ROW_ID      int64  \n",
      " 1   SUBJECT_ID  int64  \n",
      " 2   HADM_ID     float64\n",
      " 3   ITEMID      int64  \n",
      " 4   CHARTTIME   object \n",
      " 5   VALUE       object \n",
      " 6   VALUENUM    float64\n",
      " 7   VALUEUOM    object \n",
      " 8   FLAG        object \n",
      "dtypes: float64(2), int64(3), object(4)\n",
      "memory usage: 1.9+ GB\n"
     ]
    }
   ],
   "source": [
    "labevents_df.info()"
   ]
  },
  {
   "cell_type": "code",
   "execution_count": 5,
   "id": "9a13c86f",
   "metadata": {},
   "outputs": [
    {
     "data": {
      "text/plain": [
       "abnormal    9779594\n",
       "delta         64572\n",
       "Name: FLAG, dtype: int64"
      ]
     },
     "execution_count": 5,
     "metadata": {},
     "output_type": "execute_result"
    }
   ],
   "source": [
    "labevents_df['FLAG'].value_counts()"
   ]
  },
  {
   "cell_type": "markdown",
   "id": "32bf8265",
   "metadata": {},
   "source": [
    "This tells us how many of the events have been flagged as abnormal and how many have been flagged as delta."
   ]
  },
  {
   "cell_type": "code",
   "execution_count": 6,
   "id": "99b9ad8c",
   "metadata": {},
   "outputs": [
    {
     "data": {
      "text/plain": [
       "([<matplotlib.patches.Wedge at 0x219873ab4c0>,\n",
       "  <matplotlib.patches.Wedge at 0x219873ab9a0>],\n",
       " [Text(-1.099766450213081, 0.02266616389508212, 'abnormal'),\n",
       "  Text(1.0997664492514767, -0.022666210552260656, 'delta')])"
      ]
     },
     "execution_count": 6,
     "metadata": {},
     "output_type": "execute_result"
    },
    {
     "data": {
      "image/png": "[encoded data removed]",
      "text/plain": [
       "<Figure size 432x288 with 1 Axes>"
      ]
     },
     "metadata": {},
     "output_type": "display_data"
    }
   ],
   "source": [
    "plt.pie(labevents_df['FLAG'].value_counts(), labels= 'abnormal delta'.split())"
   ]
  },
  {
   "cell_type": "code",
   "execution_count": 7,
   "id": "6af06ae1",
   "metadata": {},
   "outputs": [],
   "source": [
    "microbioevents_df = pd.read_csv('../Extracted CSVs/MICROBIOLOGYEVENTS.csv')"
   ]
  },
  {
   "cell_type": "code",
   "execution_count": 8,
   "id": "709b7aea",
   "metadata": {},
   "outputs": [
    {
     "data": {
      "text/html": [
       "<div>\n",
       "<style scoped>\n",
       "    .dataframe tbody tr th:only-of-type {\n",
       "        vertical-align: middle;\n",
       "    }\n",
       "\n",
       "    .dataframe tbody tr th {\n",
       "        vertical-align: top;\n",
       "    }\n",
       "\n",
       "    .dataframe thead th {\n",
       "        text-align: right;\n",
       "    }\n",
       "</style>\n",
       "<table border=\"1\" class=\"dataframe\">\n",
       "  <thead>\n",
       "    <tr style=\"text-align: right;\">\n",
       "      <th></th>\n",
       "      <th>ROW_ID</th>\n",
       "      <th>SUBJECT_ID</th>\n",
       "      <th>HADM_ID</th>\n",
       "      <th>CHARTDATE</th>\n",
       "      <th>CHARTTIME</th>\n",
       "      <th>SPEC_ITEMID</th>\n",
       "      <th>SPEC_TYPE_DESC</th>\n",
       "      <th>ORG_ITEMID</th>\n",
       "      <th>ORG_NAME</th>\n",
       "      <th>ISOLATE_NUM</th>\n",
       "      <th>AB_ITEMID</th>\n",
       "      <th>AB_NAME</th>\n",
       "      <th>DILUTION_TEXT</th>\n",
       "      <th>DILUTION_COMPARISON</th>\n",
       "      <th>DILUTION_VALUE</th>\n",
       "      <th>INTERPRETATION</th>\n",
       "    </tr>\n",
       "  </thead>\n",
       "  <tbody>\n",
       "    <tr>\n",
       "      <th>0</th>\n",
       "      <td>744</td>\n",
       "      <td>96</td>\n",
       "      <td>170324</td>\n",
       "      <td>2156-04-13 00:00:00</td>\n",
       "      <td>2156-04-13 14:18:00</td>\n",
       "      <td>70021.0</td>\n",
       "      <td>BRONCHOALVEOLAR LAVAGE</td>\n",
       "      <td>80026.0</td>\n",
       "      <td>PSEUDOMONAS AERUGINOSA</td>\n",
       "      <td>1.0</td>\n",
       "      <td>NaN</td>\n",
       "      <td>NaN</td>\n",
       "      <td>NaN</td>\n",
       "      <td>NaN</td>\n",
       "      <td>NaN</td>\n",
       "      <td>NaN</td>\n",
       "    </tr>\n",
       "    <tr>\n",
       "      <th>1</th>\n",
       "      <td>745</td>\n",
       "      <td>96</td>\n",
       "      <td>170324</td>\n",
       "      <td>2156-04-20 00:00:00</td>\n",
       "      <td>2156-04-20 13:10:00</td>\n",
       "      <td>70062.0</td>\n",
       "      <td>SPUTUM</td>\n",
       "      <td>NaN</td>\n",
       "      <td>NaN</td>\n",
       "      <td>NaN</td>\n",
       "      <td>NaN</td>\n",
       "      <td>NaN</td>\n",
       "      <td>NaN</td>\n",
       "      <td>NaN</td>\n",
       "      <td>NaN</td>\n",
       "      <td>NaN</td>\n",
       "    </tr>\n",
       "    <tr>\n",
       "      <th>2</th>\n",
       "      <td>746</td>\n",
       "      <td>96</td>\n",
       "      <td>170324</td>\n",
       "      <td>2156-04-20 00:00:00</td>\n",
       "      <td>2156-04-20 16:00:00</td>\n",
       "      <td>70012.0</td>\n",
       "      <td>BLOOD CULTURE</td>\n",
       "      <td>NaN</td>\n",
       "      <td>NaN</td>\n",
       "      <td>NaN</td>\n",
       "      <td>NaN</td>\n",
       "      <td>NaN</td>\n",
       "      <td>NaN</td>\n",
       "      <td>NaN</td>\n",
       "      <td>NaN</td>\n",
       "      <td>NaN</td>\n",
       "    </tr>\n",
       "    <tr>\n",
       "      <th>3</th>\n",
       "      <td>747</td>\n",
       "      <td>96</td>\n",
       "      <td>170324</td>\n",
       "      <td>2156-04-20 00:00:00</td>\n",
       "      <td>NaN</td>\n",
       "      <td>70012.0</td>\n",
       "      <td>BLOOD CULTURE</td>\n",
       "      <td>NaN</td>\n",
       "      <td>NaN</td>\n",
       "      <td>NaN</td>\n",
       "      <td>NaN</td>\n",
       "      <td>NaN</td>\n",
       "      <td>NaN</td>\n",
       "      <td>NaN</td>\n",
       "      <td>NaN</td>\n",
       "      <td>NaN</td>\n",
       "    </tr>\n",
       "    <tr>\n",
       "      <th>4</th>\n",
       "      <td>748</td>\n",
       "      <td>96</td>\n",
       "      <td>170324</td>\n",
       "      <td>2156-04-20 00:00:00</td>\n",
       "      <td>NaN</td>\n",
       "      <td>70079.0</td>\n",
       "      <td>URINE</td>\n",
       "      <td>NaN</td>\n",
       "      <td>NaN</td>\n",
       "      <td>NaN</td>\n",
       "      <td>NaN</td>\n",
       "      <td>NaN</td>\n",
       "      <td>NaN</td>\n",
       "      <td>NaN</td>\n",
       "      <td>NaN</td>\n",
       "      <td>NaN</td>\n",
       "    </tr>\n",
       "  </tbody>\n",
       "</table>\n",
       "</div>"
      ],
      "text/plain": [
       "   ROW_ID  SUBJECT_ID  HADM_ID            CHARTDATE            CHARTTIME  \\\n",
       "0     744          96   170324  2156-04-13 00:00:00  2156-04-13 14:18:00   \n",
       "1     745          96   170324  2156-04-20 00:00:00  2156-04-20 13:10:00   \n",
       "2     746          96   170324  2156-04-20 00:00:00  2156-04-20 16:00:00   \n",
       "3     747          96   170324  2156-04-20 00:00:00                  NaN   \n",
       "4     748          96   170324  2156-04-20 00:00:00                  NaN   \n",
       "\n",
       "   SPEC_ITEMID          SPEC_TYPE_DESC  ORG_ITEMID                ORG_NAME  \\\n",
       "0      70021.0  BRONCHOALVEOLAR LAVAGE     80026.0  PSEUDOMONAS AERUGINOSA   \n",
       "1      70062.0                  SPUTUM         NaN                     NaN   \n",
       "2      70012.0           BLOOD CULTURE         NaN                     NaN   \n",
       "3      70012.0           BLOOD CULTURE         NaN                     NaN   \n",
       "4      70079.0                   URINE         NaN                     NaN   \n",
       "\n",
       "   ISOLATE_NUM  AB_ITEMID AB_NAME DILUTION_TEXT DILUTION_COMPARISON  \\\n",
       "0          1.0        NaN     NaN           NaN                 NaN   \n",
       "1          NaN        NaN     NaN           NaN                 NaN   \n",
       "2          NaN        NaN     NaN           NaN                 NaN   \n",
       "3          NaN        NaN     NaN           NaN                 NaN   \n",
       "4          NaN        NaN     NaN           NaN                 NaN   \n",
       "\n",
       "   DILUTION_VALUE INTERPRETATION  \n",
       "0             NaN            NaN  \n",
       "1             NaN            NaN  \n",
       "2             NaN            NaN  \n",
       "3             NaN            NaN  \n",
       "4             NaN            NaN  "
      ]
     },
     "execution_count": 8,
     "metadata": {},
     "output_type": "execute_result"
    }
   ],
   "source": [
    "microbioevents_df.head()"
   ]
  },
  {
   "cell_type": "code",
   "execution_count": 9,
   "id": "ea76c2c4",
   "metadata": {},
   "outputs": [
    {
     "name": "stdout",
     "output_type": "stream",
     "text": [
      "<class 'pandas.core.frame.DataFrame'>\n",
      "RangeIndex: 631726 entries, 0 to 631725\n",
      "Data columns (total 16 columns):\n",
      " #   Column               Non-Null Count   Dtype  \n",
      "---  ------               --------------   -----  \n",
      " 0   ROW_ID               631726 non-null  int64  \n",
      " 1   SUBJECT_ID           631726 non-null  int64  \n",
      " 2   HADM_ID              631726 non-null  int64  \n",
      " 3   CHARTDATE            631726 non-null  object \n",
      " 4   CHARTTIME            589954 non-null  object \n",
      " 5   SPEC_ITEMID          631647 non-null  float64\n",
      " 6   SPEC_TYPE_DESC       631726 non-null  object \n",
      " 7   ORG_ITEMID           326881 non-null  float64\n",
      " 8   ORG_NAME             328016 non-null  object \n",
      " 9   ISOLATE_NUM          328016 non-null  float64\n",
      " 10  AB_ITEMID            275834 non-null  float64\n",
      " 11  AB_NAME              275834 non-null  object \n",
      " 12  DILUTION_TEXT        267350 non-null  object \n",
      " 13  DILUTION_COMPARISON  267178 non-null  object \n",
      " 14  DILUTION_VALUE       267178 non-null  float64\n",
      " 15  INTERPRETATION       275834 non-null  object \n",
      "dtypes: float64(5), int64(3), object(8)\n",
      "memory usage: 77.1+ MB\n"
     ]
    }
   ],
   "source": [
    "microbioevents_df.info()"
   ]
  },
  {
   "cell_type": "code",
   "execution_count": 10,
   "id": "54031faf",
   "metadata": {},
   "outputs": [
    {
     "data": {
      "text/plain": [
       "BLOOD CULTURE                         179930\n",
       "URINE                                 140671\n",
       "SPUTUM                                 99887\n",
       "SWAB                                   37895\n",
       "MRSA SCREEN                            32280\n",
       "                                       ...  \n",
       "Influenza A/B by DFA - Bronch Wash         1\n",
       "POST-MORTEM VIRAL CULTURE                  1\n",
       "C, E, & A Screening                        1\n",
       "TRANSTRACHEAL ASPIRATE                     1\n",
       "BLOOD BAG FLUID                            1\n",
       "Name: SPEC_TYPE_DESC, Length: 87, dtype: int64"
      ]
     },
     "execution_count": 10,
     "metadata": {},
     "output_type": "execute_result"
    }
   ],
   "source": [
    "microbioevents_df['SPEC_TYPE_DESC'].value_counts()\n"
   ]
  },
  {
   "cell_type": "markdown",
   "id": "b46ffa69",
   "metadata": {},
   "source": [
    "This tells us the types of specimens that were analysed in the lab."
   ]
  },
  {
   "cell_type": "code",
   "execution_count": 11,
   "id": "a7220c53",
   "metadata": {},
   "outputs": [
    {
     "data": {
      "text/plain": [
       "STAPH AUREUS COAG +                           63947\n",
       "ESCHERICHIA COLI                              60133\n",
       "STAPHYLOCOCCUS, COAGULASE NEGATIVE            32777\n",
       "KLEBSIELLA PNEUMONIAE                         30628\n",
       "PSEUDOMONAS AERUGINOSA                        28926\n",
       "                                              ...  \n",
       "GEOTRICHUM CAPITATUM                              1\n",
       "BEAUVERIA BASSIANA                                1\n",
       "ENTAMOEBA HARTMANNI                               1\n",
       "MALASSEZIA SPECIES                                1\n",
       "CORYNEBACTERIUM JEIKEIUM (C.D.C. GROUP JK)        1\n",
       "Name: ORG_NAME, Length: 362, dtype: int64"
      ]
     },
     "execution_count": 11,
     "metadata": {},
     "output_type": "execute_result"
    }
   ],
   "source": [
    "microbioevents_df['ORG_NAME'].value_counts()"
   ]
  },
  {
   "cell_type": "markdown",
   "id": "c8ee9cf9",
   "metadata": {},
   "source": [
    "This tells us the types of organism that were found in the specimens."
   ]
  },
  {
   "cell_type": "code",
   "execution_count": 12,
   "id": "33739918",
   "metadata": {},
   "outputs": [
    {
     "data": {
      "text/plain": [
       "STAPH AUREUS COAG +                   63947\n",
       "ESCHERICHIA COLI                      60133\n",
       "STAPHYLOCOCCUS, COAGULASE NEGATIVE    32777\n",
       "KLEBSIELLA PNEUMONIAE                 30628\n",
       "PSEUDOMONAS AERUGINOSA                28926\n",
       "ENTEROCOCCUS SP.                      16429\n",
       "YEAST                                 14182\n",
       "PROTEUS MIRABILIS                      9605\n",
       "ENTEROBACTER CLOACAE                   8709\n",
       "SERRATIA MARCESCENS                    6054\n",
       "Name: ORG_NAME, dtype: int64"
      ]
     },
     "execution_count": 12,
     "metadata": {},
     "output_type": "execute_result"
    }
   ],
   "source": [
    "microbioevents_df['ORG_NAME'].value_counts().head(10)"
   ]
  },
  {
   "cell_type": "code",
   "execution_count": 13,
   "id": "2285cc66",
   "metadata": {},
   "outputs": [
    {
     "data": {
      "text/plain": [
       "<AxesSubplot:>"
      ]
     },
     "execution_count": 13,
     "metadata": {},
     "output_type": "execute_result"
    },
    {
     "data": {
      "image/png": "[encoded data removed]",
      "text/plain": [
       "<Figure size 432x288 with 1 Axes>"
      ]
     },
     "metadata": {},
     "output_type": "display_data"
    }
   ],
   "source": [
    "microbioevents_df['ORG_NAME'].value_counts().head(10).plot(kind='bar')"
   ]
  },
  {
   "cell_type": "code",
   "execution_count": 14,
   "id": "98d90468",
   "metadata": {},
   "outputs": [
    {
     "data": {
      "text/plain": [
       "<AxesSubplot:>"
      ]
     },
     "execution_count": 14,
     "metadata": {},
     "output_type": "execute_result"
    },
    {
     "data": {
      "image/png": "[encoded data removed]",
      "text/plain": [
       "<Figure size 432x288 with 1 Axes>"
      ]
     },
     "metadata": {},
     "output_type": "display_data"
    }
   ],
   "source": [
    "microbioevents_df['SPEC_TYPE_DESC'].value_counts().head(10).plot(kind='bar')"
   ]
  },
  {
   "cell_type": "markdown",
   "id": "ef5bda50",
   "metadata": {},
   "source": [
    "Now let's take a look at how the results were interpreted."
   ]
  },
  {
   "cell_type": "code",
   "execution_count": 15,
   "id": "ddb2a478",
   "metadata": {},
   "outputs": [
    {
     "data": {
      "text/plain": [
       "S    188635\n",
       "R     77169\n",
       "I     10023\n",
       "P         7\n",
       "Name: INTERPRETATION, dtype: int64"
      ]
     },
     "execution_count": 15,
     "metadata": {},
     "output_type": "execute_result"
    }
   ],
   "source": [
    "microbioevents_df['INTERPRETATION'].value_counts()"
   ]
  },
  {
   "cell_type": "code",
   "execution_count": 16,
   "id": "54ac0702",
   "metadata": {},
   "outputs": [
    {
     "data": {
      "text/plain": [
       "([<matplotlib.patches.Wedge at 0x219875e19d0>,\n",
       "  <matplotlib.patches.Wedge at 0x219875e1eb0>,\n",
       "  <matplotlib.patches.Wedge at 0x219875ed370>,\n",
       "  <matplotlib.patches.Wedge at 0x219875ed7f0>],\n",
       " [Text(-0.6006616658625031, 0.9215235011454036, 'S'),\n",
       "  Text(0.4917042390608012, -0.9839852342843559, 'R'),\n",
       "  Text(1.0928203616240004, -0.12547373119497673, 'I'),\n",
       "  Text(1.0999999964942964, -8.782111458073245e-05, 'P')])"
      ]
     },
     "execution_count": 16,
     "metadata": {},
     "output_type": "execute_result"
    },
    {
     "data": {
      "image/png": "[encoded data removed]",
      "text/plain": [
       "<Figure size 432x288 with 1 Axes>"
      ]
     },
     "metadata": {},
     "output_type": "display_data"
    }
   ],
   "source": [
    "plt.pie(microbioevents_df['INTERPRETATION'].value_counts(), labels = list('SRIP'))"
   ]
  },
  {
   "cell_type": "markdown",
   "id": "9cde2cd9",
   "metadata": {},
   "source": [
    "“S” is sensitive, “R” is resistant, “I” is intermediate, and “P” is pending."
   ]
  }
 ],
 "metadata": {
  "kernelspec": {
   "display_name": "Python 3",
   "language": "python",
   "name": "python3"
  },
  "language_info": {
   "codemirror_mode": {
    "name": "ipython",
    "version": 3
   },
   "file_extension": ".py",
   "mimetype": "text/x-python",
   "name": "python",
   "nbconvert_exporter": "python",
   "pygments_lexer": "ipython3",
   "version": "3.8.8"
  }
 },
 "nbformat": 4,
 "nbformat_minor": 5
}
