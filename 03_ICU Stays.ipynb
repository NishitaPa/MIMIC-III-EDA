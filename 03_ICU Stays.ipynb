{
 "cells": [
  {
   "cell_type": "markdown",
   "id": "26995dc1",
   "metadata": {},
   "source": [
    "Next we'll take a look at the ICUSTAYS table that contains information about every unique ICU Stay.\n",
    "\n",
    "ICUSTAY_ID is the primary key for this table."
   ]
  },
  {
   "cell_type": "markdown",
   "id": "41c3564e",
   "metadata": {},
   "source": [
    "Let's start with some necessary imports."
   ]
  },
  {
   "cell_type": "code",
   "execution_count": 2,
   "id": "b0c5d9ff",
   "metadata": {},
   "outputs": [],
   "source": [
    "import pandas as pd\n",
    "import numpy as np\n",
    "import matplotlib.pyplot as plt\n",
    "import seaborn as sns\n",
    "%matplotlib inline\n",
    "sns.set_style(style='whitegrid')"
   ]
  },
  {
   "cell_type": "code",
   "execution_count": 4,
   "id": "f0f0b824",
   "metadata": {},
   "outputs": [],
   "source": [
    "icustays_df = pd.read_csv('..\\Extracted CSVs\\ICUSTAYS.csv')"
   ]
  },
  {
   "cell_type": "markdown",
   "id": "8b11d09d",
   "metadata": {},
   "source": [
    "Getting a feel of the data."
   ]
  },
  {
   "cell_type": "code",
   "execution_count": 5,
   "id": "5258b449",
   "metadata": {},
   "outputs": [
    {
     "data": {
      "text/html": [
       "<div>\n",
       "<style scoped>\n",
       "    .dataframe tbody tr th:only-of-type {\n",
       "        vertical-align: middle;\n",
       "    }\n",
       "\n",
       "    .dataframe tbody tr th {\n",
       "        vertical-align: top;\n",
       "    }\n",
       "\n",
       "    .dataframe thead th {\n",
       "        text-align: right;\n",
       "    }\n",
       "</style>\n",
       "<table border=\"1\" class=\"dataframe\">\n",
       "  <thead>\n",
       "    <tr style=\"text-align: right;\">\n",
       "      <th></th>\n",
       "      <th>ROW_ID</th>\n",
       "      <th>SUBJECT_ID</th>\n",
       "      <th>HADM_ID</th>\n",
       "      <th>ICUSTAY_ID</th>\n",
       "      <th>DBSOURCE</th>\n",
       "      <th>FIRST_CAREUNIT</th>\n",
       "      <th>LAST_CAREUNIT</th>\n",
       "      <th>FIRST_WARDID</th>\n",
       "      <th>LAST_WARDID</th>\n",
       "      <th>INTIME</th>\n",
       "      <th>OUTTIME</th>\n",
       "      <th>LOS</th>\n",
       "    </tr>\n",
       "  </thead>\n",
       "  <tbody>\n",
       "    <tr>\n",
       "      <th>0</th>\n",
       "      <td>365</td>\n",
       "      <td>268</td>\n",
       "      <td>110404</td>\n",
       "      <td>280836</td>\n",
       "      <td>carevue</td>\n",
       "      <td>MICU</td>\n",
       "      <td>MICU</td>\n",
       "      <td>52</td>\n",
       "      <td>52</td>\n",
       "      <td>2198-02-14 23:27:38</td>\n",
       "      <td>2198-02-18 05:26:11</td>\n",
       "      <td>3.2490</td>\n",
       "    </tr>\n",
       "    <tr>\n",
       "      <th>1</th>\n",
       "      <td>366</td>\n",
       "      <td>269</td>\n",
       "      <td>106296</td>\n",
       "      <td>206613</td>\n",
       "      <td>carevue</td>\n",
       "      <td>MICU</td>\n",
       "      <td>MICU</td>\n",
       "      <td>52</td>\n",
       "      <td>52</td>\n",
       "      <td>2170-11-05 11:05:29</td>\n",
       "      <td>2170-11-08 17:46:57</td>\n",
       "      <td>3.2788</td>\n",
       "    </tr>\n",
       "    <tr>\n",
       "      <th>2</th>\n",
       "      <td>367</td>\n",
       "      <td>270</td>\n",
       "      <td>188028</td>\n",
       "      <td>220345</td>\n",
       "      <td>carevue</td>\n",
       "      <td>CCU</td>\n",
       "      <td>CCU</td>\n",
       "      <td>57</td>\n",
       "      <td>57</td>\n",
       "      <td>2128-06-24 15:05:20</td>\n",
       "      <td>2128-06-27 12:32:29</td>\n",
       "      <td>2.8939</td>\n",
       "    </tr>\n",
       "    <tr>\n",
       "      <th>3</th>\n",
       "      <td>368</td>\n",
       "      <td>271</td>\n",
       "      <td>173727</td>\n",
       "      <td>249196</td>\n",
       "      <td>carevue</td>\n",
       "      <td>MICU</td>\n",
       "      <td>SICU</td>\n",
       "      <td>52</td>\n",
       "      <td>23</td>\n",
       "      <td>2120-08-07 23:12:42</td>\n",
       "      <td>2120-08-10 00:39:04</td>\n",
       "      <td>2.0600</td>\n",
       "    </tr>\n",
       "    <tr>\n",
       "      <th>4</th>\n",
       "      <td>369</td>\n",
       "      <td>272</td>\n",
       "      <td>164716</td>\n",
       "      <td>210407</td>\n",
       "      <td>carevue</td>\n",
       "      <td>CCU</td>\n",
       "      <td>CCU</td>\n",
       "      <td>57</td>\n",
       "      <td>57</td>\n",
       "      <td>2186-12-25 21:08:04</td>\n",
       "      <td>2186-12-27 12:01:13</td>\n",
       "      <td>1.6202</td>\n",
       "    </tr>\n",
       "  </tbody>\n",
       "</table>\n",
       "</div>"
      ],
      "text/plain": [
       "   ROW_ID  SUBJECT_ID  HADM_ID  ICUSTAY_ID DBSOURCE FIRST_CAREUNIT  \\\n",
       "0     365         268   110404      280836  carevue           MICU   \n",
       "1     366         269   106296      206613  carevue           MICU   \n",
       "2     367         270   188028      220345  carevue            CCU   \n",
       "3     368         271   173727      249196  carevue           MICU   \n",
       "4     369         272   164716      210407  carevue            CCU   \n",
       "\n",
       "  LAST_CAREUNIT  FIRST_WARDID  LAST_WARDID               INTIME  \\\n",
       "0          MICU            52           52  2198-02-14 23:27:38   \n",
       "1          MICU            52           52  2170-11-05 11:05:29   \n",
       "2           CCU            57           57  2128-06-24 15:05:20   \n",
       "3          SICU            52           23  2120-08-07 23:12:42   \n",
       "4           CCU            57           57  2186-12-25 21:08:04   \n",
       "\n",
       "               OUTTIME     LOS  \n",
       "0  2198-02-18 05:26:11  3.2490  \n",
       "1  2170-11-08 17:46:57  3.2788  \n",
       "2  2128-06-27 12:32:29  2.8939  \n",
       "3  2120-08-10 00:39:04  2.0600  \n",
       "4  2186-12-27 12:01:13  1.6202  "
      ]
     },
     "execution_count": 5,
     "metadata": {},
     "output_type": "execute_result"
    }
   ],
   "source": [
    "icustays_df.head()"
   ]
  },
  {
   "cell_type": "code",
   "execution_count": 6,
   "id": "91feb1a9",
   "metadata": {},
   "outputs": [
    {
     "name": "stdout",
     "output_type": "stream",
     "text": [
      "<class 'pandas.core.frame.DataFrame'>\n",
      "RangeIndex: 61532 entries, 0 to 61531\n",
      "Data columns (total 12 columns):\n",
      " #   Column          Non-Null Count  Dtype  \n",
      "---  ------          --------------  -----  \n",
      " 0   ROW_ID          61532 non-null  int64  \n",
      " 1   SUBJECT_ID      61532 non-null  int64  \n",
      " 2   HADM_ID         61532 non-null  int64  \n",
      " 3   ICUSTAY_ID      61532 non-null  int64  \n",
      " 4   DBSOURCE        61532 non-null  object \n",
      " 5   FIRST_CAREUNIT  61532 non-null  object \n",
      " 6   LAST_CAREUNIT   61532 non-null  object \n",
      " 7   FIRST_WARDID    61532 non-null  int64  \n",
      " 8   LAST_WARDID     61532 non-null  int64  \n",
      " 9   INTIME          61532 non-null  object \n",
      " 10  OUTTIME         61522 non-null  object \n",
      " 11  LOS             61522 non-null  float64\n",
      "dtypes: float64(1), int64(6), object(5)\n",
      "memory usage: 5.6+ MB\n"
     ]
    }
   ],
   "source": [
    "icustays_df.info()"
   ]
  },
  {
   "cell_type": "markdown",
   "id": "f4d6a408",
   "metadata": {},
   "source": [
    "Let's take a look at the length of stay in the ICU for each unique ICU admission."
   ]
  },
  {
   "cell_type": "code",
   "execution_count": 7,
   "id": "f97413b0",
   "metadata": {},
   "outputs": [
    {
     "data": {
      "text/html": [
       "<div>\n",
       "<style scoped>\n",
       "    .dataframe tbody tr th:only-of-type {\n",
       "        vertical-align: middle;\n",
       "    }\n",
       "\n",
       "    .dataframe tbody tr th {\n",
       "        vertical-align: top;\n",
       "    }\n",
       "\n",
       "    .dataframe thead th {\n",
       "        text-align: right;\n",
       "    }\n",
       "</style>\n",
       "<table border=\"1\" class=\"dataframe\">\n",
       "  <thead>\n",
       "    <tr style=\"text-align: right;\">\n",
       "      <th></th>\n",
       "      <th>LOS</th>\n",
       "      <th>SUBJECT_ID</th>\n",
       "    </tr>\n",
       "  </thead>\n",
       "  <tbody>\n",
       "    <tr>\n",
       "      <th>0</th>\n",
       "      <td>3.2490</td>\n",
       "      <td>268</td>\n",
       "    </tr>\n",
       "    <tr>\n",
       "      <th>1</th>\n",
       "      <td>3.2788</td>\n",
       "      <td>269</td>\n",
       "    </tr>\n",
       "    <tr>\n",
       "      <th>2</th>\n",
       "      <td>2.8939</td>\n",
       "      <td>270</td>\n",
       "    </tr>\n",
       "    <tr>\n",
       "      <th>3</th>\n",
       "      <td>2.0600</td>\n",
       "      <td>271</td>\n",
       "    </tr>\n",
       "    <tr>\n",
       "      <th>4</th>\n",
       "      <td>1.6202</td>\n",
       "      <td>272</td>\n",
       "    </tr>\n",
       "    <tr>\n",
       "      <th>...</th>\n",
       "      <td>...</td>\n",
       "      <td>...</td>\n",
       "    </tr>\n",
       "    <tr>\n",
       "      <th>61527</th>\n",
       "      <td>2.1894</td>\n",
       "      <td>94944</td>\n",
       "    </tr>\n",
       "    <tr>\n",
       "      <th>61528</th>\n",
       "      <td>2.4942</td>\n",
       "      <td>94950</td>\n",
       "    </tr>\n",
       "    <tr>\n",
       "      <th>61529</th>\n",
       "      <td>0.9259</td>\n",
       "      <td>94953</td>\n",
       "    </tr>\n",
       "    <tr>\n",
       "      <th>61530</th>\n",
       "      <td>2.3346</td>\n",
       "      <td>94954</td>\n",
       "    </tr>\n",
       "    <tr>\n",
       "      <th>61531</th>\n",
       "      <td>4.5022</td>\n",
       "      <td>94956</td>\n",
       "    </tr>\n",
       "  </tbody>\n",
       "</table>\n",
       "<p>61532 rows × 2 columns</p>\n",
       "</div>"
      ],
      "text/plain": [
       "          LOS  SUBJECT_ID\n",
       "0      3.2490         268\n",
       "1      3.2788         269\n",
       "2      2.8939         270\n",
       "3      2.0600         271\n",
       "4      1.6202         272\n",
       "...       ...         ...\n",
       "61527  2.1894       94944\n",
       "61528  2.4942       94950\n",
       "61529  0.9259       94953\n",
       "61530  2.3346       94954\n",
       "61531  4.5022       94956\n",
       "\n",
       "[61532 rows x 2 columns]"
      ]
     },
     "execution_count": 7,
     "metadata": {},
     "output_type": "execute_result"
    }
   ],
   "source": [
    "icustays_df[['LOS', 'SUBJECT_ID']]"
   ]
  },
  {
   "cell_type": "markdown",
   "id": "3ef1acfb",
   "metadata": {},
   "source": [
    "A visual representation of the length of stay in the ICU."
   ]
  },
  {
   "cell_type": "code",
   "execution_count": 8,
   "id": "71955f78",
   "metadata": {},
   "outputs": [
    {
     "data": {
      "text/plain": [
       "<AxesSubplot:xlabel='LOS', ylabel='Count'>"
      ]
     },
     "execution_count": 8,
     "metadata": {},
     "output_type": "execute_result"
    },
    {
     "data": {
      "image/png": "[encoded data removed]",
      "text/plain": [
       "<Figure size 432x288 with 1 Axes>"
      ]
     },
     "metadata": {},
     "output_type": "display_data"
    }
   ],
   "source": [
    "sns.histplot(icustays_df['LOS'])"
   ]
  },
  {
   "cell_type": "markdown",
   "id": "6b8de268",
   "metadata": {},
   "source": [
    "A distribution of LOS <50 days"
   ]
  },
  {
   "cell_type": "code",
   "execution_count": 10,
   "id": "fbf314df",
   "metadata": {},
   "outputs": [
    {
     "data": {
      "text/plain": [
       "<AxesSubplot:xlabel='LOS', ylabel='Count'>"
      ]
     },
     "execution_count": 10,
     "metadata": {},
     "output_type": "execute_result"
    },
    {
     "data": {
      "image/png": "[encoded data removed]",
      "text/plain": [
       "<Figure size 1440x576 with 1 Axes>"
      ]
     },
     "metadata": {},
     "output_type": "display_data"
    }
   ],
   "source": [
    "plt.figure(figsize=(20,8))\n",
    "sns.histplot(icustays_df[icustays_df['LOS']<=50]['LOS'])"
   ]
  },
  {
   "cell_type": "markdown",
   "id": "2d76a2a8",
   "metadata": {},
   "source": [
    "Next we take a look at the mean of the LOS when we group by the first ICU the patient stayed in and the last ICU the patient stayed in."
   ]
  },
  {
   "cell_type": "code",
   "execution_count": 11,
   "id": "1300550b",
   "metadata": {},
   "outputs": [
    {
     "data": {
      "text/plain": [
       "FIRST_CAREUNIT\n",
       "CCU       3.901562\n",
       "CSRU      3.900016\n",
       "MICU      4.012769\n",
       "NICU     10.025806\n",
       "SICU      4.706723\n",
       "TSICU     4.443861\n",
       "Name: LOS, dtype: float64"
      ]
     },
     "execution_count": 11,
     "metadata": {},
     "output_type": "execute_result"
    }
   ],
   "source": [
    "icustays_df.groupby('FIRST_CAREUNIT')['LOS'].mean()"
   ]
  },
  {
   "cell_type": "code",
   "execution_count": 12,
   "id": "da9eca97",
   "metadata": {},
   "outputs": [
    {
     "data": {
      "text/plain": [
       "<AxesSubplot:xlabel='FIRST_CAREUNIT'>"
      ]
     },
     "execution_count": 12,
     "metadata": {},
     "output_type": "execute_result"
    },
    {
     "data": {
      "image/png": "[encoded data removed]",
      "text/plain": [
       "<Figure size 432x288 with 1 Axes>"
      ]
     },
     "metadata": {},
     "output_type": "display_data"
    }
   ],
   "source": [
    "icustays_df.groupby('FIRST_CAREUNIT')['LOS'].mean().plot(kind='bar')"
   ]
  },
  {
   "cell_type": "code",
   "execution_count": 13,
   "id": "13de2bbe",
   "metadata": {},
   "outputs": [
    {
     "data": {
      "text/plain": [
       "LAST_CAREUNIT\n",
       "CCU       3.446285\n",
       "CSRU      3.874493\n",
       "MICU      4.122262\n",
       "NICU     10.025806\n",
       "SICU      5.044084\n",
       "TSICU     4.124977\n",
       "Name: LOS, dtype: float64"
      ]
     },
     "execution_count": 13,
     "metadata": {},
     "output_type": "execute_result"
    }
   ],
   "source": [
    "icustays_df.groupby('LAST_CAREUNIT')['LOS'].mean()"
   ]
  },
  {
   "cell_type": "code",
   "execution_count": 14,
   "id": "bc2fec59",
   "metadata": {},
   "outputs": [
    {
     "data": {
      "text/plain": [
       "<AxesSubplot:xlabel='LAST_CAREUNIT'>"
      ]
     },
     "execution_count": 14,
     "metadata": {},
     "output_type": "execute_result"
    },
    {
     "data": {
      "image/png": "[encoded data removed]",
      "text/plain": [
       "<Figure size 432x288 with 1 Axes>"
      ]
     },
     "metadata": {},
     "output_type": "display_data"
    }
   ],
   "source": [
    "icustays_df.groupby('LAST_CAREUNIT')['LOS'].mean().plot(kind='bar')"
   ]
  },
  {
   "cell_type": "markdown",
   "id": "f5952ace",
   "metadata": {},
   "source": [
    "From the above data and visualisations we notice that there is not a significant different between the above two. From this we can infer that there weren't a huge number of ICU transfers."
   ]
  },
  {
   "cell_type": "markdown",
   "id": "1447ddcf",
   "metadata": {},
   "source": [
    "The mean length of stay in the ICU."
   ]
  },
  {
   "cell_type": "code",
   "execution_count": 15,
   "id": "ad52c9e7",
   "metadata": {},
   "outputs": [
    {
     "data": {
      "text/plain": [
       "4.91797158089793"
      ]
     },
     "execution_count": 15,
     "metadata": {},
     "output_type": "execute_result"
    }
   ],
   "source": [
    "icustays_df['LOS'].mean()"
   ]
  },
  {
   "cell_type": "code",
   "execution_count": 16,
   "id": "2652ecf0",
   "metadata": {},
   "outputs": [
    {
     "data": {
      "text/plain": [
       "count    61522.000000\n",
       "mean         4.917972\n",
       "std          9.638784\n",
       "min          0.000100\n",
       "25%          1.108025\n",
       "50%          2.092250\n",
       "75%          4.483175\n",
       "max        173.072500\n",
       "Name: LOS, dtype: float64"
      ]
     },
     "execution_count": 16,
     "metadata": {},
     "output_type": "execute_result"
    }
   ],
   "source": [
    "icustays_df['LOS'].describe()"
   ]
  },
  {
   "cell_type": "markdown",
   "id": "bc1b5e22",
   "metadata": {},
   "source": [
    "Let's compare the first and last units that the patients stayed in."
   ]
  },
  {
   "cell_type": "code",
   "execution_count": 17,
   "id": "a5370884",
   "metadata": {},
   "outputs": [
    {
     "data": {
      "text/html": [
       "<div>\n",
       "<style scoped>\n",
       "    .dataframe tbody tr th:only-of-type {\n",
       "        vertical-align: middle;\n",
       "    }\n",
       "\n",
       "    .dataframe tbody tr th {\n",
       "        vertical-align: top;\n",
       "    }\n",
       "\n",
       "    .dataframe thead th {\n",
       "        text-align: right;\n",
       "    }\n",
       "</style>\n",
       "<table border=\"1\" class=\"dataframe\">\n",
       "  <thead>\n",
       "    <tr style=\"text-align: right;\">\n",
       "      <th></th>\n",
       "      <th>FIRST_CAREUNIT</th>\n",
       "      <th>LAST_CAREUNIT</th>\n",
       "    </tr>\n",
       "  </thead>\n",
       "  <tbody>\n",
       "    <tr>\n",
       "      <th>0</th>\n",
       "      <td>MICU</td>\n",
       "      <td>MICU</td>\n",
       "    </tr>\n",
       "    <tr>\n",
       "      <th>1</th>\n",
       "      <td>MICU</td>\n",
       "      <td>MICU</td>\n",
       "    </tr>\n",
       "    <tr>\n",
       "      <th>2</th>\n",
       "      <td>CCU</td>\n",
       "      <td>CCU</td>\n",
       "    </tr>\n",
       "    <tr>\n",
       "      <th>3</th>\n",
       "      <td>MICU</td>\n",
       "      <td>SICU</td>\n",
       "    </tr>\n",
       "    <tr>\n",
       "      <th>4</th>\n",
       "      <td>CCU</td>\n",
       "      <td>CCU</td>\n",
       "    </tr>\n",
       "    <tr>\n",
       "      <th>...</th>\n",
       "      <td>...</td>\n",
       "      <td>...</td>\n",
       "    </tr>\n",
       "    <tr>\n",
       "      <th>61527</th>\n",
       "      <td>CSRU</td>\n",
       "      <td>CSRU</td>\n",
       "    </tr>\n",
       "    <tr>\n",
       "      <th>61528</th>\n",
       "      <td>CCU</td>\n",
       "      <td>CCU</td>\n",
       "    </tr>\n",
       "    <tr>\n",
       "      <th>61529</th>\n",
       "      <td>SICU</td>\n",
       "      <td>SICU</td>\n",
       "    </tr>\n",
       "    <tr>\n",
       "      <th>61530</th>\n",
       "      <td>CSRU</td>\n",
       "      <td>CSRU</td>\n",
       "    </tr>\n",
       "    <tr>\n",
       "      <th>61531</th>\n",
       "      <td>TSICU</td>\n",
       "      <td>TSICU</td>\n",
       "    </tr>\n",
       "  </tbody>\n",
       "</table>\n",
       "<p>61532 rows × 2 columns</p>\n",
       "</div>"
      ],
      "text/plain": [
       "      FIRST_CAREUNIT LAST_CAREUNIT\n",
       "0               MICU          MICU\n",
       "1               MICU          MICU\n",
       "2                CCU           CCU\n",
       "3               MICU          SICU\n",
       "4                CCU           CCU\n",
       "...              ...           ...\n",
       "61527           CSRU          CSRU\n",
       "61528            CCU           CCU\n",
       "61529           SICU          SICU\n",
       "61530           CSRU          CSRU\n",
       "61531          TSICU         TSICU\n",
       "\n",
       "[61532 rows x 2 columns]"
      ]
     },
     "execution_count": 17,
     "metadata": {},
     "output_type": "execute_result"
    }
   ],
   "source": [
    "icustays_df[['FIRST_CAREUNIT', 'LAST_CAREUNIT']]"
   ]
  },
  {
   "cell_type": "markdown",
   "id": "7fa93b97",
   "metadata": {},
   "source": [
    "Checking if the patients changed wards"
   ]
  },
  {
   "cell_type": "code",
   "execution_count": 18,
   "id": "66f2003f",
   "metadata": {},
   "outputs": [
    {
     "data": {
      "text/plain": [
       "3          271\n",
       "20         287\n",
       "46         306\n",
       "58         318\n",
       "84         339\n",
       "         ...  \n",
       "61384    90546\n",
       "61385    90549\n",
       "61430    90699\n",
       "61473    92005\n",
       "61523    94937\n",
       "Name: SUBJECT_ID, Length: 3833, dtype: int64"
      ]
     },
     "execution_count": 18,
     "metadata": {},
     "output_type": "execute_result"
    }
   ],
   "source": [
    "icustays_df[icustays_df['FIRST_CAREUNIT']!=icustays_df['LAST_CAREUNIT']]['SUBJECT_ID']"
   ]
  },
  {
   "cell_type": "markdown",
   "id": "c81c7e1e",
   "metadata": {},
   "source": [
    "Comparing the first and last ward the patients stayed in"
   ]
  },
  {
   "cell_type": "code",
   "execution_count": 19,
   "id": "15c1b975",
   "metadata": {},
   "outputs": [
    {
     "data": {
      "text/html": [
       "<div>\n",
       "<style scoped>\n",
       "    .dataframe tbody tr th:only-of-type {\n",
       "        vertical-align: middle;\n",
       "    }\n",
       "\n",
       "    .dataframe tbody tr th {\n",
       "        vertical-align: top;\n",
       "    }\n",
       "\n",
       "    .dataframe thead th {\n",
       "        text-align: right;\n",
       "    }\n",
       "</style>\n",
       "<table border=\"1\" class=\"dataframe\">\n",
       "  <thead>\n",
       "    <tr style=\"text-align: right;\">\n",
       "      <th></th>\n",
       "      <th>FIRST_WARDID</th>\n",
       "      <th>LAST_WARDID</th>\n",
       "    </tr>\n",
       "  </thead>\n",
       "  <tbody>\n",
       "    <tr>\n",
       "      <th>0</th>\n",
       "      <td>52</td>\n",
       "      <td>52</td>\n",
       "    </tr>\n",
       "    <tr>\n",
       "      <th>1</th>\n",
       "      <td>52</td>\n",
       "      <td>52</td>\n",
       "    </tr>\n",
       "    <tr>\n",
       "      <th>2</th>\n",
       "      <td>57</td>\n",
       "      <td>57</td>\n",
       "    </tr>\n",
       "    <tr>\n",
       "      <th>3</th>\n",
       "      <td>52</td>\n",
       "      <td>23</td>\n",
       "    </tr>\n",
       "    <tr>\n",
       "      <th>4</th>\n",
       "      <td>57</td>\n",
       "      <td>57</td>\n",
       "    </tr>\n",
       "    <tr>\n",
       "      <th>...</th>\n",
       "      <td>...</td>\n",
       "      <td>...</td>\n",
       "    </tr>\n",
       "    <tr>\n",
       "      <th>61527</th>\n",
       "      <td>15</td>\n",
       "      <td>15</td>\n",
       "    </tr>\n",
       "    <tr>\n",
       "      <th>61528</th>\n",
       "      <td>7</td>\n",
       "      <td>7</td>\n",
       "    </tr>\n",
       "    <tr>\n",
       "      <th>61529</th>\n",
       "      <td>57</td>\n",
       "      <td>57</td>\n",
       "    </tr>\n",
       "    <tr>\n",
       "      <th>61530</th>\n",
       "      <td>15</td>\n",
       "      <td>15</td>\n",
       "    </tr>\n",
       "    <tr>\n",
       "      <th>61531</th>\n",
       "      <td>14</td>\n",
       "      <td>14</td>\n",
       "    </tr>\n",
       "  </tbody>\n",
       "</table>\n",
       "<p>61532 rows × 2 columns</p>\n",
       "</div>"
      ],
      "text/plain": [
       "       FIRST_WARDID  LAST_WARDID\n",
       "0                52           52\n",
       "1                52           52\n",
       "2                57           57\n",
       "3                52           23\n",
       "4                57           57\n",
       "...             ...          ...\n",
       "61527            15           15\n",
       "61528             7            7\n",
       "61529            57           57\n",
       "61530            15           15\n",
       "61531            14           14\n",
       "\n",
       "[61532 rows x 2 columns]"
      ]
     },
     "execution_count": 19,
     "metadata": {},
     "output_type": "execute_result"
    }
   ],
   "source": [
    "icustays_df[['FIRST_WARDID', 'LAST_WARDID']]"
   ]
  },
  {
   "cell_type": "code",
   "execution_count": 20,
   "id": "e6fe93ea",
   "metadata": {},
   "outputs": [
    {
     "data": {
      "text/plain": [
       "3          271\n",
       "20         287\n",
       "46         306\n",
       "58         318\n",
       "62         321\n",
       "         ...  \n",
       "61430    90699\n",
       "61455    91948\n",
       "61473    92005\n",
       "61498    94863\n",
       "61523    94937\n",
       "Name: SUBJECT_ID, Length: 5699, dtype: int64"
      ]
     },
     "execution_count": 20,
     "metadata": {},
     "output_type": "execute_result"
    }
   ],
   "source": [
    "icustays_df[icustays_df['FIRST_WARDID']!=icustays_df['LAST_WARDID']]['SUBJECT_ID']"
   ]
  },
  {
   "cell_type": "markdown",
   "id": "6745aec6",
   "metadata": {},
   "source": [
    "From the above code cells we can infer that there were quite a few transfers between different units and between different wards."
   ]
  }
 ],
 "metadata": {
  "kernelspec": {
   "display_name": "Python 3",
   "language": "python",
   "name": "python3"
  },
  "language_info": {
   "codemirror_mode": {
    "name": "ipython",
    "version": 3
   },
   "file_extension": ".py",
   "mimetype": "text/x-python",
   "name": "python",
   "nbconvert_exporter": "python",
   "pygments_lexer": "ipython3",
   "version": "3.8.8"
  }
 },
 "nbformat": 4,
 "nbformat_minor": 5
}
