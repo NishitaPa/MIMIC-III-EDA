{
 "cells": [
  {
   "cell_type": "markdown",
   "id": "8d10bdde",
   "metadata": {},
   "source": [
    "# MIMIC III"
   ]
  },
  {
   "cell_type": "markdown",
   "id": "9bafb024",
   "metadata": {},
   "source": [
    "MIMIC III stands for Medical Information Mart for Intensive Care III. It is a relational database that contains data relating to the patients who stayed within the intensive care units at Beth Israel Deaconess Medical Center. It contains health-related data associated with over forty thousand patients.\n",
    "\n",
    "The tables are linked by identifiers which usually have the suffix “ID”. For example HADM_ID refers to a unique hospital admission and SUBJECT_ID refers to a unique patient. One exception is ROW_ID, which is simply a row identifier unique to that table.\n",
    "\n",
    "According to the MIMIC III Documentation:\n",
    "    \n",
    "    All dates in the database have been shifted to protect patient confidentiality. Dates will be internally consistent for the same patient, but randomly distributed in the future. Dates of birth which occur in the present time are not true dates of birth. Furthermore, dates of birth which occur before the year 1900 occur if the patient is older than 89. In these cases, the patient’s age at their first admission has been fixed to 300.\n",
    "\n",
    "Day of week and seasons remain unchanged."
   ]
  },
  {
   "cell_type": "markdown",
   "id": "7e0b2bdc",
   "metadata": {},
   "source": [
    "This Exploratory Data Analysis will be divided into three parts. Namely Patient Information, Critical Care Unit Data, and Hospital Records."
   ]
  },
  {
   "cell_type": "markdown",
   "id": "630ef16a",
   "metadata": {},
   "source": [
    "There are also some dictionaries with this dataset as given below. <br>\n",
    "**D_CPT**: High-level dictionary of Current Procedural Terminology (CPT) codes <br>\n",
    "**D_ICD_DIAGNOSES**: Dictionary of International Statistical Classification of Diseases and Related Health Problems (ICD) codes relating to diagnoses <br>\n",
    "**D_ICD_PROCEDURES**: Dictionary of International Statistical Classification of Diseases and Related Health Problems (ICD) codes relating to procedures <br>\n",
    "**D_ITEMS**: Dictionary of ITEMIDs appearing in the MIMIC database, except those that relate to laboratory tests <br>\n",
    "**D_LABITEMS**: Dictionary of ITEMIDs in the laboratory database that relate to laboratory tests <br>"
   ]
  },
  {
   "cell_type": "markdown",
   "id": "dd31020a",
   "metadata": {},
   "source": [
    "All the information used in this notebook can be found on <br>\n",
    "https://mimic.mit.edu/iii/gettingstarted/overview/ <br>\n",
    "https://mit-lcp.github.io/mimic-schema-spy/index.html"
   ]
  },
  {
   "cell_type": "markdown",
   "id": "2bb97f7f",
   "metadata": {},
   "source": [
    "More information about the tables that the EDA was not performed on:"
   ]
  },
  {
   "cell_type": "markdown",
   "id": "0f272897",
   "metadata": {},
   "source": [
    "Let's take a look at the chartevents table. <br>\n",
    "CHARTEVENTS contains all the charted data available for a patient. During their ICU stay, the primary repository of a patient’s information is their electronic chart. The electronic chart displays patients' routine vital signs and any additional information relevant to their care: ventilator settings, laboratory values, code status, mental status, and so on.\n",
    "<br>\n",
    "![Column Info](../ChartEvents_Col.png \"Title\")"
   ]
  },
  {
   "cell_type": "markdown",
   "id": "453bd2f5",
   "metadata": {},
   "source": [
    "DATETIMEEVENTS contains all date measurements about a patient in the ICU.\n",
    "\n",
    "![Column Info](../DatetimeEvents_Col.png \"Title\")"
   ]
  },
  {
   "cell_type": "markdown",
   "id": "1b918316",
   "metadata": {},
   "source": [
    "Next we move on to the NOTEEVENTS table. <br>\n",
    "This table contains the notes associated with hospital stays.\n",
    "\n",
    "![Column Info](../NoteEvents_Col.png \"Title\")"
   ]
  }
 ],
 "metadata": {
  "kernelspec": {
   "display_name": "Python 3",
   "language": "python",
   "name": "python3"
  },
  "language_info": {
   "codemirror_mode": {
    "name": "ipython",
    "version": 3
   },
   "file_extension": ".py",
   "mimetype": "text/x-python",
   "name": "python",
   "nbconvert_exporter": "python",
   "pygments_lexer": "ipython3",
   "version": "3.8.8"
  }
 },
 "nbformat": 4,
 "nbformat_minor": 5
}
