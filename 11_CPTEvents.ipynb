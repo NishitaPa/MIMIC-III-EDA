{
 "cells": [
  {
   "cell_type": "markdown",
   "id": "7985d8a8",
   "metadata": {},
   "source": [
    "Now we move on to the **Hospital Records System** section."
   ]
  },
  {
   "cell_type": "markdown",
   "id": "abb07c55",
   "metadata": {},
   "source": [
    "We start with the CPTEVENTS table. \n",
    "CPT stands for Current Procedural Events."
   ]
  },
  {
   "cell_type": "markdown",
   "id": "ed7a2c47",
   "metadata": {},
   "source": [
    "Let's import the libraries that we'll need."
   ]
  },
  {
   "cell_type": "code",
   "execution_count": 1,
   "id": "280365fb",
   "metadata": {},
   "outputs": [],
   "source": [
    "import pandas as pd\n",
    "import numpy as np\n",
    "import matplotlib.pyplot as plt\n",
    "import seaborn as sns\n",
    "%matplotlib inline\n",
    "sns.set_style(style='whitegrid')"
   ]
  },
  {
   "cell_type": "code",
   "execution_count": 4,
   "id": "e0d4eedd",
   "metadata": {},
   "outputs": [],
   "source": [
    "cptevents_df = pd.read_csv('..\\Extracted CSVs\\CPTEVENTS.csv')"
   ]
  },
  {
   "cell_type": "markdown",
   "id": "d945e55b",
   "metadata": {},
   "source": [
    "Getting a feel of the data."
   ]
  },
  {
   "cell_type": "code",
   "execution_count": 5,
   "id": "90605b4d",
   "metadata": {},
   "outputs": [
    {
     "data": {
      "text/html": [
       "<div>\n",
       "<style scoped>\n",
       "    .dataframe tbody tr th:only-of-type {\n",
       "        vertical-align: middle;\n",
       "    }\n",
       "\n",
       "    .dataframe tbody tr th {\n",
       "        vertical-align: top;\n",
       "    }\n",
       "\n",
       "    .dataframe thead th {\n",
       "        text-align: right;\n",
       "    }\n",
       "</style>\n",
       "<table border=\"1\" class=\"dataframe\">\n",
       "  <thead>\n",
       "    <tr style=\"text-align: right;\">\n",
       "      <th></th>\n",
       "      <th>ROW_ID</th>\n",
       "      <th>SUBJECT_ID</th>\n",
       "      <th>HADM_ID</th>\n",
       "      <th>COSTCENTER</th>\n",
       "      <th>CHARTDATE</th>\n",
       "      <th>CPT_CD</th>\n",
       "      <th>CPT_NUMBER</th>\n",
       "      <th>CPT_SUFFIX</th>\n",
       "      <th>TICKET_ID_SEQ</th>\n",
       "      <th>SECTIONHEADER</th>\n",
       "      <th>SUBSECTIONHEADER</th>\n",
       "      <th>DESCRIPTION</th>\n",
       "    </tr>\n",
       "  </thead>\n",
       "  <tbody>\n",
       "    <tr>\n",
       "      <th>0</th>\n",
       "      <td>317</td>\n",
       "      <td>11743</td>\n",
       "      <td>129545</td>\n",
       "      <td>ICU</td>\n",
       "      <td>NaN</td>\n",
       "      <td>99232</td>\n",
       "      <td>99232.0</td>\n",
       "      <td>NaN</td>\n",
       "      <td>6.0</td>\n",
       "      <td>Evaluation and management</td>\n",
       "      <td>Hospital inpatient services</td>\n",
       "      <td>NaN</td>\n",
       "    </tr>\n",
       "    <tr>\n",
       "      <th>1</th>\n",
       "      <td>318</td>\n",
       "      <td>11743</td>\n",
       "      <td>129545</td>\n",
       "      <td>ICU</td>\n",
       "      <td>NaN</td>\n",
       "      <td>99232</td>\n",
       "      <td>99232.0</td>\n",
       "      <td>NaN</td>\n",
       "      <td>7.0</td>\n",
       "      <td>Evaluation and management</td>\n",
       "      <td>Hospital inpatient services</td>\n",
       "      <td>NaN</td>\n",
       "    </tr>\n",
       "    <tr>\n",
       "      <th>2</th>\n",
       "      <td>319</td>\n",
       "      <td>11743</td>\n",
       "      <td>129545</td>\n",
       "      <td>ICU</td>\n",
       "      <td>NaN</td>\n",
       "      <td>99232</td>\n",
       "      <td>99232.0</td>\n",
       "      <td>NaN</td>\n",
       "      <td>8.0</td>\n",
       "      <td>Evaluation and management</td>\n",
       "      <td>Hospital inpatient services</td>\n",
       "      <td>NaN</td>\n",
       "    </tr>\n",
       "    <tr>\n",
       "      <th>3</th>\n",
       "      <td>320</td>\n",
       "      <td>11743</td>\n",
       "      <td>129545</td>\n",
       "      <td>ICU</td>\n",
       "      <td>NaN</td>\n",
       "      <td>99232</td>\n",
       "      <td>99232.0</td>\n",
       "      <td>NaN</td>\n",
       "      <td>9.0</td>\n",
       "      <td>Evaluation and management</td>\n",
       "      <td>Hospital inpatient services</td>\n",
       "      <td>NaN</td>\n",
       "    </tr>\n",
       "    <tr>\n",
       "      <th>4</th>\n",
       "      <td>321</td>\n",
       "      <td>6185</td>\n",
       "      <td>183725</td>\n",
       "      <td>ICU</td>\n",
       "      <td>NaN</td>\n",
       "      <td>99223</td>\n",
       "      <td>99223.0</td>\n",
       "      <td>NaN</td>\n",
       "      <td>1.0</td>\n",
       "      <td>Evaluation and management</td>\n",
       "      <td>Hospital inpatient services</td>\n",
       "      <td>NaN</td>\n",
       "    </tr>\n",
       "  </tbody>\n",
       "</table>\n",
       "</div>"
      ],
      "text/plain": [
       "   ROW_ID  SUBJECT_ID  HADM_ID COSTCENTER CHARTDATE CPT_CD  CPT_NUMBER  \\\n",
       "0     317       11743   129545        ICU       NaN  99232     99232.0   \n",
       "1     318       11743   129545        ICU       NaN  99232     99232.0   \n",
       "2     319       11743   129545        ICU       NaN  99232     99232.0   \n",
       "3     320       11743   129545        ICU       NaN  99232     99232.0   \n",
       "4     321        6185   183725        ICU       NaN  99223     99223.0   \n",
       "\n",
       "  CPT_SUFFIX  TICKET_ID_SEQ              SECTIONHEADER  \\\n",
       "0        NaN            6.0  Evaluation and management   \n",
       "1        NaN            7.0  Evaluation and management   \n",
       "2        NaN            8.0  Evaluation and management   \n",
       "3        NaN            9.0  Evaluation and management   \n",
       "4        NaN            1.0  Evaluation and management   \n",
       "\n",
       "              SUBSECTIONHEADER DESCRIPTION  \n",
       "0  Hospital inpatient services         NaN  \n",
       "1  Hospital inpatient services         NaN  \n",
       "2  Hospital inpatient services         NaN  \n",
       "3  Hospital inpatient services         NaN  \n",
       "4  Hospital inpatient services         NaN  "
      ]
     },
     "execution_count": 5,
     "metadata": {},
     "output_type": "execute_result"
    }
   ],
   "source": [
    "cptevents_df.head()"
   ]
  },
  {
   "cell_type": "code",
   "execution_count": 6,
   "id": "e4b4a3e9",
   "metadata": {},
   "outputs": [
    {
     "name": "stdout",
     "output_type": "stream",
     "text": [
      "<class 'pandas.core.frame.DataFrame'>\n",
      "RangeIndex: 573146 entries, 0 to 573145\n",
      "Data columns (total 12 columns):\n",
      " #   Column            Non-Null Count   Dtype  \n",
      "---  ------            --------------   -----  \n",
      " 0   ROW_ID            573146 non-null  int64  \n",
      " 1   SUBJECT_ID        573146 non-null  int64  \n",
      " 2   HADM_ID           573146 non-null  int64  \n",
      " 3   COSTCENTER        573146 non-null  object \n",
      " 4   CHARTDATE         101545 non-null  object \n",
      " 5   CPT_CD            573146 non-null  object \n",
      " 6   CPT_NUMBER        573128 non-null  float64\n",
      " 7   CPT_SUFFIX        22 non-null      object \n",
      " 8   TICKET_ID_SEQ     471601 non-null  float64\n",
      " 9   SECTIONHEADER     573125 non-null  object \n",
      " 10  SUBSECTIONHEADER  573125 non-null  object \n",
      " 11  DESCRIPTION       101545 non-null  object \n",
      "dtypes: float64(2), int64(3), object(7)\n",
      "memory usage: 52.5+ MB\n"
     ]
    }
   ],
   "source": [
    "cptevents_df.info()"
   ]
  },
  {
   "cell_type": "code",
   "execution_count": 7,
   "id": "1ef31141",
   "metadata": {},
   "outputs": [
    {
     "data": {
      "text/plain": [
       "ICU     471601\n",
       "Resp    101545\n",
       "Name: COSTCENTER, dtype: int64"
      ]
     },
     "execution_count": 7,
     "metadata": {},
     "output_type": "execute_result"
    }
   ],
   "source": [
    "cptevents_df['COSTCENTER'].value_counts()"
   ]
  },
  {
   "cell_type": "markdown",
   "id": "cbb16190",
   "metadata": {},
   "source": [
    "COSTCENTER is the cost center which billed for the corresponding CPT codes. There are two possible cost centers: ‘ICU’ and ‘Resp’. ‘Resp’ codes correspond to mechanical or non-invasive ventilation and were billed by the respiratory therapist. ‘ICU’ codes correspond to the procedures billed for by the ICU.\n",
    "\n"
   ]
  },
  {
   "cell_type": "code",
   "execution_count": 8,
   "id": "b531074a",
   "metadata": {},
   "outputs": [
    {
     "data": {
      "text/plain": [
       "Evaluation and management    404388\n",
       "Medicine                     114194\n",
       "Surgery                       50807\n",
       "Radiology                      2974\n",
       "Anesthesia                      687\n",
       "Pathology and laboratory         53\n",
       "Emerging technology              22\n",
       "Name: SECTIONHEADER, dtype: int64"
      ]
     },
     "execution_count": 8,
     "metadata": {},
     "output_type": "execute_result"
    }
   ],
   "source": [
    "cptevents_df['SECTIONHEADER'].value_counts()"
   ]
  },
  {
   "cell_type": "markdown",
   "id": "bb359767",
   "metadata": {},
   "source": [
    "The section headers provide a category for the given CPT code"
   ]
  },
  {
   "cell_type": "code",
   "execution_count": 9,
   "id": "55d9be02",
   "metadata": {},
   "outputs": [
    {
     "data": {
      "text/plain": [
       "<AxesSubplot:>"
      ]
     },
     "execution_count": 9,
     "metadata": {},
     "output_type": "execute_result"
    },
    {
     "data": {
      "image/png": "[encoded data removed]",
      "text/plain": [
       "<Figure size 432x288 with 1 Axes>"
      ]
     },
     "metadata": {},
     "output_type": "display_data"
    }
   ],
   "source": [
    "cptevents_df['SECTIONHEADER'].value_counts().plot(kind='bar')"
   ]
  },
  {
   "cell_type": "code",
   "execution_count": 10,
   "id": "32136e9d",
   "metadata": {},
   "outputs": [
    {
     "data": {
      "text/plain": [
       "Hospital inpatient services                                                                                                                                                  268296\n",
       "Critical care services                                                                                                                                                       106469\n",
       "Pulmonary                                                                                                                                                                    101563\n",
       "Consultations                                                                                                                                                                 25925\n",
       "Cardiovascular system                                                                                                                                                         21485\n",
       "Respiratory system                                                                                                                                                            10516\n",
       "Dialysis                                                                                                                                                                       9778\n",
       "Musculoskeletal system                                                                                                                                                         6275\n",
       "Digestive system                                                                                                                                                               4979\n",
       "Nervous system                                                                                                                                                                 3662\n",
       "Follow-up inpatient consultations (deleted codes)                                                                                                                              2129\n",
       "Diagnostic ultrasound                                                                                                                                                          2118\n",
       "Integumentary system                                                                                                                                                           1776\n",
       "Prolonged services                                                                                                                                                             1052\n",
       "Cardiovascular                                                                                                                                                                  882\n",
       "Diagnostic imaging                                                                                                                                                              766\n",
       "Other procedures                                                                                                                                                                571\n",
       "Hemic and lymphatic systems                                                                                                                                                     554\n",
       "Physical medicine and rehabilitation                                                                                                                                            482\n",
       "Special services, procedures and reports                                                                                                                                        464\n",
       "Urinary system                                                                                                                                                                  455\n",
       "Operating microscope (deleted code)                                                                                                                                             435\n",
       "Noninvasive vascular diagnostic studies                                                                                                                                         409\n",
       "Psychiatry                                                                                                                                                                      407\n",
       "Male genital system                                                                                                                                                             304\n",
       "Hospital observation services                                                                                                                                                   189\n",
       "Case management services                                                                                                                                                        163\n",
       "Female genital system                                                                                                                                                           142\n",
       "Mediastinum and diaphragm                                                                                                                                                       126\n",
       "Hydration, therapeutic, prophylactic, diagnostic injections and infusions, and chemotherapy and other highly complex drug or highly complex biologic agent administration       100\n",
       "Confirmatory consultation for a new or established patient (deleted codes)                                                                                                       88\n",
       "Moderate (conscious) sedation                                                                                                                                                    79\n",
       "Bone/joint studies                                                                                                                                                               72\n",
       "Office/other outpatient services                                                                                                                                                 42\n",
       "Endocrine system                                                                                                                                                                 42\n",
       "Hematology and coagulation                                                                                                                                                       42\n",
       "Conscious sedation (deleted codes)                                                                                                                                               37\n",
       "Maternity care and delivery                                                                                                                                                      33\n",
       "Non-face-to-face nonphysician services                                                                                                                                           28\n",
       "Ophthalmology                                                                                                                                                                    24\n",
       "Temporary codes                                                                                                                                                                  22\n",
       "Eye and ocular adnexa                                                                                                                                                            21\n",
       "Central nervous system assessments/tests (neuro-cognitive, mental status, speech testing)                                                                                        19\n",
       "Neurology and neuromuscular procedures                                                                                                                                           18\n",
       "Radiologic guidance                                                                                                                                                              18\n",
       "Team Conferences (deleted codes)                                                                                                                                                 16\n",
       "End-Stage Renal Disease Services (deleted codes)                                                                                                                                 14\n",
       "Preventive medicine services                                                                                                                                                     13\n",
       "Chemistry                                                                                                                                                                        11\n",
       "Photodynamic therapy                                                                                                                                                              6\n",
       "Telephone care (deleted codes)                                                                                                                                                    4\n",
       "Non-face-to-face physician services                                                                                                                                               2\n",
       "Laparoscopy, Surgical; Cholecystectomy (deleted code)                                                                                                                             1\n",
       "General                                                                                                                                                                           1\n",
       "Name: SUBSECTIONHEADER, dtype: int64"
      ]
     },
     "execution_count": 10,
     "metadata": {},
     "output_type": "execute_result"
    }
   ],
   "source": [
    "cptevents_df['SUBSECTIONHEADER'].value_counts()"
   ]
  },
  {
   "cell_type": "code",
   "execution_count": 11,
   "id": "e1a0670f",
   "metadata": {},
   "outputs": [
    {
     "data": {
      "text/plain": [
       "54"
      ]
     },
     "execution_count": 11,
     "metadata": {},
     "output_type": "execute_result"
    }
   ],
   "source": [
    "len(cptevents_df['SUBSECTIONHEADER'].value_counts())"
   ]
  },
  {
   "cell_type": "markdown",
   "id": "cc5789b5",
   "metadata": {},
   "source": [
    "There are 54 different subsections."
   ]
  },
  {
   "cell_type": "code",
   "execution_count": 12,
   "id": "0d496fbb",
   "metadata": {},
   "outputs": [
    {
     "data": {
      "text/plain": [
       "SECTIONHEADER              SUBSECTIONHEADER                  \n",
       "Anesthesia                 Conscious sedation (deleted codes)     37\n",
       "                           Moderate (conscious) sedation          79\n",
       "                           Other procedures                      571\n",
       "Emerging technology        Temporary codes                        22\n",
       "Evaluation and management  Case management services              163\n",
       "Name: ROW_ID, dtype: int64"
      ]
     },
     "execution_count": 12,
     "metadata": {},
     "output_type": "execute_result"
    }
   ],
   "source": [
    "cptevents_df.groupby(['SECTIONHEADER', 'SUBSECTIONHEADER']).count()['ROW_ID'].head()\n"
   ]
  },
  {
   "cell_type": "code",
   "execution_count": 13,
   "id": "a479fa6b",
   "metadata": {},
   "outputs": [
    {
     "data": {
      "image/png": "[encoded data removed]",
      "text/plain": [
       "<Figure size 432x288 with 1 Axes>"
      ]
     },
     "metadata": {},
     "output_type": "display_data"
    }
   ],
   "source": [
    "cptevents_df['SUBSECTIONHEADER'].value_counts().head(7).plot(kind='bar')\n",
    "plt.tight_layout()\n"
   ]
  }
 ],
 "metadata": {
  "kernelspec": {
   "display_name": "Python 3",
   "language": "python",
   "name": "python3"
  },
  "language_info": {
   "codemirror_mode": {
    "name": "ipython",
    "version": 3
   },
   "file_extension": ".py",
   "mimetype": "text/x-python",
   "name": "python",
   "nbconvert_exporter": "python",
   "pygments_lexer": "ipython3",
   "version": "3.8.8"
  }
 },
 "nbformat": 4,
 "nbformat_minor": 5
}
