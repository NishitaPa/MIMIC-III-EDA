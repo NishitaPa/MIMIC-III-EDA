{
 "cells": [
  {
   "cell_type": "markdown",
   "id": "952eedbe",
   "metadata": {},
   "source": [
    "Now we move on to the next section. <br>\n",
    "#### CRITICAL CARE UNIT DATA"
   ]
  },
  {
   "cell_type": "markdown",
   "id": "50592130",
   "metadata": {},
   "source": [
    "Let's take a look at the caregivers assigned to the patients.\n",
    "\n",
    "Caregiver ID, CGID is a unique identifier for the caregivers."
   ]
  },
  {
   "cell_type": "markdown",
   "id": "4588d2bf",
   "metadata": {},
   "source": [
    "First we import some necessary libraries."
   ]
  },
  {
   "cell_type": "code",
   "execution_count": 1,
   "id": "d376f192",
   "metadata": {},
   "outputs": [],
   "source": [
    "import pandas as pd\n",
    "import numpy as np\n",
    "import matplotlib.pyplot as plt\n",
    "import seaborn as sns\n",
    "%matplotlib inline\n",
    "sns.set_style(style='whitegrid')"
   ]
  },
  {
   "cell_type": "code",
   "execution_count": 2,
   "id": "7b536548",
   "metadata": {},
   "outputs": [],
   "source": [
    "caregivers_df = pd.read_csv('..\\Extracted CSVs\\CAREGIVERS.csv')"
   ]
  },
  {
   "cell_type": "markdown",
   "id": "414bbed4",
   "metadata": {},
   "source": [
    "Getting a feel of the data."
   ]
  },
  {
   "cell_type": "code",
   "execution_count": 3,
   "id": "1f13b4c6",
   "metadata": {},
   "outputs": [
    {
     "data": {
      "text/html": [
       "<div>\n",
       "<style scoped>\n",
       "    .dataframe tbody tr th:only-of-type {\n",
       "        vertical-align: middle;\n",
       "    }\n",
       "\n",
       "    .dataframe tbody tr th {\n",
       "        vertical-align: top;\n",
       "    }\n",
       "\n",
       "    .dataframe thead th {\n",
       "        text-align: right;\n",
       "    }\n",
       "</style>\n",
       "<table border=\"1\" class=\"dataframe\">\n",
       "  <thead>\n",
       "    <tr style=\"text-align: right;\">\n",
       "      <th></th>\n",
       "      <th>ROW_ID</th>\n",
       "      <th>CGID</th>\n",
       "      <th>LABEL</th>\n",
       "      <th>DESCRIPTION</th>\n",
       "    </tr>\n",
       "  </thead>\n",
       "  <tbody>\n",
       "    <tr>\n",
       "      <th>0</th>\n",
       "      <td>2228</td>\n",
       "      <td>16174</td>\n",
       "      <td>RO</td>\n",
       "      <td>Read Only</td>\n",
       "    </tr>\n",
       "    <tr>\n",
       "      <th>1</th>\n",
       "      <td>2229</td>\n",
       "      <td>16175</td>\n",
       "      <td>RO</td>\n",
       "      <td>Read Only</td>\n",
       "    </tr>\n",
       "    <tr>\n",
       "      <th>2</th>\n",
       "      <td>2230</td>\n",
       "      <td>16176</td>\n",
       "      <td>Res</td>\n",
       "      <td>Resident/Fellow/PA/NP</td>\n",
       "    </tr>\n",
       "    <tr>\n",
       "      <th>3</th>\n",
       "      <td>2231</td>\n",
       "      <td>16177</td>\n",
       "      <td>RO</td>\n",
       "      <td>Read Only</td>\n",
       "    </tr>\n",
       "    <tr>\n",
       "      <th>4</th>\n",
       "      <td>2232</td>\n",
       "      <td>16178</td>\n",
       "      <td>RT</td>\n",
       "      <td>Respiratory</td>\n",
       "    </tr>\n",
       "  </tbody>\n",
       "</table>\n",
       "</div>"
      ],
      "text/plain": [
       "   ROW_ID   CGID LABEL            DESCRIPTION\n",
       "0    2228  16174    RO              Read Only\n",
       "1    2229  16175    RO              Read Only\n",
       "2    2230  16176   Res  Resident/Fellow/PA/NP\n",
       "3    2231  16177    RO              Read Only\n",
       "4    2232  16178    RT            Respiratory"
      ]
     },
     "execution_count": 3,
     "metadata": {},
     "output_type": "execute_result"
    }
   ],
   "source": [
    "caregivers_df.head()"
   ]
  },
  {
   "cell_type": "code",
   "execution_count": 4,
   "id": "390604d4",
   "metadata": {},
   "outputs": [
    {
     "name": "stdout",
     "output_type": "stream",
     "text": [
      "<class 'pandas.core.frame.DataFrame'>\n",
      "RangeIndex: 7567 entries, 0 to 7566\n",
      "Data columns (total 4 columns):\n",
      " #   Column       Non-Null Count  Dtype \n",
      "---  ------       --------------  ----- \n",
      " 0   ROW_ID       7567 non-null   int64 \n",
      " 1   CGID         7567 non-null   int64 \n",
      " 2   LABEL        7518 non-null   object\n",
      " 3   DESCRIPTION  5155 non-null   object\n",
      "dtypes: int64(2), object(2)\n",
      "memory usage: 236.6+ KB\n"
     ]
    }
   ],
   "source": [
    "caregivers_df.info()"
   ]
  },
  {
   "cell_type": "markdown",
   "id": "0958ba58",
   "metadata": {},
   "source": [
    "Let's take a look at the description of the caregivers."
   ]
  },
  {
   "cell_type": "code",
   "execution_count": 5,
   "id": "ae4b55f2",
   "metadata": {},
   "outputs": [
    {
     "data": {
      "text/plain": [
       "Read Only                1954\n",
       "Resident/Fellow/PA/NP    1546\n",
       "RN                        600\n",
       "Attending                 189\n",
       "Rehabilitation            173\n",
       "Respiratory               121\n",
       "PCT/NA                    121\n",
       "Pharmacist                 85\n",
       "Dietitian                  82\n",
       "UCO                        71\n",
       "Social Worker              71\n",
       "Case Manager               70\n",
       "Administrator              28\n",
       "Pastoral Care              23\n",
       "Research Assistant         11\n",
       "IMD                        10\n",
       "Name: DESCRIPTION, dtype: int64"
      ]
     },
     "execution_count": 5,
     "metadata": {},
     "output_type": "execute_result"
    }
   ],
   "source": [
    "caregivers_df['DESCRIPTION'].value_counts()"
   ]
  },
  {
   "cell_type": "code",
   "execution_count": 6,
   "id": "70cd2104",
   "metadata": {},
   "outputs": [
    {
     "data": {
      "text/plain": [
       "<AxesSubplot:>"
      ]
     },
     "execution_count": 6,
     "metadata": {},
     "output_type": "execute_result"
    },
    {
     "data": {
      "image/png": "[encoded data removed]",
      "text/plain": [
       "<Figure size 432x288 with 1 Axes>"
      ]
     },
     "metadata": {},
     "output_type": "display_data"
    }
   ],
   "source": [
    "caregivers_df['DESCRIPTION'].value_counts().plot(kind='bar')"
   ]
  },
  {
   "cell_type": "markdown",
   "id": "c9b15324",
   "metadata": {},
   "source": [
    "LABEL defines the type of caregiver: e.g. RN, MD, PharmD, etc. Note that LABEL is a free text field and as such contains many typographical errors and spelling variants of the same concept (e.g. MD, MDs, M.D.)."
   ]
  },
  {
   "cell_type": "markdown",
   "id": "25786ce1",
   "metadata": {},
   "source": [
    "Let's take a look at the 10 most frequent LABELs present in the dataframe."
   ]
  },
  {
   "cell_type": "code",
   "execution_count": 7,
   "id": "80676f81",
   "metadata": {},
   "outputs": [
    {
     "data": {
      "text/plain": [
       "<AxesSubplot:>"
      ]
     },
     "execution_count": 7,
     "metadata": {},
     "output_type": "execute_result"
    },
    {
     "data": {
      "image/png": "[encoded data removed]",
      "text/plain": [
       "<Figure size 1440x576 with 1 Axes>"
      ]
     },
     "metadata": {},
     "output_type": "display_data"
    }
   ],
   "source": [
    "plt.figure(figsize=(20,8))\n",
    "caregivers_df['LABEL'].value_counts().head(10).plot(kind='bar')"
   ]
  },
  {
   "cell_type": "code",
   "execution_count": 8,
   "id": "3217e923",
   "metadata": {},
   "outputs": [
    {
     "data": {
      "text/plain": [
       "RO       1658\n",
       "MD       1380\n",
       "Res      1238\n",
       "RN       1185\n",
       "MDs       226\n",
       "Rehab     167\n",
       "RRT       131\n",
       "PCT       111\n",
       "MS        111\n",
       "RPH        78\n",
       "Name: LABEL, dtype: int64"
      ]
     },
     "execution_count": 8,
     "metadata": {},
     "output_type": "execute_result"
    }
   ],
   "source": [
    "caregivers_df['LABEL'].value_counts().head(10)"
   ]
  }
 ],
 "metadata": {
  "kernelspec": {
   "display_name": "Python 3",
   "language": "python",
   "name": "python3"
  },
  "language_info": {
   "codemirror_mode": {
    "name": "ipython",
    "version": 3
   },
   "file_extension": ".py",
   "mimetype": "text/x-python",
   "name": "python",
   "nbconvert_exporter": "python",
   "pygments_lexer": "ipython3",
   "version": "3.8.8"
  }
 },
 "nbformat": 4,
 "nbformat_minor": 5
}
