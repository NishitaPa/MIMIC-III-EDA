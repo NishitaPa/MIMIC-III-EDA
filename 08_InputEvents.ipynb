{
 "cells": [
  {
   "cell_type": "markdown",
   "id": "ad7210d6",
   "metadata": {},
   "source": [
    "Next we take a look at the INPUTEVENTS_CV table."
   ]
  },
  {
   "cell_type": "markdown",
   "id": "e6d8306d",
   "metadata": {},
   "source": [
    "Let's start by importing the libraries that we will need."
   ]
  },
  {
   "cell_type": "code",
   "execution_count": 1,
   "id": "526138ac",
   "metadata": {},
   "outputs": [],
   "source": [
    "import pandas as pd\n",
    "import numpy as np\n",
    "import matplotlib.pyplot as plt\n",
    "import seaborn as sns\n",
    "%matplotlib inline\n",
    "sns.set_style(style='whitegrid')"
   ]
  },
  {
   "cell_type": "code",
   "execution_count": 2,
   "id": "f7c928fd",
   "metadata": {},
   "outputs": [
    {
     "name": "stderr",
     "output_type": "stream",
     "text": [
      "C:\\ProgramData\\Anaconda3\\lib\\site-packages\\IPython\\core\\interactiveshell.py:3165: DtypeWarning: Columns (7,9,17,20,21) have mixed types.Specify dtype option on import or set low_memory=False.\n",
      "  has_raised = await self.run_ast_nodes(code_ast.body, cell_name,\n"
     ]
    }
   ],
   "source": [
    "inputevents_cv_df = pd.read_csv('../Extracted CSVs/INPUTEVENTS_CV.csv')"
   ]
  },
  {
   "cell_type": "markdown",
   "id": "47bcb409",
   "metadata": {},
   "source": [
    "Getting a feel of the data."
   ]
  },
  {
   "cell_type": "code",
   "execution_count": 3,
   "id": "0454f0c1",
   "metadata": {},
   "outputs": [
    {
     "data": {
      "text/plain": [
       "Index(['ROW_ID', 'SUBJECT_ID', 'HADM_ID', 'ICUSTAY_ID', 'CHARTTIME', 'ITEMID',\n",
       "       'AMOUNT', 'AMOUNTUOM', 'RATE', 'RATEUOM', 'STORETIME', 'CGID',\n",
       "       'ORDERID', 'LINKORDERID', 'STOPPED', 'NEWBOTTLE', 'ORIGINALAMOUNT',\n",
       "       'ORIGINALAMOUNTUOM', 'ORIGINALROUTE', 'ORIGINALRATE', 'ORIGINALRATEUOM',\n",
       "       'ORIGINALSITE'],\n",
       "      dtype='object')"
      ]
     },
     "execution_count": 3,
     "metadata": {},
     "output_type": "execute_result"
    }
   ],
   "source": [
    "inputevents_cv_df.columns"
   ]
  },
  {
   "cell_type": "code",
   "execution_count": 4,
   "id": "84cd1d7d",
   "metadata": {},
   "outputs": [
    {
     "data": {
      "text/html": [
       "<div>\n",
       "<style scoped>\n",
       "    .dataframe tbody tr th:only-of-type {\n",
       "        vertical-align: middle;\n",
       "    }\n",
       "\n",
       "    .dataframe tbody tr th {\n",
       "        vertical-align: top;\n",
       "    }\n",
       "\n",
       "    .dataframe thead th {\n",
       "        text-align: right;\n",
       "    }\n",
       "</style>\n",
       "<table border=\"1\" class=\"dataframe\">\n",
       "  <thead>\n",
       "    <tr style=\"text-align: right;\">\n",
       "      <th></th>\n",
       "      <th>ROW_ID</th>\n",
       "      <th>SUBJECT_ID</th>\n",
       "      <th>HADM_ID</th>\n",
       "      <th>ICUSTAY_ID</th>\n",
       "      <th>CHARTTIME</th>\n",
       "      <th>ITEMID</th>\n",
       "      <th>AMOUNT</th>\n",
       "      <th>AMOUNTUOM</th>\n",
       "      <th>RATE</th>\n",
       "      <th>RATEUOM</th>\n",
       "      <th>...</th>\n",
       "      <th>ORDERID</th>\n",
       "      <th>LINKORDERID</th>\n",
       "      <th>STOPPED</th>\n",
       "      <th>NEWBOTTLE</th>\n",
       "      <th>ORIGINALAMOUNT</th>\n",
       "      <th>ORIGINALAMOUNTUOM</th>\n",
       "      <th>ORIGINALROUTE</th>\n",
       "      <th>ORIGINALRATE</th>\n",
       "      <th>ORIGINALRATEUOM</th>\n",
       "      <th>ORIGINALSITE</th>\n",
       "    </tr>\n",
       "  </thead>\n",
       "  <tbody>\n",
       "    <tr>\n",
       "      <th>0</th>\n",
       "      <td>592</td>\n",
       "      <td>24457</td>\n",
       "      <td>184834.0</td>\n",
       "      <td>205776.0</td>\n",
       "      <td>2193-09-11 09:00:00</td>\n",
       "      <td>30056</td>\n",
       "      <td>100.0</td>\n",
       "      <td>ml</td>\n",
       "      <td>NaN</td>\n",
       "      <td>NaN</td>\n",
       "      <td>...</td>\n",
       "      <td>756654</td>\n",
       "      <td>9359133</td>\n",
       "      <td>NaN</td>\n",
       "      <td>NaN</td>\n",
       "      <td>NaN</td>\n",
       "      <td>ml</td>\n",
       "      <td>Oral</td>\n",
       "      <td>NaN</td>\n",
       "      <td>NaN</td>\n",
       "      <td>NaN</td>\n",
       "    </tr>\n",
       "    <tr>\n",
       "      <th>1</th>\n",
       "      <td>593</td>\n",
       "      <td>24457</td>\n",
       "      <td>184834.0</td>\n",
       "      <td>205776.0</td>\n",
       "      <td>2193-09-11 12:00:00</td>\n",
       "      <td>30056</td>\n",
       "      <td>200.0</td>\n",
       "      <td>ml</td>\n",
       "      <td>NaN</td>\n",
       "      <td>NaN</td>\n",
       "      <td>...</td>\n",
       "      <td>3564075</td>\n",
       "      <td>9359133</td>\n",
       "      <td>NaN</td>\n",
       "      <td>NaN</td>\n",
       "      <td>NaN</td>\n",
       "      <td>ml</td>\n",
       "      <td>Oral</td>\n",
       "      <td>NaN</td>\n",
       "      <td>NaN</td>\n",
       "      <td>NaN</td>\n",
       "    </tr>\n",
       "    <tr>\n",
       "      <th>2</th>\n",
       "      <td>594</td>\n",
       "      <td>24457</td>\n",
       "      <td>184834.0</td>\n",
       "      <td>205776.0</td>\n",
       "      <td>2193-09-11 16:00:00</td>\n",
       "      <td>30056</td>\n",
       "      <td>160.0</td>\n",
       "      <td>ml</td>\n",
       "      <td>NaN</td>\n",
       "      <td>NaN</td>\n",
       "      <td>...</td>\n",
       "      <td>422646</td>\n",
       "      <td>9359133</td>\n",
       "      <td>NaN</td>\n",
       "      <td>NaN</td>\n",
       "      <td>NaN</td>\n",
       "      <td>ml</td>\n",
       "      <td>Oral</td>\n",
       "      <td>NaN</td>\n",
       "      <td>NaN</td>\n",
       "      <td>NaN</td>\n",
       "    </tr>\n",
       "    <tr>\n",
       "      <th>3</th>\n",
       "      <td>595</td>\n",
       "      <td>24457</td>\n",
       "      <td>184834.0</td>\n",
       "      <td>205776.0</td>\n",
       "      <td>2193-09-11 19:00:00</td>\n",
       "      <td>30056</td>\n",
       "      <td>240.0</td>\n",
       "      <td>ml</td>\n",
       "      <td>NaN</td>\n",
       "      <td>NaN</td>\n",
       "      <td>...</td>\n",
       "      <td>5137889</td>\n",
       "      <td>9359133</td>\n",
       "      <td>NaN</td>\n",
       "      <td>NaN</td>\n",
       "      <td>NaN</td>\n",
       "      <td>ml</td>\n",
       "      <td>Oral</td>\n",
       "      <td>NaN</td>\n",
       "      <td>NaN</td>\n",
       "      <td>NaN</td>\n",
       "    </tr>\n",
       "    <tr>\n",
       "      <th>4</th>\n",
       "      <td>596</td>\n",
       "      <td>24457</td>\n",
       "      <td>184834.0</td>\n",
       "      <td>205776.0</td>\n",
       "      <td>2193-09-11 21:00:00</td>\n",
       "      <td>30056</td>\n",
       "      <td>50.0</td>\n",
       "      <td>ml</td>\n",
       "      <td>NaN</td>\n",
       "      <td>NaN</td>\n",
       "      <td>...</td>\n",
       "      <td>8343792</td>\n",
       "      <td>9359133</td>\n",
       "      <td>NaN</td>\n",
       "      <td>NaN</td>\n",
       "      <td>NaN</td>\n",
       "      <td>ml</td>\n",
       "      <td>Oral</td>\n",
       "      <td>NaN</td>\n",
       "      <td>NaN</td>\n",
       "      <td>NaN</td>\n",
       "    </tr>\n",
       "  </tbody>\n",
       "</table>\n",
       "<p>5 rows × 22 columns</p>\n",
       "</div>"
      ],
      "text/plain": [
       "   ROW_ID  SUBJECT_ID   HADM_ID  ICUSTAY_ID            CHARTTIME  ITEMID  \\\n",
       "0     592       24457  184834.0    205776.0  2193-09-11 09:00:00   30056   \n",
       "1     593       24457  184834.0    205776.0  2193-09-11 12:00:00   30056   \n",
       "2     594       24457  184834.0    205776.0  2193-09-11 16:00:00   30056   \n",
       "3     595       24457  184834.0    205776.0  2193-09-11 19:00:00   30056   \n",
       "4     596       24457  184834.0    205776.0  2193-09-11 21:00:00   30056   \n",
       "\n",
       "   AMOUNT AMOUNTUOM  RATE RATEUOM  ...  ORDERID  LINKORDERID  STOPPED  \\\n",
       "0   100.0        ml   NaN     NaN  ...   756654      9359133      NaN   \n",
       "1   200.0        ml   NaN     NaN  ...  3564075      9359133      NaN   \n",
       "2   160.0        ml   NaN     NaN  ...   422646      9359133      NaN   \n",
       "3   240.0        ml   NaN     NaN  ...  5137889      9359133      NaN   \n",
       "4    50.0        ml   NaN     NaN  ...  8343792      9359133      NaN   \n",
       "\n",
       "   NEWBOTTLE ORIGINALAMOUNT  ORIGINALAMOUNTUOM  ORIGINALROUTE ORIGINALRATE  \\\n",
       "0        NaN            NaN                 ml           Oral          NaN   \n",
       "1        NaN            NaN                 ml           Oral          NaN   \n",
       "2        NaN            NaN                 ml           Oral          NaN   \n",
       "3        NaN            NaN                 ml           Oral          NaN   \n",
       "4        NaN            NaN                 ml           Oral          NaN   \n",
       "\n",
       "  ORIGINALRATEUOM  ORIGINALSITE  \n",
       "0             NaN           NaN  \n",
       "1             NaN           NaN  \n",
       "2             NaN           NaN  \n",
       "3             NaN           NaN  \n",
       "4             NaN           NaN  \n",
       "\n",
       "[5 rows x 22 columns]"
      ]
     },
     "execution_count": 4,
     "metadata": {},
     "output_type": "execute_result"
    }
   ],
   "source": [
    "inputevents_cv_df.head()"
   ]
  },
  {
   "cell_type": "code",
   "execution_count": 5,
   "id": "bc736f2f",
   "metadata": {},
   "outputs": [
    {
     "name": "stdout",
     "output_type": "stream",
     "text": [
      "<class 'pandas.core.frame.DataFrame'>\n",
      "RangeIndex: 17527935 entries, 0 to 17527934\n",
      "Data columns (total 22 columns):\n",
      " #   Column             Dtype  \n",
      "---  ------             -----  \n",
      " 0   ROW_ID             int64  \n",
      " 1   SUBJECT_ID         int64  \n",
      " 2   HADM_ID            float64\n",
      " 3   ICUSTAY_ID         float64\n",
      " 4   CHARTTIME          object \n",
      " 5   ITEMID             int64  \n",
      " 6   AMOUNT             float64\n",
      " 7   AMOUNTUOM          object \n",
      " 8   RATE               float64\n",
      " 9   RATEUOM            object \n",
      " 10  STORETIME          object \n",
      " 11  CGID               float64\n",
      " 12  ORDERID            int64  \n",
      " 13  LINKORDERID        int64  \n",
      " 14  STOPPED            object \n",
      " 15  NEWBOTTLE          float64\n",
      " 16  ORIGINALAMOUNT     float64\n",
      " 17  ORIGINALAMOUNTUOM  object \n",
      " 18  ORIGINALROUTE      object \n",
      " 19  ORIGINALRATE       float64\n",
      " 20  ORIGINALRATEUOM    object \n",
      " 21  ORIGINALSITE       object \n",
      "dtypes: float64(8), int64(5), object(9)\n",
      "memory usage: 2.9+ GB\n"
     ]
    }
   ],
   "source": [
    "inputevents_cv_df.info()"
   ]
  },
  {
   "cell_type": "markdown",
   "id": "15522578",
   "metadata": {},
   "source": [
    "The next line of code tells us how many times a patient receieved a new bottle of input item."
   ]
  },
  {
   "cell_type": "code",
   "execution_count": 10,
   "id": "cb0902c0",
   "metadata": {},
   "outputs": [
    {
     "data": {
      "text/plain": [
       "245899"
      ]
     },
     "execution_count": 10,
     "metadata": {},
     "output_type": "execute_result"
    }
   ],
   "source": [
    "inputevents_cv_df[inputevents_cv_df['NEWBOTTLE'].notnull()].count()['ROW_ID']"
   ]
  },
  {
   "cell_type": "code",
   "execution_count": 12,
   "id": "cf7e2b8f",
   "metadata": {},
   "outputs": [
    {
     "data": {
      "text/plain": [
       "168         19246\n",
       "1128         2187\n",
       "2530         4371\n",
       "2661        26176\n",
       "3287        17357\n",
       "            ...  \n",
       "14053318    31056\n",
       "14053319    31056\n",
       "14053320    31056\n",
       "14061727    27382\n",
       "14061741    31263\n",
       "Name: SUBJECT_ID, Length: 245899, dtype: int64"
      ]
     },
     "execution_count": 12,
     "metadata": {},
     "output_type": "execute_result"
    }
   ],
   "source": [
    "inputevents_cv_df[inputevents_cv_df['NEWBOTTLE'].notnull()]['SUBJECT_ID']"
   ]
  },
  {
   "cell_type": "code",
   "execution_count": 13,
   "id": "057bd286",
   "metadata": {},
   "outputs": [
    {
     "data": {
      "text/plain": [
       "Intravenous Push        9215677\n",
       "IV Drip                 4131467\n",
       "Intravenous             1252093\n",
       "Gastric/Feeding Tube    1066706\n",
       "Nasogastric              725631\n",
       "Intravenous Infusion     480507\n",
       "By Mouth                 312249\n",
       "Oral                     188113\n",
       "Drip                      40709\n",
       "GU                         5408\n",
       "IV Piggyback               1413\n",
       "Oral or Nasogastric        1279\n",
       "Name: ORIGINALROUTE, dtype: int64"
      ]
     },
     "execution_count": 13,
     "metadata": {},
     "output_type": "execute_result"
    }
   ],
   "source": [
    "inputevents_cv_df['ORIGINALROUTE'].value_counts()"
   ]
  },
  {
   "cell_type": "markdown",
   "id": "d227da72",
   "metadata": {},
   "source": [
    "This is how the input item/solution was administered to the patients."
   ]
  },
  {
   "cell_type": "code",
   "execution_count": 14,
   "id": "3a98aa96",
   "metadata": {},
   "outputs": [
    {
     "data": {
      "text/plain": [
       "<AxesSubplot:>"
      ]
     },
     "execution_count": 14,
     "metadata": {},
     "output_type": "execute_result"
    },
    {
     "data": {
      "image/png": "[encoded data removed]",
      "text/plain": [
       "<Figure size 432x288 with 1 Axes>"
      ]
     },
     "metadata": {},
     "output_type": "display_data"
    }
   ],
   "source": [
    "inputevents_cv_df['ORIGINALROUTE'].value_counts().plot(kind='bar')"
   ]
  },
  {
   "cell_type": "code",
   "execution_count": 15,
   "id": "95098292",
   "metadata": {},
   "outputs": [
    {
     "data": {
      "text/plain": [
       "PO / NG                 26917\n",
       "Right Int. Jugular      25420\n",
       "Right Arm               21529\n",
       "UVC                     17895\n",
       "Left Arm                17321\n",
       "Left Subclavian         14674\n",
       "Right Subclavian        12182\n",
       "Percutaneous Cath       12075\n",
       "Left Int. Jugular        5995\n",
       "Right Hand               4825\n",
       "UAC                      4589\n",
       "Right Femoral            4338\n",
       "Left Hand                2614\n",
       "Left Femoral             1632\n",
       "Umb Venous Primary       1594\n",
       "Umb Venous Secondary     1172\n",
       "Left Foot                 987\n",
       "Right Foot                542\n",
       "Right Leg                 521\n",
       "Peripheral Arterial       329\n",
       "Scalp                     251\n",
       "Left Leg                  170\n",
       "Name: ORIGINALSITE, dtype: int64"
      ]
     },
     "execution_count": 15,
     "metadata": {},
     "output_type": "execute_result"
    }
   ],
   "source": [
    "inputevents_cv_df['ORIGINALSITE'].value_counts()"
   ]
  },
  {
   "cell_type": "markdown",
   "id": "dd691d2d",
   "metadata": {},
   "source": [
    "This is the original site of administration."
   ]
  },
  {
   "cell_type": "code",
   "execution_count": 16,
   "id": "fb8946be",
   "metadata": {},
   "outputs": [
    {
     "data": {
      "text/plain": [
       "<AxesSubplot:>"
      ]
     },
     "execution_count": 16,
     "metadata": {},
     "output_type": "execute_result"
    },
    {
     "data": {
      "image/png": "[encoded data removed]",
      "text/plain": [
       "<Figure size 432x288 with 1 Axes>"
      ]
     },
     "metadata": {},
     "output_type": "display_data"
    }
   ],
   "source": [
    "inputevents_cv_df['ORIGINALSITE'].value_counts().head(10).plot(kind='bar')"
   ]
  },
  {
   "cell_type": "markdown",
   "id": "ccab3d9b",
   "metadata": {},
   "source": [
    "Next we take a look at the INPUTEVENTS_MV Table. The difference between the tables is the system used to monitor inputs. CV corresponds to Philips CareVue and MV corresponds to iMDSoft Metavision."
   ]
  },
  {
   "cell_type": "code",
   "execution_count": 17,
   "id": "a464b701",
   "metadata": {},
   "outputs": [],
   "source": [
    "inputevents_mv_df = pd.read_csv('../Extracted CSVs/INPUTEVENTS_MV.csv')"
   ]
  },
  {
   "cell_type": "markdown",
   "id": "638682fd",
   "metadata": {},
   "source": [
    "Let's get a feel of the data."
   ]
  },
  {
   "cell_type": "code",
   "execution_count": 18,
   "id": "f5b5afc6",
   "metadata": {},
   "outputs": [
    {
     "data": {
      "text/html": [
       "<div>\n",
       "<style scoped>\n",
       "    .dataframe tbody tr th:only-of-type {\n",
       "        vertical-align: middle;\n",
       "    }\n",
       "\n",
       "    .dataframe tbody tr th {\n",
       "        vertical-align: top;\n",
       "    }\n",
       "\n",
       "    .dataframe thead th {\n",
       "        text-align: right;\n",
       "    }\n",
       "</style>\n",
       "<table border=\"1\" class=\"dataframe\">\n",
       "  <thead>\n",
       "    <tr style=\"text-align: right;\">\n",
       "      <th></th>\n",
       "      <th>ROW_ID</th>\n",
       "      <th>SUBJECT_ID</th>\n",
       "      <th>HADM_ID</th>\n",
       "      <th>ICUSTAY_ID</th>\n",
       "      <th>STARTTIME</th>\n",
       "      <th>ENDTIME</th>\n",
       "      <th>ITEMID</th>\n",
       "      <th>AMOUNT</th>\n",
       "      <th>AMOUNTUOM</th>\n",
       "      <th>RATE</th>\n",
       "      <th>...</th>\n",
       "      <th>TOTALAMOUNTUOM</th>\n",
       "      <th>ISOPENBAG</th>\n",
       "      <th>CONTINUEINNEXTDEPT</th>\n",
       "      <th>CANCELREASON</th>\n",
       "      <th>STATUSDESCRIPTION</th>\n",
       "      <th>COMMENTS_EDITEDBY</th>\n",
       "      <th>COMMENTS_CANCELEDBY</th>\n",
       "      <th>COMMENTS_DATE</th>\n",
       "      <th>ORIGINALAMOUNT</th>\n",
       "      <th>ORIGINALRATE</th>\n",
       "    </tr>\n",
       "  </thead>\n",
       "  <tbody>\n",
       "    <tr>\n",
       "      <th>0</th>\n",
       "      <td>241</td>\n",
       "      <td>27063</td>\n",
       "      <td>139787</td>\n",
       "      <td>223259.0</td>\n",
       "      <td>2133-02-05 06:29:00</td>\n",
       "      <td>2133-02-05 08:45:00</td>\n",
       "      <td>225166</td>\n",
       "      <td>6.774532</td>\n",
       "      <td>mEq</td>\n",
       "      <td>NaN</td>\n",
       "      <td>...</td>\n",
       "      <td>ml</td>\n",
       "      <td>0</td>\n",
       "      <td>0</td>\n",
       "      <td>1</td>\n",
       "      <td>Rewritten</td>\n",
       "      <td>NaN</td>\n",
       "      <td>RN</td>\n",
       "      <td>2133-02-05 12:52:00</td>\n",
       "      <td>10.000000</td>\n",
       "      <td>0.050000</td>\n",
       "    </tr>\n",
       "    <tr>\n",
       "      <th>1</th>\n",
       "      <td>242</td>\n",
       "      <td>27063</td>\n",
       "      <td>139787</td>\n",
       "      <td>223259.0</td>\n",
       "      <td>2133-02-05 05:34:00</td>\n",
       "      <td>2133-02-05 06:30:00</td>\n",
       "      <td>225944</td>\n",
       "      <td>28.132997</td>\n",
       "      <td>ml</td>\n",
       "      <td>30.142497</td>\n",
       "      <td>...</td>\n",
       "      <td>ml</td>\n",
       "      <td>0</td>\n",
       "      <td>0</td>\n",
       "      <td>0</td>\n",
       "      <td>FinishedRunning</td>\n",
       "      <td>NaN</td>\n",
       "      <td>NaN</td>\n",
       "      <td>NaN</td>\n",
       "      <td>28.132998</td>\n",
       "      <td>30.255817</td>\n",
       "    </tr>\n",
       "    <tr>\n",
       "      <th>2</th>\n",
       "      <td>243</td>\n",
       "      <td>27063</td>\n",
       "      <td>139787</td>\n",
       "      <td>223259.0</td>\n",
       "      <td>2133-02-05 05:34:00</td>\n",
       "      <td>2133-02-05 06:30:00</td>\n",
       "      <td>225166</td>\n",
       "      <td>2.813300</td>\n",
       "      <td>mEq</td>\n",
       "      <td>NaN</td>\n",
       "      <td>...</td>\n",
       "      <td>ml</td>\n",
       "      <td>0</td>\n",
       "      <td>0</td>\n",
       "      <td>0</td>\n",
       "      <td>FinishedRunning</td>\n",
       "      <td>NaN</td>\n",
       "      <td>NaN</td>\n",
       "      <td>NaN</td>\n",
       "      <td>2.813300</td>\n",
       "      <td>0.050426</td>\n",
       "    </tr>\n",
       "    <tr>\n",
       "      <th>3</th>\n",
       "      <td>244</td>\n",
       "      <td>27063</td>\n",
       "      <td>139787</td>\n",
       "      <td>223259.0</td>\n",
       "      <td>2133-02-03 12:00:00</td>\n",
       "      <td>2133-02-03 12:01:00</td>\n",
       "      <td>225893</td>\n",
       "      <td>1.000000</td>\n",
       "      <td>dose</td>\n",
       "      <td>NaN</td>\n",
       "      <td>...</td>\n",
       "      <td>ml</td>\n",
       "      <td>0</td>\n",
       "      <td>0</td>\n",
       "      <td>2</td>\n",
       "      <td>Rewritten</td>\n",
       "      <td>RN</td>\n",
       "      <td>NaN</td>\n",
       "      <td>2133-02-03 17:06:00</td>\n",
       "      <td>1.000000</td>\n",
       "      <td>1.000000</td>\n",
       "    </tr>\n",
       "    <tr>\n",
       "      <th>4</th>\n",
       "      <td>245</td>\n",
       "      <td>27063</td>\n",
       "      <td>139787</td>\n",
       "      <td>223259.0</td>\n",
       "      <td>2133-02-03 12:00:00</td>\n",
       "      <td>2133-02-03 12:01:00</td>\n",
       "      <td>220949</td>\n",
       "      <td>100.000000</td>\n",
       "      <td>ml</td>\n",
       "      <td>NaN</td>\n",
       "      <td>...</td>\n",
       "      <td>ml</td>\n",
       "      <td>0</td>\n",
       "      <td>0</td>\n",
       "      <td>2</td>\n",
       "      <td>Rewritten</td>\n",
       "      <td>RN</td>\n",
       "      <td>NaN</td>\n",
       "      <td>2133-02-03 17:06:00</td>\n",
       "      <td>100.000000</td>\n",
       "      <td>0.000000</td>\n",
       "    </tr>\n",
       "  </tbody>\n",
       "</table>\n",
       "<p>5 rows × 31 columns</p>\n",
       "</div>"
      ],
      "text/plain": [
       "   ROW_ID  SUBJECT_ID  HADM_ID  ICUSTAY_ID            STARTTIME  \\\n",
       "0     241       27063   139787    223259.0  2133-02-05 06:29:00   \n",
       "1     242       27063   139787    223259.0  2133-02-05 05:34:00   \n",
       "2     243       27063   139787    223259.0  2133-02-05 05:34:00   \n",
       "3     244       27063   139787    223259.0  2133-02-03 12:00:00   \n",
       "4     245       27063   139787    223259.0  2133-02-03 12:00:00   \n",
       "\n",
       "               ENDTIME  ITEMID      AMOUNT AMOUNTUOM       RATE  ...  \\\n",
       "0  2133-02-05 08:45:00  225166    6.774532       mEq        NaN  ...   \n",
       "1  2133-02-05 06:30:00  225944   28.132997        ml  30.142497  ...   \n",
       "2  2133-02-05 06:30:00  225166    2.813300       mEq        NaN  ...   \n",
       "3  2133-02-03 12:01:00  225893    1.000000      dose        NaN  ...   \n",
       "4  2133-02-03 12:01:00  220949  100.000000        ml        NaN  ...   \n",
       "\n",
       "  TOTALAMOUNTUOM ISOPENBAG  CONTINUEINNEXTDEPT  CANCELREASON  \\\n",
       "0             ml         0                   0             1   \n",
       "1             ml         0                   0             0   \n",
       "2             ml         0                   0             0   \n",
       "3             ml         0                   0             2   \n",
       "4             ml         0                   0             2   \n",
       "\n",
       "   STATUSDESCRIPTION COMMENTS_EDITEDBY COMMENTS_CANCELEDBY  \\\n",
       "0          Rewritten               NaN                  RN   \n",
       "1    FinishedRunning               NaN                 NaN   \n",
       "2    FinishedRunning               NaN                 NaN   \n",
       "3          Rewritten                RN                 NaN   \n",
       "4          Rewritten                RN                 NaN   \n",
       "\n",
       "         COMMENTS_DATE ORIGINALAMOUNT  ORIGINALRATE  \n",
       "0  2133-02-05 12:52:00      10.000000      0.050000  \n",
       "1                  NaN      28.132998     30.255817  \n",
       "2                  NaN       2.813300      0.050426  \n",
       "3  2133-02-03 17:06:00       1.000000      1.000000  \n",
       "4  2133-02-03 17:06:00     100.000000      0.000000  \n",
       "\n",
       "[5 rows x 31 columns]"
      ]
     },
     "execution_count": 18,
     "metadata": {},
     "output_type": "execute_result"
    }
   ],
   "source": [
    "inputevents_mv_df.head()"
   ]
  },
  {
   "cell_type": "code",
   "execution_count": 19,
   "id": "83aa72ee",
   "metadata": {},
   "outputs": [
    {
     "name": "stdout",
     "output_type": "stream",
     "text": [
      "<class 'pandas.core.frame.DataFrame'>\n",
      "RangeIndex: 3618991 entries, 0 to 3618990\n",
      "Data columns (total 31 columns):\n",
      " #   Column                         Dtype  \n",
      "---  ------                         -----  \n",
      " 0   ROW_ID                         int64  \n",
      " 1   SUBJECT_ID                     int64  \n",
      " 2   HADM_ID                        int64  \n",
      " 3   ICUSTAY_ID                     float64\n",
      " 4   STARTTIME                      object \n",
      " 5   ENDTIME                        object \n",
      " 6   ITEMID                         int64  \n",
      " 7   AMOUNT                         float64\n",
      " 8   AMOUNTUOM                      object \n",
      " 9   RATE                           float64\n",
      " 10  RATEUOM                        object \n",
      " 11  STORETIME                      object \n",
      " 12  CGID                           int64  \n",
      " 13  ORDERID                        int64  \n",
      " 14  LINKORDERID                    int64  \n",
      " 15  ORDERCATEGORYNAME              object \n",
      " 16  SECONDARYORDERCATEGORYNAME     object \n",
      " 17  ORDERCOMPONENTTYPEDESCRIPTION  object \n",
      " 18  ORDERCATEGORYDESCRIPTION       object \n",
      " 19  PATIENTWEIGHT                  float64\n",
      " 20  TOTALAMOUNT                    float64\n",
      " 21  TOTALAMOUNTUOM                 object \n",
      " 22  ISOPENBAG                      int64  \n",
      " 23  CONTINUEINNEXTDEPT             int64  \n",
      " 24  CANCELREASON                   int64  \n",
      " 25  STATUSDESCRIPTION              object \n",
      " 26  COMMENTS_EDITEDBY              object \n",
      " 27  COMMENTS_CANCELEDBY            object \n",
      " 28  COMMENTS_DATE                  object \n",
      " 29  ORIGINALAMOUNT                 float64\n",
      " 30  ORIGINALRATE                   float64\n",
      "dtypes: float64(7), int64(10), object(14)\n",
      "memory usage: 855.9+ MB\n"
     ]
    }
   ],
   "source": [
    "inputevents_mv_df.info()"
   ]
  },
  {
   "cell_type": "code",
   "execution_count": 20,
   "id": "b0cc0249",
   "metadata": {},
   "outputs": [
    {
     "data": {
      "text/plain": [
       "NO     3617385\n",
       "YES       1606\n",
       "Name: ISOPENBAG, dtype: int64"
      ]
     },
     "execution_count": 20,
     "metadata": {},
     "output_type": "execute_result"
    }
   ],
   "source": [
    "inputevents_mv_df['ISOPENBAG'].map(lambda x: 'YES' if x==1 else 'NO').value_counts()"
   ]
  },
  {
   "cell_type": "markdown",
   "id": "28fda5c3",
   "metadata": {},
   "source": [
    "The above output tells us how many of the inputs were from an open bag."
   ]
  },
  {
   "cell_type": "code",
   "execution_count": 21,
   "id": "d1c12629",
   "metadata": {},
   "outputs": [
    {
     "data": {
      "text/plain": [
       "<AxesSubplot:xlabel='PATIENTWEIGHT', ylabel='Count'>"
      ]
     },
     "execution_count": 21,
     "metadata": {},
     "output_type": "execute_result"
    },
    {
     "data": {
      "image/png": "[encoded data removed]",
      "text/plain": [
       "<Figure size 7200x4320 with 1 Axes>"
      ]
     },
     "metadata": {},
     "output_type": "display_data"
    }
   ],
   "source": [
    "plt.figure(figsize=(100,60))\n",
    "sns.histplot(data = inputevents_mv_df[inputevents_mv_df['PATIENTWEIGHT']<=500], x = 'PATIENTWEIGHT', bins=50)"
   ]
  },
  {
   "cell_type": "markdown",
   "id": "bbae0610",
   "metadata": {},
   "source": [
    "The above plot is a distribution of the weights of the patients admitted.\n",
    "Let's find out how many of the inputs/solutions were continued even after a transfer took place, if one took place."
   ]
  },
  {
   "cell_type": "code",
   "execution_count": 22,
   "id": "3d9ba4d5",
   "metadata": {},
   "outputs": [
    {
     "data": {
      "text/plain": [
       "NO     3618906\n",
       "YES         85\n",
       "Name: CONTINUEINNEXTDEPT, dtype: int64"
      ]
     },
     "execution_count": 22,
     "metadata": {},
     "output_type": "execute_result"
    }
   ],
   "source": [
    "inputevents_mv_df['CONTINUEINNEXTDEPT'].map(lambda x: 'YES' if x==1 else 'NO').value_counts()"
   ]
  },
  {
   "cell_type": "markdown",
   "id": "3d4f8306",
   "metadata": {},
   "source": [
    "If the input orders were cancelled, why were they cancelled?"
   ]
  },
  {
   "cell_type": "code",
   "execution_count": 23,
   "id": "55cc244b",
   "metadata": {},
   "outputs": [
    {
     "data": {
      "text/plain": [
       "0    3250366\n",
       "2     249261\n",
       "1     119364\n",
       "Name: CANCELREASON, dtype: int64"
      ]
     },
     "execution_count": 23,
     "metadata": {},
     "output_type": "execute_result"
    }
   ],
   "source": [
    "inputevents_mv_df['CANCELREASON'].value_counts()"
   ]
  },
  {
   "cell_type": "code",
   "execution_count": 24,
   "id": "eb7516b2",
   "metadata": {},
   "outputs": [
    {
     "data": {
      "text/plain": [
       "FinishedRunning    2002471\n",
       "Rewritten           695521\n",
       "Changed             667547\n",
       "Stopped             157735\n",
       "Paused               94820\n",
       "Flushed                897\n",
       "Name: STATUSDESCRIPTION, dtype: int64"
      ]
     },
     "execution_count": 24,
     "metadata": {},
     "output_type": "execute_result"
    }
   ],
   "source": [
    "inputevents_mv_df['STATUSDESCRIPTION'].value_counts()"
   ]
  },
  {
   "cell_type": "markdown",
   "id": "95524456",
   "metadata": {},
   "source": [
    "STATUSDESCRIPTION states the ultimate status of the item, or more specifically, row. It is used to indicate why the delivery of the compound has ended. There are only six possible statuses:\n",
    "<br>\n",
    "Changed - The current delivery has ended as some aspect of it has changed (most frequently, the rate has been changed) <br>\n",
    "Paused - The current delivery has been paused <br>\n",
    "FinishedRunning - The delivery of the item has finished (most frequently, the bag containing the compound is empty) <br>\n",
    "Stopped - The delivery of the item been terminated by the caregiver <br>\n",
    "Rewritten - Incorrect information was input, and so the information in this row was rewritten (these rows are primarily useful for auditing purposes - the rates/amounts described were not delivered and so should not be used if determining what compounds a patient has received) <br>\n",
    "Flushed - A line was flushed. <br>"
   ]
  }
 ],
 "metadata": {
  "kernelspec": {
   "display_name": "Python 3",
   "language": "python",
   "name": "python3"
  },
  "language_info": {
   "codemirror_mode": {
    "name": "ipython",
    "version": 3
   },
   "file_extension": ".py",
   "mimetype": "text/x-python",
   "name": "python",
   "nbconvert_exporter": "python",
   "pygments_lexer": "ipython3",
   "version": "3.8.8"
  }
 },
 "nbformat": 4,
 "nbformat_minor": 5
}
