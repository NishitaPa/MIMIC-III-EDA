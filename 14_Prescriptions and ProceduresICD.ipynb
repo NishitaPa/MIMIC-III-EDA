{
 "cells": [
  {
   "cell_type": "markdown",
   "id": "55598c2a",
   "metadata": {},
   "source": [
    "Next we take a look at the PRESCRIPTIONS Table."
   ]
  },
  {
   "cell_type": "markdown",
   "id": "fefc5687",
   "metadata": {},
   "source": [
    "Let's import the libraries that we will need."
   ]
  },
  {
   "cell_type": "code",
   "execution_count": 1,
   "id": "29f81b47",
   "metadata": {},
   "outputs": [],
   "source": [
    "import pandas as pd\n",
    "import numpy as np\n",
    "import matplotlib.pyplot as plt\n",
    "import seaborn as sns\n",
    "%matplotlib inline\n",
    "sns.set_style(style='whitegrid')"
   ]
  },
  {
   "cell_type": "code",
   "execution_count": 3,
   "id": "7600a72b",
   "metadata": {},
   "outputs": [
    {
     "name": "stderr",
     "output_type": "stream",
     "text": [
      "C:\\ProgramData\\Anaconda3\\lib\\site-packages\\IPython\\core\\interactiveshell.py:3165: DtypeWarning: Columns (11) have mixed types.Specify dtype option on import or set low_memory=False.\n",
      "  has_raised = await self.run_ast_nodes(code_ast.body, cell_name,\n"
     ]
    }
   ],
   "source": [
    "prescriptions_df = pd.read_csv('../Extracted CSVs/PRESCRIPTIONS.csv')"
   ]
  },
  {
   "cell_type": "code",
   "execution_count": 4,
   "id": "126b4cad",
   "metadata": {},
   "outputs": [
    {
     "data": {
      "text/html": [
       "<div>\n",
       "<style scoped>\n",
       "    .dataframe tbody tr th:only-of-type {\n",
       "        vertical-align: middle;\n",
       "    }\n",
       "\n",
       "    .dataframe tbody tr th {\n",
       "        vertical-align: top;\n",
       "    }\n",
       "\n",
       "    .dataframe thead th {\n",
       "        text-align: right;\n",
       "    }\n",
       "</style>\n",
       "<table border=\"1\" class=\"dataframe\">\n",
       "  <thead>\n",
       "    <tr style=\"text-align: right;\">\n",
       "      <th></th>\n",
       "      <th>ROW_ID</th>\n",
       "      <th>SUBJECT_ID</th>\n",
       "      <th>HADM_ID</th>\n",
       "      <th>ICUSTAY_ID</th>\n",
       "      <th>STARTDATE</th>\n",
       "      <th>ENDDATE</th>\n",
       "      <th>DRUG_TYPE</th>\n",
       "      <th>DRUG</th>\n",
       "      <th>DRUG_NAME_POE</th>\n",
       "      <th>DRUG_NAME_GENERIC</th>\n",
       "      <th>FORMULARY_DRUG_CD</th>\n",
       "      <th>GSN</th>\n",
       "      <th>NDC</th>\n",
       "      <th>PROD_STRENGTH</th>\n",
       "      <th>DOSE_VAL_RX</th>\n",
       "      <th>DOSE_UNIT_RX</th>\n",
       "      <th>FORM_VAL_DISP</th>\n",
       "      <th>FORM_UNIT_DISP</th>\n",
       "      <th>ROUTE</th>\n",
       "    </tr>\n",
       "  </thead>\n",
       "  <tbody>\n",
       "    <tr>\n",
       "      <th>0</th>\n",
       "      <td>2214776</td>\n",
       "      <td>6</td>\n",
       "      <td>107064</td>\n",
       "      <td>NaN</td>\n",
       "      <td>2175-06-11 00:00:00</td>\n",
       "      <td>2175-06-12 00:00:00</td>\n",
       "      <td>MAIN</td>\n",
       "      <td>Tacrolimus</td>\n",
       "      <td>Tacrolimus</td>\n",
       "      <td>Tacrolimus</td>\n",
       "      <td>TACR1</td>\n",
       "      <td>021796</td>\n",
       "      <td>469061711.0</td>\n",
       "      <td>1mg Capsule</td>\n",
       "      <td>2</td>\n",
       "      <td>mg</td>\n",
       "      <td>2</td>\n",
       "      <td>CAP</td>\n",
       "      <td>PO</td>\n",
       "    </tr>\n",
       "    <tr>\n",
       "      <th>1</th>\n",
       "      <td>2214775</td>\n",
       "      <td>6</td>\n",
       "      <td>107064</td>\n",
       "      <td>NaN</td>\n",
       "      <td>2175-06-11 00:00:00</td>\n",
       "      <td>2175-06-12 00:00:00</td>\n",
       "      <td>MAIN</td>\n",
       "      <td>Warfarin</td>\n",
       "      <td>Warfarin</td>\n",
       "      <td>Warfarin</td>\n",
       "      <td>WARF5</td>\n",
       "      <td>006562</td>\n",
       "      <td>56017275.0</td>\n",
       "      <td>5mg Tablet</td>\n",
       "      <td>5</td>\n",
       "      <td>mg</td>\n",
       "      <td>1</td>\n",
       "      <td>TAB</td>\n",
       "      <td>PO</td>\n",
       "    </tr>\n",
       "    <tr>\n",
       "      <th>2</th>\n",
       "      <td>2215524</td>\n",
       "      <td>6</td>\n",
       "      <td>107064</td>\n",
       "      <td>NaN</td>\n",
       "      <td>2175-06-11 00:00:00</td>\n",
       "      <td>2175-06-12 00:00:00</td>\n",
       "      <td>MAIN</td>\n",
       "      <td>Heparin Sodium</td>\n",
       "      <td>NaN</td>\n",
       "      <td>NaN</td>\n",
       "      <td>HEPAPREMIX</td>\n",
       "      <td>006522</td>\n",
       "      <td>338055002.0</td>\n",
       "      <td>25,000 unit Premix Bag</td>\n",
       "      <td>25,000</td>\n",
       "      <td>UNIT</td>\n",
       "      <td>1</td>\n",
       "      <td>BAG</td>\n",
       "      <td>IV</td>\n",
       "    </tr>\n",
       "    <tr>\n",
       "      <th>3</th>\n",
       "      <td>2216265</td>\n",
       "      <td>6</td>\n",
       "      <td>107064</td>\n",
       "      <td>NaN</td>\n",
       "      <td>2175-06-11 00:00:00</td>\n",
       "      <td>2175-06-12 00:00:00</td>\n",
       "      <td>BASE</td>\n",
       "      <td>D5W</td>\n",
       "      <td>NaN</td>\n",
       "      <td>NaN</td>\n",
       "      <td>HEPBASE</td>\n",
       "      <td>NaN</td>\n",
       "      <td>0.0</td>\n",
       "      <td>HEPARIN BASE</td>\n",
       "      <td>250</td>\n",
       "      <td>ml</td>\n",
       "      <td>250</td>\n",
       "      <td>ml</td>\n",
       "      <td>IV</td>\n",
       "    </tr>\n",
       "    <tr>\n",
       "      <th>4</th>\n",
       "      <td>2214773</td>\n",
       "      <td>6</td>\n",
       "      <td>107064</td>\n",
       "      <td>NaN</td>\n",
       "      <td>2175-06-11 00:00:00</td>\n",
       "      <td>2175-06-12 00:00:00</td>\n",
       "      <td>MAIN</td>\n",
       "      <td>Furosemide</td>\n",
       "      <td>Furosemide</td>\n",
       "      <td>Furosemide</td>\n",
       "      <td>FURO20</td>\n",
       "      <td>008208</td>\n",
       "      <td>54829725.0</td>\n",
       "      <td>20mg Tablet</td>\n",
       "      <td>20</td>\n",
       "      <td>mg</td>\n",
       "      <td>1</td>\n",
       "      <td>TAB</td>\n",
       "      <td>PO</td>\n",
       "    </tr>\n",
       "  </tbody>\n",
       "</table>\n",
       "</div>"
      ],
      "text/plain": [
       "    ROW_ID  SUBJECT_ID  HADM_ID  ICUSTAY_ID            STARTDATE  \\\n",
       "0  2214776           6   107064         NaN  2175-06-11 00:00:00   \n",
       "1  2214775           6   107064         NaN  2175-06-11 00:00:00   \n",
       "2  2215524           6   107064         NaN  2175-06-11 00:00:00   \n",
       "3  2216265           6   107064         NaN  2175-06-11 00:00:00   \n",
       "4  2214773           6   107064         NaN  2175-06-11 00:00:00   \n",
       "\n",
       "               ENDDATE DRUG_TYPE            DRUG DRUG_NAME_POE  \\\n",
       "0  2175-06-12 00:00:00      MAIN      Tacrolimus    Tacrolimus   \n",
       "1  2175-06-12 00:00:00      MAIN        Warfarin      Warfarin   \n",
       "2  2175-06-12 00:00:00      MAIN  Heparin Sodium           NaN   \n",
       "3  2175-06-12 00:00:00      BASE             D5W           NaN   \n",
       "4  2175-06-12 00:00:00      MAIN      Furosemide    Furosemide   \n",
       "\n",
       "  DRUG_NAME_GENERIC FORMULARY_DRUG_CD     GSN          NDC  \\\n",
       "0        Tacrolimus             TACR1  021796  469061711.0   \n",
       "1          Warfarin             WARF5  006562   56017275.0   \n",
       "2               NaN        HEPAPREMIX  006522  338055002.0   \n",
       "3               NaN           HEPBASE     NaN          0.0   \n",
       "4        Furosemide            FURO20  008208   54829725.0   \n",
       "\n",
       "            PROD_STRENGTH DOSE_VAL_RX DOSE_UNIT_RX FORM_VAL_DISP  \\\n",
       "0             1mg Capsule           2           mg             2   \n",
       "1              5mg Tablet           5           mg             1   \n",
       "2  25,000 unit Premix Bag      25,000         UNIT             1   \n",
       "3            HEPARIN BASE         250           ml           250   \n",
       "4             20mg Tablet          20           mg             1   \n",
       "\n",
       "  FORM_UNIT_DISP ROUTE  \n",
       "0            CAP    PO  \n",
       "1            TAB    PO  \n",
       "2            BAG    IV  \n",
       "3             ml    IV  \n",
       "4            TAB    PO  "
      ]
     },
     "execution_count": 4,
     "metadata": {},
     "output_type": "execute_result"
    }
   ],
   "source": [
    "prescriptions_df.head()"
   ]
  },
  {
   "cell_type": "code",
   "execution_count": 5,
   "id": "a8661f4c",
   "metadata": {},
   "outputs": [
    {
     "name": "stdout",
     "output_type": "stream",
     "text": [
      "<class 'pandas.core.frame.DataFrame'>\n",
      "RangeIndex: 4156450 entries, 0 to 4156449\n",
      "Data columns (total 19 columns):\n",
      " #   Column             Dtype  \n",
      "---  ------             -----  \n",
      " 0   ROW_ID             int64  \n",
      " 1   SUBJECT_ID         int64  \n",
      " 2   HADM_ID            int64  \n",
      " 3   ICUSTAY_ID         float64\n",
      " 4   STARTDATE          object \n",
      " 5   ENDDATE            object \n",
      " 6   DRUG_TYPE          object \n",
      " 7   DRUG               object \n",
      " 8   DRUG_NAME_POE      object \n",
      " 9   DRUG_NAME_GENERIC  object \n",
      " 10  FORMULARY_DRUG_CD  object \n",
      " 11  GSN                object \n",
      " 12  NDC                float64\n",
      " 13  PROD_STRENGTH      object \n",
      " 14  DOSE_VAL_RX        object \n",
      " 15  DOSE_UNIT_RX       object \n",
      " 16  FORM_VAL_DISP      object \n",
      " 17  FORM_UNIT_DISP     object \n",
      " 18  ROUTE              object \n",
      "dtypes: float64(2), int64(3), object(14)\n",
      "memory usage: 602.5+ MB\n"
     ]
    }
   ],
   "source": [
    "prescriptions_df.info()"
   ]
  },
  {
   "cell_type": "code",
   "execution_count": 6,
   "id": "9ce1de43",
   "metadata": {},
   "outputs": [
    {
     "data": {
      "text/plain": [
       "Furosemide                      123216\n",
       "Potassium Chloride               86443\n",
       "Sodium Chloride 0.9%  Flush      83395\n",
       "Metoprolol                       73787\n",
       "Insulin - Sliding Scale          68441\n",
       "                                 ...  \n",
       "*NF* Cromolyn Sodium 4% Opth         1\n",
       "Ampyra                               1\n",
       "Alfuzosin                            1\n",
       "Phenyleprhine Ophth Soln 10%         1\n",
       "Tarceva(erlotinib)                   1\n",
       "Name: DRUG_NAME_GENERIC, Length: 2863, dtype: int64"
      ]
     },
     "execution_count": 6,
     "metadata": {},
     "output_type": "execute_result"
    }
   ],
   "source": [
    "prescriptions_df['DRUG_NAME_GENERIC'].value_counts()"
   ]
  },
  {
   "cell_type": "markdown",
   "id": "e5a72d99",
   "metadata": {},
   "source": [
    "These are the generic names of the drugs that were prescribed."
   ]
  },
  {
   "cell_type": "code",
   "execution_count": 7,
   "id": "eddfd6fb",
   "metadata": {},
   "outputs": [
    {
     "data": {
      "text/plain": [
       "<AxesSubplot:>"
      ]
     },
     "execution_count": 7,
     "metadata": {},
     "output_type": "execute_result"
    },
    {
     "data": {
      "image/png": "[encoded data removed]",
      "text/plain": [
       "<Figure size 432x288 with 1 Axes>"
      ]
     },
     "metadata": {},
     "output_type": "display_data"
    }
   ],
   "source": [
    "prescriptions_df['DRUG_NAME_GENERIC'].value_counts().head(10).plot(kind='bar')"
   ]
  },
  {
   "cell_type": "markdown",
   "id": "6852ff3d",
   "metadata": {},
   "source": [
    "Let's take a look at the types of the drugs that were prescribed."
   ]
  },
  {
   "cell_type": "code",
   "execution_count": 8,
   "id": "1c27a60a",
   "metadata": {},
   "outputs": [
    {
     "data": {
      "text/plain": [
       "MAIN        3216882\n",
       "BASE         925089\n",
       "ADDITIVE      14479\n",
       "Name: DRUG_TYPE, dtype: int64"
      ]
     },
     "execution_count": 8,
     "metadata": {},
     "output_type": "execute_result"
    }
   ],
   "source": [
    "prescriptions_df['DRUG_TYPE'].value_counts()"
   ]
  },
  {
   "cell_type": "code",
   "execution_count": 9,
   "id": "c8fb6aa3",
   "metadata": {},
   "outputs": [
    {
     "data": {
      "text/plain": [
       "([<matplotlib.patches.Wedge at 0x226b75c8670>,\n",
       "  <matplotlib.patches.Wedge at 0x226b75c8b80>,\n",
       "  <matplotlib.patches.Wedge at 0x226b75c8fa0>],\n",
       " [Text(-0.83408408145553, 0.7171497368489268, 'MAIN'),\n",
       "  Text(0.8261859493180422, -0.7262346570836767, 'BASE'),\n",
       "  Text(1.0999341283091801, -0.012037997371844317, 'ADDITIVE')])"
      ]
     },
     "execution_count": 9,
     "metadata": {},
     "output_type": "execute_result"
    },
    {
     "data": {
      "image/png": "[encoded data removed]",
      "text/plain": [
       "<Figure size 432x288 with 1 Axes>"
      ]
     },
     "metadata": {},
     "output_type": "display_data"
    }
   ],
   "source": [
    "plt.pie(prescriptions_df['DRUG_TYPE'].value_counts(), labels='MAIN BASE ADDITIVE'.split())"
   ]
  },
  {
   "cell_type": "code",
   "execution_count": 10,
   "id": "a3a86428",
   "metadata": {},
   "outputs": [
    {
     "data": {
      "text/plain": [
       "<AxesSubplot:>"
      ]
     },
     "execution_count": 10,
     "metadata": {},
     "output_type": "execute_result"
    },
    {
     "data": {
      "image/png": "[encoded data removed]",
      "text/plain": [
       "<Figure size 432x288 with 1 Axes>"
      ]
     },
     "metadata": {},
     "output_type": "display_data"
    }
   ],
   "source": [
    "prescriptions_df['DRUG_NAME_POE'].value_counts().head().plot(kind='bar')"
   ]
  },
  {
   "cell_type": "markdown",
   "id": "145a8b0e",
   "metadata": {},
   "source": [
    "The above chart tells us the name of the drug on the Provider Order Entry interface."
   ]
  },
  {
   "cell_type": "markdown",
   "id": "c18b6a45",
   "metadata": {},
   "source": [
    "And lastly, we take a look at the PROCEDURES_ICD table. This table has data regarding the procedures relating to a hospital admission coded using the ICD9 system, while the PROCEDURES_MV table has data about the procedure start and stop times recorded for MetaVision patients."
   ]
  },
  {
   "cell_type": "code",
   "execution_count": 12,
   "id": "71e5724a",
   "metadata": {},
   "outputs": [],
   "source": [
    "procedures_ICD_df = pd.read_csv('../Extracted CSVs/PROCEDURES_ICD.csv')\n",
    "procedures_dict = pd.read_csv('../Extracted CSVs/D_ICD_PROCEDURES.csv')"
   ]
  },
  {
   "cell_type": "code",
   "execution_count": 13,
   "id": "561a9726",
   "metadata": {},
   "outputs": [
    {
     "data": {
      "text/html": [
       "<div>\n",
       "<style scoped>\n",
       "    .dataframe tbody tr th:only-of-type {\n",
       "        vertical-align: middle;\n",
       "    }\n",
       "\n",
       "    .dataframe tbody tr th {\n",
       "        vertical-align: top;\n",
       "    }\n",
       "\n",
       "    .dataframe thead th {\n",
       "        text-align: right;\n",
       "    }\n",
       "</style>\n",
       "<table border=\"1\" class=\"dataframe\">\n",
       "  <thead>\n",
       "    <tr style=\"text-align: right;\">\n",
       "      <th></th>\n",
       "      <th>ROW_ID</th>\n",
       "      <th>SUBJECT_ID</th>\n",
       "      <th>HADM_ID</th>\n",
       "      <th>SEQ_NUM</th>\n",
       "      <th>ICD9_CODE</th>\n",
       "    </tr>\n",
       "  </thead>\n",
       "  <tbody>\n",
       "    <tr>\n",
       "      <th>0</th>\n",
       "      <td>944</td>\n",
       "      <td>62641</td>\n",
       "      <td>154460</td>\n",
       "      <td>3</td>\n",
       "      <td>3404</td>\n",
       "    </tr>\n",
       "    <tr>\n",
       "      <th>1</th>\n",
       "      <td>945</td>\n",
       "      <td>2592</td>\n",
       "      <td>130856</td>\n",
       "      <td>1</td>\n",
       "      <td>9671</td>\n",
       "    </tr>\n",
       "    <tr>\n",
       "      <th>2</th>\n",
       "      <td>946</td>\n",
       "      <td>2592</td>\n",
       "      <td>130856</td>\n",
       "      <td>2</td>\n",
       "      <td>3893</td>\n",
       "    </tr>\n",
       "    <tr>\n",
       "      <th>3</th>\n",
       "      <td>947</td>\n",
       "      <td>55357</td>\n",
       "      <td>119355</td>\n",
       "      <td>1</td>\n",
       "      <td>9672</td>\n",
       "    </tr>\n",
       "    <tr>\n",
       "      <th>4</th>\n",
       "      <td>948</td>\n",
       "      <td>55357</td>\n",
       "      <td>119355</td>\n",
       "      <td>2</td>\n",
       "      <td>331</td>\n",
       "    </tr>\n",
       "  </tbody>\n",
       "</table>\n",
       "</div>"
      ],
      "text/plain": [
       "   ROW_ID  SUBJECT_ID  HADM_ID  SEQ_NUM  ICD9_CODE\n",
       "0     944       62641   154460        3       3404\n",
       "1     945        2592   130856        1       9671\n",
       "2     946        2592   130856        2       3893\n",
       "3     947       55357   119355        1       9672\n",
       "4     948       55357   119355        2        331"
      ]
     },
     "execution_count": 13,
     "metadata": {},
     "output_type": "execute_result"
    }
   ],
   "source": [
    "procedures_ICD_df.head()"
   ]
  },
  {
   "cell_type": "code",
   "execution_count": 14,
   "id": "cd5af0db",
   "metadata": {},
   "outputs": [
    {
     "data": {
      "text/html": [
       "<div>\n",
       "<style scoped>\n",
       "    .dataframe tbody tr th:only-of-type {\n",
       "        vertical-align: middle;\n",
       "    }\n",
       "\n",
       "    .dataframe tbody tr th {\n",
       "        vertical-align: top;\n",
       "    }\n",
       "\n",
       "    .dataframe thead th {\n",
       "        text-align: right;\n",
       "    }\n",
       "</style>\n",
       "<table border=\"1\" class=\"dataframe\">\n",
       "  <thead>\n",
       "    <tr style=\"text-align: right;\">\n",
       "      <th></th>\n",
       "      <th>ROW_ID</th>\n",
       "      <th>ICD9_CODE</th>\n",
       "      <th>SHORT_TITLE</th>\n",
       "      <th>LONG_TITLE</th>\n",
       "    </tr>\n",
       "  </thead>\n",
       "  <tbody>\n",
       "    <tr>\n",
       "      <th>0</th>\n",
       "      <td>264</td>\n",
       "      <td>851</td>\n",
       "      <td>Canthotomy</td>\n",
       "      <td>Canthotomy</td>\n",
       "    </tr>\n",
       "    <tr>\n",
       "      <th>1</th>\n",
       "      <td>265</td>\n",
       "      <td>852</td>\n",
       "      <td>Blepharorrhaphy</td>\n",
       "      <td>Blepharorrhaphy</td>\n",
       "    </tr>\n",
       "    <tr>\n",
       "      <th>2</th>\n",
       "      <td>266</td>\n",
       "      <td>859</td>\n",
       "      <td>Adjust lid position NEC</td>\n",
       "      <td>Other adjustment of lid position</td>\n",
       "    </tr>\n",
       "    <tr>\n",
       "      <th>3</th>\n",
       "      <td>267</td>\n",
       "      <td>861</td>\n",
       "      <td>Lid reconst w skin graft</td>\n",
       "      <td>Reconstruction of eyelid with skin flap or graft</td>\n",
       "    </tr>\n",
       "    <tr>\n",
       "      <th>4</th>\n",
       "      <td>268</td>\n",
       "      <td>862</td>\n",
       "      <td>Lid reconst w muc graft</td>\n",
       "      <td>Reconstruction of eyelid with mucous membrane ...</td>\n",
       "    </tr>\n",
       "  </tbody>\n",
       "</table>\n",
       "</div>"
      ],
      "text/plain": [
       "   ROW_ID  ICD9_CODE               SHORT_TITLE  \\\n",
       "0     264        851                Canthotomy   \n",
       "1     265        852           Blepharorrhaphy   \n",
       "2     266        859   Adjust lid position NEC   \n",
       "3     267        861  Lid reconst w skin graft   \n",
       "4     268        862   Lid reconst w muc graft   \n",
       "\n",
       "                                          LONG_TITLE  \n",
       "0                                         Canthotomy  \n",
       "1                                    Blepharorrhaphy  \n",
       "2                   Other adjustment of lid position  \n",
       "3   Reconstruction of eyelid with skin flap or graft  \n",
       "4  Reconstruction of eyelid with mucous membrane ...  "
      ]
     },
     "execution_count": 14,
     "metadata": {},
     "output_type": "execute_result"
    }
   ],
   "source": [
    "procedures_dict.head()"
   ]
  },
  {
   "cell_type": "markdown",
   "id": "1a18a0a2",
   "metadata": {},
   "source": [
    "Now we merge the two tables."
   ]
  },
  {
   "cell_type": "code",
   "execution_count": 15,
   "id": "80b882aa",
   "metadata": {},
   "outputs": [],
   "source": [
    "merged_procedures = pd.merge(procedures_ICD_df, procedures_dict, on='ICD9_CODE')"
   ]
  },
  {
   "cell_type": "code",
   "execution_count": 16,
   "id": "dd9ddd19",
   "metadata": {},
   "outputs": [
    {
     "data": {
      "text/html": [
       "<div>\n",
       "<style scoped>\n",
       "    .dataframe tbody tr th:only-of-type {\n",
       "        vertical-align: middle;\n",
       "    }\n",
       "\n",
       "    .dataframe tbody tr th {\n",
       "        vertical-align: top;\n",
       "    }\n",
       "\n",
       "    .dataframe thead th {\n",
       "        text-align: right;\n",
       "    }\n",
       "</style>\n",
       "<table border=\"1\" class=\"dataframe\">\n",
       "  <thead>\n",
       "    <tr style=\"text-align: right;\">\n",
       "      <th></th>\n",
       "      <th>ROW_ID_x</th>\n",
       "      <th>SUBJECT_ID</th>\n",
       "      <th>HADM_ID</th>\n",
       "      <th>SEQ_NUM</th>\n",
       "      <th>ICD9_CODE</th>\n",
       "      <th>ROW_ID_y</th>\n",
       "      <th>SHORT_TITLE</th>\n",
       "      <th>LONG_TITLE</th>\n",
       "    </tr>\n",
       "  </thead>\n",
       "  <tbody>\n",
       "    <tr>\n",
       "      <th>0</th>\n",
       "      <td>944</td>\n",
       "      <td>62641</td>\n",
       "      <td>154460</td>\n",
       "      <td>3</td>\n",
       "      <td>3404</td>\n",
       "      <td>496</td>\n",
       "      <td>Insert intercostal cath</td>\n",
       "      <td>Insertion of intercostal catheter for drainage</td>\n",
       "    </tr>\n",
       "    <tr>\n",
       "      <th>1</th>\n",
       "      <td>1087</td>\n",
       "      <td>11143</td>\n",
       "      <td>101985</td>\n",
       "      <td>5</td>\n",
       "      <td>3404</td>\n",
       "      <td>496</td>\n",
       "      <td>Insert intercostal cath</td>\n",
       "      <td>Insertion of intercostal catheter for drainage</td>\n",
       "    </tr>\n",
       "    <tr>\n",
       "      <th>2</th>\n",
       "      <td>660</td>\n",
       "      <td>9736</td>\n",
       "      <td>160259</td>\n",
       "      <td>6</td>\n",
       "      <td>3404</td>\n",
       "      <td>496</td>\n",
       "      <td>Insert intercostal cath</td>\n",
       "      <td>Insertion of intercostal catheter for drainage</td>\n",
       "    </tr>\n",
       "    <tr>\n",
       "      <th>3</th>\n",
       "      <td>674</td>\n",
       "      <td>7546</td>\n",
       "      <td>147476</td>\n",
       "      <td>4</td>\n",
       "      <td>3404</td>\n",
       "      <td>496</td>\n",
       "      <td>Insert intercostal cath</td>\n",
       "      <td>Insertion of intercostal catheter for drainage</td>\n",
       "    </tr>\n",
       "    <tr>\n",
       "      <th>4</th>\n",
       "      <td>741</td>\n",
       "      <td>65535</td>\n",
       "      <td>178280</td>\n",
       "      <td>4</td>\n",
       "      <td>3404</td>\n",
       "      <td>496</td>\n",
       "      <td>Insert intercostal cath</td>\n",
       "      <td>Insertion of intercostal catheter for drainage</td>\n",
       "    </tr>\n",
       "  </tbody>\n",
       "</table>\n",
       "</div>"
      ],
      "text/plain": [
       "   ROW_ID_x  SUBJECT_ID  HADM_ID  SEQ_NUM  ICD9_CODE  ROW_ID_y  \\\n",
       "0       944       62641   154460        3       3404       496   \n",
       "1      1087       11143   101985        5       3404       496   \n",
       "2       660        9736   160259        6       3404       496   \n",
       "3       674        7546   147476        4       3404       496   \n",
       "4       741       65535   178280        4       3404       496   \n",
       "\n",
       "               SHORT_TITLE                                      LONG_TITLE  \n",
       "0  Insert intercostal cath  Insertion of intercostal catheter for drainage  \n",
       "1  Insert intercostal cath  Insertion of intercostal catheter for drainage  \n",
       "2  Insert intercostal cath  Insertion of intercostal catheter for drainage  \n",
       "3  Insert intercostal cath  Insertion of intercostal catheter for drainage  \n",
       "4  Insert intercostal cath  Insertion of intercostal catheter for drainage  "
      ]
     },
     "execution_count": 16,
     "metadata": {},
     "output_type": "execute_result"
    }
   ],
   "source": [
    "merged_procedures.head()"
   ]
  },
  {
   "cell_type": "code",
   "execution_count": 17,
   "id": "e0f16842",
   "metadata": {},
   "outputs": [
    {
     "data": {
      "text/plain": [
       "Venous cath NEC             14731\n",
       "Insert endotracheal tube    10333\n",
       "Entral infus nutrit sub      9300\n",
       "Cont inv mec ven <96 hrs     9100\n",
       "Packed cell transfusion      7244\n",
       "                            ...  \n",
       "Lysis trach/larynx adhes        1\n",
       "Suture penile laceration        1\n",
       "Create septal defect            1\n",
       "Operations on clitoris          1\n",
       "IVUS extracran cereb ves        1\n",
       "Name: SHORT_TITLE, Length: 2056, dtype: int64"
      ]
     },
     "execution_count": 17,
     "metadata": {},
     "output_type": "execute_result"
    }
   ],
   "source": [
    "merged_procedures['SHORT_TITLE'].value_counts()"
   ]
  },
  {
   "cell_type": "markdown",
   "id": "68113d90",
   "metadata": {},
   "source": [
    "These are the titles of the procedures that were carried out."
   ]
  },
  {
   "cell_type": "code",
   "execution_count": 18,
   "id": "681a2993",
   "metadata": {},
   "outputs": [
    {
     "data": {
      "text/plain": [
       "<AxesSubplot:>"
      ]
     },
     "execution_count": 18,
     "metadata": {},
     "output_type": "execute_result"
    },
    {
     "data": {
      "image/png": "[encoded data removed]",
      "text/plain": [
       "<Figure size 432x288 with 1 Axes>"
      ]
     },
     "metadata": {},
     "output_type": "display_data"
    }
   ],
   "source": [
    "merged_procedures['SHORT_TITLE'].value_counts().head(10).plot(kind='bar')"
   ]
  },
  {
   "cell_type": "code",
   "execution_count": 19,
   "id": "58147f8b",
   "metadata": {},
   "outputs": [
    {
     "data": {
      "text/plain": [
       "2056"
      ]
     },
     "execution_count": 19,
     "metadata": {},
     "output_type": "execute_result"
    }
   ],
   "source": [
    "merged_procedures['SHORT_TITLE'].nunique()"
   ]
  },
  {
   "cell_type": "markdown",
   "id": "cf922cb8",
   "metadata": {},
   "source": [
    "There are 2056 unique procedures that were carried out."
   ]
  },
  {
   "cell_type": "markdown",
   "id": "6a88008c",
   "metadata": {},
   "source": [
    "With this, the **Hospital Record System** subsection is over.\n",
    "The tables are summarised below: <br>\n",
    "**CPTEVENTS**: Procedures recorded as Current Procedural Terminology (CPT) codes <br>\n",
    "**DIAGNOSES_ICD**: Hospital assigned diagnoses, coded using the International Statistical Classification of Diseases and Related Health Problems (ICD) system <br>\n",
    "**DRGCODES**: Diagnosis Related Groups (DRG), which are used by the hospital for billing purposes. <br>\n",
    "**LABEVENTS**: Laboratory measurements for patients both within the hospital and in out patient clinics <br>\n",
    "**MICROBIOLOGYEVENTS**: Microbiology measurements and sensitivities from the hospital database <br>\n",
    "**PRESCRIPTIONS**: Medications ordered, and not necessarily administered, for a given patient <br>\n",
    "**PROCEDURES_ICD**: Patient procedures, coded using the International Statistical Classification of Diseases and Related Health Problems (ICD) system <br>"
   ]
  }
 ],
 "metadata": {
  "kernelspec": {
   "display_name": "Python 3",
   "language": "python",
   "name": "python3"
  },
  "language_info": {
   "codemirror_mode": {
    "name": "ipython",
    "version": 3
   },
   "file_extension": ".py",
   "mimetype": "text/x-python",
   "name": "python",
   "nbconvert_exporter": "python",
   "pygments_lexer": "ipython3",
   "version": "3.8.8"
  }
 },
 "nbformat": 4,
 "nbformat_minor": 5
}
