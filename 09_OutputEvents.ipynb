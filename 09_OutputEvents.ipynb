{
 "cells": [
  {
   "cell_type": "markdown",
   "id": "30651a54",
   "metadata": {},
   "source": [
    "Let's take a look at the outputevents table. <br>\n",
    "First we import the necessary libraries."
   ]
  },
  {
   "cell_type": "code",
   "execution_count": 1,
   "id": "cb305ee8",
   "metadata": {},
   "outputs": [],
   "source": [
    "import pandas as pd\n",
    "import numpy as np\n",
    "import matplotlib.pyplot as plt\n",
    "import seaborn as sns\n",
    "%matplotlib inline\n",
    "sns.set_style(style='whitegrid')"
   ]
  },
  {
   "cell_type": "code",
   "execution_count": 3,
   "id": "4d46b632",
   "metadata": {},
   "outputs": [],
   "source": [
    "outputevents_df = pd.read_csv('../Extracted CSVs/OUTPUTEVENTS.csv')"
   ]
  },
  {
   "cell_type": "code",
   "execution_count": 4,
   "id": "9d3673f7",
   "metadata": {},
   "outputs": [],
   "source": [
    "items_dict = pd.read_csv('../Extracted CSVs/D_ITEMS.csv')"
   ]
  },
  {
   "cell_type": "markdown",
   "id": "c97000a6",
   "metadata": {},
   "source": [
    "Getting a feel of the data."
   ]
  },
  {
   "cell_type": "code",
   "execution_count": 5,
   "id": "60b774da",
   "metadata": {},
   "outputs": [
    {
     "data": {
      "text/html": [
       "<div>\n",
       "<style scoped>\n",
       "    .dataframe tbody tr th:only-of-type {\n",
       "        vertical-align: middle;\n",
       "    }\n",
       "\n",
       "    .dataframe tbody tr th {\n",
       "        vertical-align: top;\n",
       "    }\n",
       "\n",
       "    .dataframe thead th {\n",
       "        text-align: right;\n",
       "    }\n",
       "</style>\n",
       "<table border=\"1\" class=\"dataframe\">\n",
       "  <thead>\n",
       "    <tr style=\"text-align: right;\">\n",
       "      <th></th>\n",
       "      <th>ROW_ID</th>\n",
       "      <th>ITEMID</th>\n",
       "      <th>LABEL</th>\n",
       "      <th>ABBREVIATION</th>\n",
       "      <th>DBSOURCE</th>\n",
       "      <th>LINKSTO</th>\n",
       "      <th>CATEGORY</th>\n",
       "      <th>UNITNAME</th>\n",
       "      <th>PARAM_TYPE</th>\n",
       "      <th>CONCEPTID</th>\n",
       "    </tr>\n",
       "  </thead>\n",
       "  <tbody>\n",
       "    <tr>\n",
       "      <th>0</th>\n",
       "      <td>457</td>\n",
       "      <td>497</td>\n",
       "      <td>Patient controlled analgesia (PCA) [Inject]</td>\n",
       "      <td>NaN</td>\n",
       "      <td>carevue</td>\n",
       "      <td>chartevents</td>\n",
       "      <td>NaN</td>\n",
       "      <td>NaN</td>\n",
       "      <td>NaN</td>\n",
       "      <td>NaN</td>\n",
       "    </tr>\n",
       "    <tr>\n",
       "      <th>1</th>\n",
       "      <td>458</td>\n",
       "      <td>498</td>\n",
       "      <td>PCA Lockout (Min)</td>\n",
       "      <td>NaN</td>\n",
       "      <td>carevue</td>\n",
       "      <td>chartevents</td>\n",
       "      <td>NaN</td>\n",
       "      <td>NaN</td>\n",
       "      <td>NaN</td>\n",
       "      <td>NaN</td>\n",
       "    </tr>\n",
       "    <tr>\n",
       "      <th>2</th>\n",
       "      <td>459</td>\n",
       "      <td>499</td>\n",
       "      <td>PCA Medication</td>\n",
       "      <td>NaN</td>\n",
       "      <td>carevue</td>\n",
       "      <td>chartevents</td>\n",
       "      <td>NaN</td>\n",
       "      <td>NaN</td>\n",
       "      <td>NaN</td>\n",
       "      <td>NaN</td>\n",
       "    </tr>\n",
       "    <tr>\n",
       "      <th>3</th>\n",
       "      <td>460</td>\n",
       "      <td>500</td>\n",
       "      <td>PCA Total Dose</td>\n",
       "      <td>NaN</td>\n",
       "      <td>carevue</td>\n",
       "      <td>chartevents</td>\n",
       "      <td>NaN</td>\n",
       "      <td>NaN</td>\n",
       "      <td>NaN</td>\n",
       "      <td>NaN</td>\n",
       "    </tr>\n",
       "    <tr>\n",
       "      <th>4</th>\n",
       "      <td>461</td>\n",
       "      <td>501</td>\n",
       "      <td>PCV Exh Vt (Obser)</td>\n",
       "      <td>NaN</td>\n",
       "      <td>carevue</td>\n",
       "      <td>chartevents</td>\n",
       "      <td>NaN</td>\n",
       "      <td>NaN</td>\n",
       "      <td>NaN</td>\n",
       "      <td>NaN</td>\n",
       "    </tr>\n",
       "  </tbody>\n",
       "</table>\n",
       "</div>"
      ],
      "text/plain": [
       "   ROW_ID  ITEMID                                        LABEL ABBREVIATION  \\\n",
       "0     457     497  Patient controlled analgesia (PCA) [Inject]          NaN   \n",
       "1     458     498                            PCA Lockout (Min)          NaN   \n",
       "2     459     499                               PCA Medication          NaN   \n",
       "3     460     500                               PCA Total Dose          NaN   \n",
       "4     461     501                           PCV Exh Vt (Obser)          NaN   \n",
       "\n",
       "  DBSOURCE      LINKSTO CATEGORY UNITNAME PARAM_TYPE  CONCEPTID  \n",
       "0  carevue  chartevents      NaN      NaN        NaN        NaN  \n",
       "1  carevue  chartevents      NaN      NaN        NaN        NaN  \n",
       "2  carevue  chartevents      NaN      NaN        NaN        NaN  \n",
       "3  carevue  chartevents      NaN      NaN        NaN        NaN  \n",
       "4  carevue  chartevents      NaN      NaN        NaN        NaN  "
      ]
     },
     "execution_count": 5,
     "metadata": {},
     "output_type": "execute_result"
    }
   ],
   "source": [
    "items_dict.head()"
   ]
  },
  {
   "cell_type": "code",
   "execution_count": 6,
   "id": "6687e78b",
   "metadata": {},
   "outputs": [
    {
     "data": {
      "text/html": [
       "<div>\n",
       "<style scoped>\n",
       "    .dataframe tbody tr th:only-of-type {\n",
       "        vertical-align: middle;\n",
       "    }\n",
       "\n",
       "    .dataframe tbody tr th {\n",
       "        vertical-align: top;\n",
       "    }\n",
       "\n",
       "    .dataframe thead th {\n",
       "        text-align: right;\n",
       "    }\n",
       "</style>\n",
       "<table border=\"1\" class=\"dataframe\">\n",
       "  <thead>\n",
       "    <tr style=\"text-align: right;\">\n",
       "      <th></th>\n",
       "      <th>ROW_ID</th>\n",
       "      <th>SUBJECT_ID</th>\n",
       "      <th>HADM_ID</th>\n",
       "      <th>ICUSTAY_ID</th>\n",
       "      <th>CHARTTIME</th>\n",
       "      <th>ITEMID</th>\n",
       "      <th>VALUE</th>\n",
       "      <th>VALUEUOM</th>\n",
       "      <th>STORETIME</th>\n",
       "      <th>CGID</th>\n",
       "      <th>STOPPED</th>\n",
       "      <th>NEWBOTTLE</th>\n",
       "      <th>ISERROR</th>\n",
       "    </tr>\n",
       "  </thead>\n",
       "  <tbody>\n",
       "    <tr>\n",
       "      <th>0</th>\n",
       "      <td>344</td>\n",
       "      <td>21219</td>\n",
       "      <td>177991.0</td>\n",
       "      <td>225765.0</td>\n",
       "      <td>2142-09-08 10:00:00</td>\n",
       "      <td>40055</td>\n",
       "      <td>200.0</td>\n",
       "      <td>ml</td>\n",
       "      <td>2142-09-08 12:08:00</td>\n",
       "      <td>17269</td>\n",
       "      <td>NaN</td>\n",
       "      <td>NaN</td>\n",
       "      <td>NaN</td>\n",
       "    </tr>\n",
       "    <tr>\n",
       "      <th>1</th>\n",
       "      <td>345</td>\n",
       "      <td>21219</td>\n",
       "      <td>177991.0</td>\n",
       "      <td>225765.0</td>\n",
       "      <td>2142-09-08 12:00:00</td>\n",
       "      <td>40055</td>\n",
       "      <td>200.0</td>\n",
       "      <td>ml</td>\n",
       "      <td>2142-09-08 12:08:00</td>\n",
       "      <td>17269</td>\n",
       "      <td>NaN</td>\n",
       "      <td>NaN</td>\n",
       "      <td>NaN</td>\n",
       "    </tr>\n",
       "    <tr>\n",
       "      <th>2</th>\n",
       "      <td>346</td>\n",
       "      <td>21219</td>\n",
       "      <td>177991.0</td>\n",
       "      <td>225765.0</td>\n",
       "      <td>2142-09-08 13:00:00</td>\n",
       "      <td>40055</td>\n",
       "      <td>120.0</td>\n",
       "      <td>ml</td>\n",
       "      <td>2142-09-08 13:39:00</td>\n",
       "      <td>17269</td>\n",
       "      <td>NaN</td>\n",
       "      <td>NaN</td>\n",
       "      <td>NaN</td>\n",
       "    </tr>\n",
       "    <tr>\n",
       "      <th>3</th>\n",
       "      <td>347</td>\n",
       "      <td>21219</td>\n",
       "      <td>177991.0</td>\n",
       "      <td>225765.0</td>\n",
       "      <td>2142-09-08 14:00:00</td>\n",
       "      <td>40055</td>\n",
       "      <td>100.0</td>\n",
       "      <td>ml</td>\n",
       "      <td>2142-09-08 16:17:00</td>\n",
       "      <td>17269</td>\n",
       "      <td>NaN</td>\n",
       "      <td>NaN</td>\n",
       "      <td>NaN</td>\n",
       "    </tr>\n",
       "    <tr>\n",
       "      <th>4</th>\n",
       "      <td>348</td>\n",
       "      <td>21219</td>\n",
       "      <td>177991.0</td>\n",
       "      <td>225765.0</td>\n",
       "      <td>2142-09-08 16:00:00</td>\n",
       "      <td>40055</td>\n",
       "      <td>200.0</td>\n",
       "      <td>ml</td>\n",
       "      <td>2142-09-08 16:17:00</td>\n",
       "      <td>17269</td>\n",
       "      <td>NaN</td>\n",
       "      <td>NaN</td>\n",
       "      <td>NaN</td>\n",
       "    </tr>\n",
       "  </tbody>\n",
       "</table>\n",
       "</div>"
      ],
      "text/plain": [
       "   ROW_ID  SUBJECT_ID   HADM_ID  ICUSTAY_ID            CHARTTIME  ITEMID  \\\n",
       "0     344       21219  177991.0    225765.0  2142-09-08 10:00:00   40055   \n",
       "1     345       21219  177991.0    225765.0  2142-09-08 12:00:00   40055   \n",
       "2     346       21219  177991.0    225765.0  2142-09-08 13:00:00   40055   \n",
       "3     347       21219  177991.0    225765.0  2142-09-08 14:00:00   40055   \n",
       "4     348       21219  177991.0    225765.0  2142-09-08 16:00:00   40055   \n",
       "\n",
       "   VALUE VALUEUOM            STORETIME   CGID  STOPPED  NEWBOTTLE  ISERROR  \n",
       "0  200.0       ml  2142-09-08 12:08:00  17269      NaN        NaN      NaN  \n",
       "1  200.0       ml  2142-09-08 12:08:00  17269      NaN        NaN      NaN  \n",
       "2  120.0       ml  2142-09-08 13:39:00  17269      NaN        NaN      NaN  \n",
       "3  100.0       ml  2142-09-08 16:17:00  17269      NaN        NaN      NaN  \n",
       "4  200.0       ml  2142-09-08 16:17:00  17269      NaN        NaN      NaN  "
      ]
     },
     "execution_count": 6,
     "metadata": {},
     "output_type": "execute_result"
    }
   ],
   "source": [
    "outputevents_df.head()"
   ]
  },
  {
   "cell_type": "code",
   "execution_count": 7,
   "id": "33d63b7d",
   "metadata": {},
   "outputs": [
    {
     "name": "stdout",
     "output_type": "stream",
     "text": [
      "<class 'pandas.core.frame.DataFrame'>\n",
      "RangeIndex: 4349218 entries, 0 to 4349217\n",
      "Data columns (total 13 columns):\n",
      " #   Column      Dtype  \n",
      "---  ------      -----  \n",
      " 0   ROW_ID      int64  \n",
      " 1   SUBJECT_ID  int64  \n",
      " 2   HADM_ID     float64\n",
      " 3   ICUSTAY_ID  float64\n",
      " 4   CHARTTIME   object \n",
      " 5   ITEMID      int64  \n",
      " 6   VALUE       float64\n",
      " 7   VALUEUOM    object \n",
      " 8   STORETIME   object \n",
      " 9   CGID        int64  \n",
      " 10  STOPPED     float64\n",
      " 11  NEWBOTTLE   float64\n",
      " 12  ISERROR     float64\n",
      "dtypes: float64(6), int64(4), object(3)\n",
      "memory usage: 431.4+ MB\n"
     ]
    }
   ],
   "source": [
    "outputevents_df.info()"
   ]
  },
  {
   "cell_type": "code",
   "execution_count": 8,
   "id": "59a18bc1",
   "metadata": {},
   "outputs": [
    {
     "name": "stdout",
     "output_type": "stream",
     "text": [
      "<class 'pandas.core.frame.DataFrame'>\n",
      "RangeIndex: 12487 entries, 0 to 12486\n",
      "Data columns (total 10 columns):\n",
      " #   Column        Non-Null Count  Dtype  \n",
      "---  ------        --------------  -----  \n",
      " 0   ROW_ID        12487 non-null  int64  \n",
      " 1   ITEMID        12487 non-null  int64  \n",
      " 2   LABEL         12483 non-null  object \n",
      " 3   ABBREVIATION  2992 non-null   object \n",
      " 4   DBSOURCE      12487 non-null  object \n",
      " 5   LINKSTO       12487 non-null  object \n",
      " 6   CATEGORY      6049 non-null   object \n",
      " 7   UNITNAME      1234 non-null   object \n",
      " 8   PARAM_TYPE    2992 non-null   object \n",
      " 9   CONCEPTID     0 non-null      float64\n",
      "dtypes: float64(1), int64(2), object(7)\n",
      "memory usage: 975.7+ KB\n"
     ]
    }
   ],
   "source": [
    "items_dict.info()"
   ]
  },
  {
   "cell_type": "code",
   "execution_count": 9,
   "id": "72f0a968",
   "metadata": {},
   "outputs": [
    {
     "data": {
      "text/html": [
       "<div>\n",
       "<style scoped>\n",
       "    .dataframe tbody tr th:only-of-type {\n",
       "        vertical-align: middle;\n",
       "    }\n",
       "\n",
       "    .dataframe tbody tr th {\n",
       "        vertical-align: top;\n",
       "    }\n",
       "\n",
       "    .dataframe thead th {\n",
       "        text-align: right;\n",
       "    }\n",
       "</style>\n",
       "<table border=\"1\" class=\"dataframe\">\n",
       "  <thead>\n",
       "    <tr style=\"text-align: right;\">\n",
       "      <th></th>\n",
       "      <th>ROW_ID_x</th>\n",
       "      <th>SUBJECT_ID</th>\n",
       "      <th>HADM_ID</th>\n",
       "      <th>ICUSTAY_ID</th>\n",
       "      <th>CHARTTIME</th>\n",
       "      <th>ITEMID</th>\n",
       "      <th>VALUE</th>\n",
       "      <th>VALUEUOM</th>\n",
       "      <th>STORETIME</th>\n",
       "      <th>CGID</th>\n",
       "      <th>...</th>\n",
       "      <th>ISERROR</th>\n",
       "      <th>ROW_ID_y</th>\n",
       "      <th>LABEL</th>\n",
       "      <th>ABBREVIATION</th>\n",
       "      <th>DBSOURCE</th>\n",
       "      <th>LINKSTO</th>\n",
       "      <th>CATEGORY</th>\n",
       "      <th>UNITNAME</th>\n",
       "      <th>PARAM_TYPE</th>\n",
       "      <th>CONCEPTID</th>\n",
       "    </tr>\n",
       "  </thead>\n",
       "  <tbody>\n",
       "    <tr>\n",
       "      <th>0</th>\n",
       "      <td>344</td>\n",
       "      <td>21219</td>\n",
       "      <td>177991.0</td>\n",
       "      <td>225765.0</td>\n",
       "      <td>2142-09-08 10:00:00</td>\n",
       "      <td>40055</td>\n",
       "      <td>200.0</td>\n",
       "      <td>ml</td>\n",
       "      <td>2142-09-08 12:08:00</td>\n",
       "      <td>17269</td>\n",
       "      <td>...</td>\n",
       "      <td>NaN</td>\n",
       "      <td>10580</td>\n",
       "      <td>Urine Out Foley</td>\n",
       "      <td>NaN</td>\n",
       "      <td>carevue</td>\n",
       "      <td>outputevents</td>\n",
       "      <td>NaN</td>\n",
       "      <td>NaN</td>\n",
       "      <td>NaN</td>\n",
       "      <td>NaN</td>\n",
       "    </tr>\n",
       "    <tr>\n",
       "      <th>1</th>\n",
       "      <td>345</td>\n",
       "      <td>21219</td>\n",
       "      <td>177991.0</td>\n",
       "      <td>225765.0</td>\n",
       "      <td>2142-09-08 12:00:00</td>\n",
       "      <td>40055</td>\n",
       "      <td>200.0</td>\n",
       "      <td>ml</td>\n",
       "      <td>2142-09-08 12:08:00</td>\n",
       "      <td>17269</td>\n",
       "      <td>...</td>\n",
       "      <td>NaN</td>\n",
       "      <td>10580</td>\n",
       "      <td>Urine Out Foley</td>\n",
       "      <td>NaN</td>\n",
       "      <td>carevue</td>\n",
       "      <td>outputevents</td>\n",
       "      <td>NaN</td>\n",
       "      <td>NaN</td>\n",
       "      <td>NaN</td>\n",
       "      <td>NaN</td>\n",
       "    </tr>\n",
       "    <tr>\n",
       "      <th>2</th>\n",
       "      <td>346</td>\n",
       "      <td>21219</td>\n",
       "      <td>177991.0</td>\n",
       "      <td>225765.0</td>\n",
       "      <td>2142-09-08 13:00:00</td>\n",
       "      <td>40055</td>\n",
       "      <td>120.0</td>\n",
       "      <td>ml</td>\n",
       "      <td>2142-09-08 13:39:00</td>\n",
       "      <td>17269</td>\n",
       "      <td>...</td>\n",
       "      <td>NaN</td>\n",
       "      <td>10580</td>\n",
       "      <td>Urine Out Foley</td>\n",
       "      <td>NaN</td>\n",
       "      <td>carevue</td>\n",
       "      <td>outputevents</td>\n",
       "      <td>NaN</td>\n",
       "      <td>NaN</td>\n",
       "      <td>NaN</td>\n",
       "      <td>NaN</td>\n",
       "    </tr>\n",
       "    <tr>\n",
       "      <th>3</th>\n",
       "      <td>347</td>\n",
       "      <td>21219</td>\n",
       "      <td>177991.0</td>\n",
       "      <td>225765.0</td>\n",
       "      <td>2142-09-08 14:00:00</td>\n",
       "      <td>40055</td>\n",
       "      <td>100.0</td>\n",
       "      <td>ml</td>\n",
       "      <td>2142-09-08 16:17:00</td>\n",
       "      <td>17269</td>\n",
       "      <td>...</td>\n",
       "      <td>NaN</td>\n",
       "      <td>10580</td>\n",
       "      <td>Urine Out Foley</td>\n",
       "      <td>NaN</td>\n",
       "      <td>carevue</td>\n",
       "      <td>outputevents</td>\n",
       "      <td>NaN</td>\n",
       "      <td>NaN</td>\n",
       "      <td>NaN</td>\n",
       "      <td>NaN</td>\n",
       "    </tr>\n",
       "    <tr>\n",
       "      <th>4</th>\n",
       "      <td>348</td>\n",
       "      <td>21219</td>\n",
       "      <td>177991.0</td>\n",
       "      <td>225765.0</td>\n",
       "      <td>2142-09-08 16:00:00</td>\n",
       "      <td>40055</td>\n",
       "      <td>200.0</td>\n",
       "      <td>ml</td>\n",
       "      <td>2142-09-08 16:17:00</td>\n",
       "      <td>17269</td>\n",
       "      <td>...</td>\n",
       "      <td>NaN</td>\n",
       "      <td>10580</td>\n",
       "      <td>Urine Out Foley</td>\n",
       "      <td>NaN</td>\n",
       "      <td>carevue</td>\n",
       "      <td>outputevents</td>\n",
       "      <td>NaN</td>\n",
       "      <td>NaN</td>\n",
       "      <td>NaN</td>\n",
       "      <td>NaN</td>\n",
       "    </tr>\n",
       "  </tbody>\n",
       "</table>\n",
       "<p>5 rows × 22 columns</p>\n",
       "</div>"
      ],
      "text/plain": [
       "   ROW_ID_x  SUBJECT_ID   HADM_ID  ICUSTAY_ID            CHARTTIME  ITEMID  \\\n",
       "0       344       21219  177991.0    225765.0  2142-09-08 10:00:00   40055   \n",
       "1       345       21219  177991.0    225765.0  2142-09-08 12:00:00   40055   \n",
       "2       346       21219  177991.0    225765.0  2142-09-08 13:00:00   40055   \n",
       "3       347       21219  177991.0    225765.0  2142-09-08 14:00:00   40055   \n",
       "4       348       21219  177991.0    225765.0  2142-09-08 16:00:00   40055   \n",
       "\n",
       "   VALUE VALUEUOM            STORETIME   CGID  ...  ISERROR  ROW_ID_y  \\\n",
       "0  200.0       ml  2142-09-08 12:08:00  17269  ...      NaN     10580   \n",
       "1  200.0       ml  2142-09-08 12:08:00  17269  ...      NaN     10580   \n",
       "2  120.0       ml  2142-09-08 13:39:00  17269  ...      NaN     10580   \n",
       "3  100.0       ml  2142-09-08 16:17:00  17269  ...      NaN     10580   \n",
       "4  200.0       ml  2142-09-08 16:17:00  17269  ...      NaN     10580   \n",
       "\n",
       "             LABEL  ABBREVIATION DBSOURCE       LINKSTO CATEGORY UNITNAME  \\\n",
       "0  Urine Out Foley           NaN  carevue  outputevents      NaN      NaN   \n",
       "1  Urine Out Foley           NaN  carevue  outputevents      NaN      NaN   \n",
       "2  Urine Out Foley           NaN  carevue  outputevents      NaN      NaN   \n",
       "3  Urine Out Foley           NaN  carevue  outputevents      NaN      NaN   \n",
       "4  Urine Out Foley           NaN  carevue  outputevents      NaN      NaN   \n",
       "\n",
       "  PARAM_TYPE CONCEPTID  \n",
       "0        NaN       NaN  \n",
       "1        NaN       NaN  \n",
       "2        NaN       NaN  \n",
       "3        NaN       NaN  \n",
       "4        NaN       NaN  \n",
       "\n",
       "[5 rows x 22 columns]"
      ]
     },
     "execution_count": 9,
     "metadata": {},
     "output_type": "execute_result"
    }
   ],
   "source": [
    "merged_op = pd.merge(outputevents_df, items_dict, on='ITEMID' )\n",
    "merged_op.head()"
   ]
  },
  {
   "cell_type": "code",
   "execution_count": 10,
   "id": "980a9948",
   "metadata": {},
   "outputs": [
    {
     "data": {
      "text/plain": [
       "array(['Urine Out Foley', 'Urine Out Void', 'Drain Out #1 Pericardial',\n",
       "       ..., 'Sump #2', 'R Ureteral Stent', 'Davol'], dtype=object)"
      ]
     },
     "execution_count": 10,
     "metadata": {},
     "output_type": "execute_result"
    }
   ],
   "source": [
    "merged_op['LABEL'].unique()"
   ]
  },
  {
   "cell_type": "markdown",
   "id": "7f888530",
   "metadata": {},
   "source": [
    "These are the unique labels that were assigned to the outputs."
   ]
  },
  {
   "cell_type": "code",
   "execution_count": 11,
   "id": "559139d8",
   "metadata": {},
   "outputs": [
    {
     "data": {
      "text/plain": [
       "Urine Out Foley           1917421\n",
       "Foley                     1186717\n",
       "Chest Tubes CTICU CT 1     152716\n",
       "Urine .                    108982\n",
       "Stool Out Stool             81828\n",
       "                           ...   \n",
       "Cecostomy                       1\n",
       "L. Pleural Tap                  1\n",
       "urine out:cc/k/hr               1\n",
       "gastric asp                     1\n",
       "Cath Lab Out                    1\n",
       "Name: LABEL, Length: 1153, dtype: int64"
      ]
     },
     "execution_count": 11,
     "metadata": {},
     "output_type": "execute_result"
    }
   ],
   "source": [
    "merged_op['LABEL'].value_counts()"
   ]
  },
  {
   "cell_type": "markdown",
   "id": "f1876576",
   "metadata": {},
   "source": [
    "The next visualisation gives us information about the top 10 most common output labels."
   ]
  },
  {
   "cell_type": "code",
   "execution_count": 12,
   "id": "e9b50c27",
   "metadata": {},
   "outputs": [
    {
     "data": {
      "text/plain": [
       "<AxesSubplot:>"
      ]
     },
     "execution_count": 12,
     "metadata": {},
     "output_type": "execute_result"
    },
    {
     "data": {
      "image/png": "[encoded data removed]",
      "text/plain": [
       "<Figure size 432x288 with 1 Axes>"
      ]
     },
     "metadata": {},
     "output_type": "display_data"
    }
   ],
   "source": [
    "merged_op['LABEL'].value_counts().head(10).plot(kind='bar')"
   ]
  },
  {
   "cell_type": "markdown",
   "id": "2d9d432e",
   "metadata": {},
   "source": [
    "In the next few code cells, we learn more about the category these outputs belong to."
   ]
  },
  {
   "cell_type": "code",
   "execution_count": 13,
   "id": "e4ccfa83",
   "metadata": {},
   "outputs": [
    {
     "data": {
      "text/plain": [
       "Output              1470124\n",
       "Drains                93454\n",
       "Free Form Intake       3603\n",
       "Name: CATEGORY, dtype: int64"
      ]
     },
     "execution_count": 13,
     "metadata": {},
     "output_type": "execute_result"
    }
   ],
   "source": [
    "merged_op['CATEGORY'].value_counts()"
   ]
  },
  {
   "cell_type": "code",
   "execution_count": 14,
   "id": "466f477a",
   "metadata": {},
   "outputs": [
    {
     "data": {
      "text/plain": [
       "([<matplotlib.patches.Wedge at 0x1b99e2c6d30>,\n",
       "  <matplotlib.patches.Wedge at 0x1b99e2e1250>,\n",
       "  <matplotlib.patches.Wedge at 0x1b99e2e16d0>],\n",
       " [Text(-1.0792457255280077, 0.21267031746232148, 'Output'),\n",
       "  Text(1.0776815456454365, -0.22045971553837948, 'Drains'),\n",
       "  Text(1.099971308259743, -0.007944872896998112, 'Free From Intake')])"
      ]
     },
     "execution_count": 14,
     "metadata": {},
     "output_type": "execute_result"
    },
    {
     "data": {
      "image/png": "[encoded data removed]",
      "text/plain": [
       "<Figure size 432x288 with 1 Axes>"
      ]
     },
     "metadata": {},
     "output_type": "display_data"
    }
   ],
   "source": [
    "plt.pie(merged_op['CATEGORY'].value_counts(), labels = 'Output;Drains;Free From Intake'.split(';'))"
   ]
  }
 ],
 "metadata": {
  "kernelspec": {
   "display_name": "Python 3",
   "language": "python",
   "name": "python3"
  },
  "language_info": {
   "codemirror_mode": {
    "name": "ipython",
    "version": 3
   },
   "file_extension": ".py",
   "mimetype": "text/x-python",
   "name": "python",
   "nbconvert_exporter": "python",
   "pygments_lexer": "ipython3",
   "version": "3.8.8"
  }
 },
 "nbformat": 4,
 "nbformat_minor": 5
}
