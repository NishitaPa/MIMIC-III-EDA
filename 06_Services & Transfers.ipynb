{
 "cells": [
  {
   "cell_type": "markdown",
   "id": "32a049cb",
   "metadata": {},
   "source": [
    "Next we'll look at the services and transfers tables."
   ]
  },
  {
   "cell_type": "markdown",
   "id": "746e34b1",
   "metadata": {},
   "source": [
    "Let's start by importing the libraries that we will need.\n"
   ]
  },
  {
   "cell_type": "code",
   "execution_count": 2,
   "id": "3a900c09",
   "metadata": {},
   "outputs": [],
   "source": [
    "import pandas as pd\n",
    "import numpy as np\n",
    "import matplotlib.pyplot as plt\n",
    "import seaborn as sns\n",
    "%matplotlib inline\n",
    "sns.set_style(style='whitegrid')"
   ]
  },
  {
   "cell_type": "code",
   "execution_count": 4,
   "id": "f21b1b5e",
   "metadata": {},
   "outputs": [],
   "source": [
    "services_df = pd.read_csv('..\\Extracted CSVs\\SERVICES.csv')\n",
    "transfers_df = pd.read_csv('..\\Extracted CSVs\\TRANSFERS.csv')"
   ]
  },
  {
   "cell_type": "markdown",
   "id": "178fcb2c",
   "metadata": {},
   "source": [
    "Let's get a feel of the data."
   ]
  },
  {
   "cell_type": "code",
   "execution_count": 5,
   "id": "d9137480",
   "metadata": {},
   "outputs": [
    {
     "data": {
      "text/html": [
       "<div>\n",
       "<style scoped>\n",
       "    .dataframe tbody tr th:only-of-type {\n",
       "        vertical-align: middle;\n",
       "    }\n",
       "\n",
       "    .dataframe tbody tr th {\n",
       "        vertical-align: top;\n",
       "    }\n",
       "\n",
       "    .dataframe thead th {\n",
       "        text-align: right;\n",
       "    }\n",
       "</style>\n",
       "<table border=\"1\" class=\"dataframe\">\n",
       "  <thead>\n",
       "    <tr style=\"text-align: right;\">\n",
       "      <th></th>\n",
       "      <th>ROW_ID</th>\n",
       "      <th>SUBJECT_ID</th>\n",
       "      <th>HADM_ID</th>\n",
       "      <th>TRANSFERTIME</th>\n",
       "      <th>PREV_SERVICE</th>\n",
       "      <th>CURR_SERVICE</th>\n",
       "    </tr>\n",
       "  </thead>\n",
       "  <tbody>\n",
       "    <tr>\n",
       "      <th>0</th>\n",
       "      <td>758</td>\n",
       "      <td>471</td>\n",
       "      <td>135879</td>\n",
       "      <td>2122-07-22 14:07:27</td>\n",
       "      <td>TSURG</td>\n",
       "      <td>MED</td>\n",
       "    </tr>\n",
       "    <tr>\n",
       "      <th>1</th>\n",
       "      <td>759</td>\n",
       "      <td>471</td>\n",
       "      <td>135879</td>\n",
       "      <td>2122-07-26 18:31:49</td>\n",
       "      <td>MED</td>\n",
       "      <td>TSURG</td>\n",
       "    </tr>\n",
       "    <tr>\n",
       "      <th>2</th>\n",
       "      <td>760</td>\n",
       "      <td>472</td>\n",
       "      <td>173064</td>\n",
       "      <td>2172-09-28 19:22:15</td>\n",
       "      <td>NaN</td>\n",
       "      <td>CMED</td>\n",
       "    </tr>\n",
       "    <tr>\n",
       "      <th>3</th>\n",
       "      <td>761</td>\n",
       "      <td>473</td>\n",
       "      <td>129194</td>\n",
       "      <td>2201-01-09 20:16:45</td>\n",
       "      <td>NaN</td>\n",
       "      <td>NB</td>\n",
       "    </tr>\n",
       "    <tr>\n",
       "      <th>4</th>\n",
       "      <td>762</td>\n",
       "      <td>474</td>\n",
       "      <td>194246</td>\n",
       "      <td>2181-03-23 08:24:41</td>\n",
       "      <td>NaN</td>\n",
       "      <td>NB</td>\n",
       "    </tr>\n",
       "  </tbody>\n",
       "</table>\n",
       "</div>"
      ],
      "text/plain": [
       "   ROW_ID  SUBJECT_ID  HADM_ID         TRANSFERTIME PREV_SERVICE CURR_SERVICE\n",
       "0     758         471   135879  2122-07-22 14:07:27        TSURG          MED\n",
       "1     759         471   135879  2122-07-26 18:31:49          MED        TSURG\n",
       "2     760         472   173064  2172-09-28 19:22:15          NaN         CMED\n",
       "3     761         473   129194  2201-01-09 20:16:45          NaN           NB\n",
       "4     762         474   194246  2181-03-23 08:24:41          NaN           NB"
      ]
     },
     "execution_count": 5,
     "metadata": {},
     "output_type": "execute_result"
    }
   ],
   "source": [
    "services_df.head()"
   ]
  },
  {
   "cell_type": "code",
   "execution_count": 6,
   "id": "97291b01",
   "metadata": {},
   "outputs": [
    {
     "name": "stdout",
     "output_type": "stream",
     "text": [
      "<class 'pandas.core.frame.DataFrame'>\n",
      "RangeIndex: 73343 entries, 0 to 73342\n",
      "Data columns (total 6 columns):\n",
      " #   Column        Non-Null Count  Dtype \n",
      "---  ------        --------------  ----- \n",
      " 0   ROW_ID        73343 non-null  int64 \n",
      " 1   SUBJECT_ID    73343 non-null  int64 \n",
      " 2   HADM_ID       73343 non-null  int64 \n",
      " 3   TRANSFERTIME  73343 non-null  object\n",
      " 4   PREV_SERVICE  14668 non-null  object\n",
      " 5   CURR_SERVICE  73343 non-null  object\n",
      "dtypes: int64(3), object(3)\n",
      "memory usage: 3.4+ MB\n"
     ]
    }
   ],
   "source": [
    "services_df.info()"
   ]
  },
  {
   "cell_type": "code",
   "execution_count": 7,
   "id": "f05e602d",
   "metadata": {},
   "outputs": [
    {
     "data": {
      "text/html": [
       "<div>\n",
       "<style scoped>\n",
       "    .dataframe tbody tr th:only-of-type {\n",
       "        vertical-align: middle;\n",
       "    }\n",
       "\n",
       "    .dataframe tbody tr th {\n",
       "        vertical-align: top;\n",
       "    }\n",
       "\n",
       "    .dataframe thead th {\n",
       "        text-align: right;\n",
       "    }\n",
       "</style>\n",
       "<table border=\"1\" class=\"dataframe\">\n",
       "  <thead>\n",
       "    <tr style=\"text-align: right;\">\n",
       "      <th></th>\n",
       "      <th>ROW_ID</th>\n",
       "      <th>SUBJECT_ID</th>\n",
       "      <th>HADM_ID</th>\n",
       "      <th>ICUSTAY_ID</th>\n",
       "      <th>DBSOURCE</th>\n",
       "      <th>EVENTTYPE</th>\n",
       "      <th>PREV_CAREUNIT</th>\n",
       "      <th>CURR_CAREUNIT</th>\n",
       "      <th>PREV_WARDID</th>\n",
       "      <th>CURR_WARDID</th>\n",
       "      <th>INTIME</th>\n",
       "      <th>OUTTIME</th>\n",
       "      <th>LOS</th>\n",
       "    </tr>\n",
       "  </thead>\n",
       "  <tbody>\n",
       "    <tr>\n",
       "      <th>0</th>\n",
       "      <td>657</td>\n",
       "      <td>111</td>\n",
       "      <td>192123</td>\n",
       "      <td>254245.0</td>\n",
       "      <td>carevue</td>\n",
       "      <td>transfer</td>\n",
       "      <td>CCU</td>\n",
       "      <td>MICU</td>\n",
       "      <td>7.0</td>\n",
       "      <td>23.0</td>\n",
       "      <td>2142-04-29 15:27:11</td>\n",
       "      <td>2142-05-04 20:38:33</td>\n",
       "      <td>125.19</td>\n",
       "    </tr>\n",
       "    <tr>\n",
       "      <th>1</th>\n",
       "      <td>658</td>\n",
       "      <td>111</td>\n",
       "      <td>192123</td>\n",
       "      <td>NaN</td>\n",
       "      <td>carevue</td>\n",
       "      <td>transfer</td>\n",
       "      <td>MICU</td>\n",
       "      <td>NaN</td>\n",
       "      <td>23.0</td>\n",
       "      <td>45.0</td>\n",
       "      <td>2142-05-04 20:38:33</td>\n",
       "      <td>2142-05-05 11:46:32</td>\n",
       "      <td>15.13</td>\n",
       "    </tr>\n",
       "    <tr>\n",
       "      <th>2</th>\n",
       "      <td>659</td>\n",
       "      <td>111</td>\n",
       "      <td>192123</td>\n",
       "      <td>NaN</td>\n",
       "      <td>carevue</td>\n",
       "      <td>discharge</td>\n",
       "      <td>NaN</td>\n",
       "      <td>NaN</td>\n",
       "      <td>45.0</td>\n",
       "      <td>NaN</td>\n",
       "      <td>2142-05-05 11:46:32</td>\n",
       "      <td>NaN</td>\n",
       "      <td>NaN</td>\n",
       "    </tr>\n",
       "    <tr>\n",
       "      <th>3</th>\n",
       "      <td>660</td>\n",
       "      <td>111</td>\n",
       "      <td>155897</td>\n",
       "      <td>249202.0</td>\n",
       "      <td>metavision</td>\n",
       "      <td>admit</td>\n",
       "      <td>NaN</td>\n",
       "      <td>MICU</td>\n",
       "      <td>NaN</td>\n",
       "      <td>52.0</td>\n",
       "      <td>2144-07-01 04:13:59</td>\n",
       "      <td>2144-07-01 05:19:39</td>\n",
       "      <td>1.09</td>\n",
       "    </tr>\n",
       "    <tr>\n",
       "      <th>4</th>\n",
       "      <td>661</td>\n",
       "      <td>111</td>\n",
       "      <td>155897</td>\n",
       "      <td>NaN</td>\n",
       "      <td>metavision</td>\n",
       "      <td>transfer</td>\n",
       "      <td>MICU</td>\n",
       "      <td>NaN</td>\n",
       "      <td>52.0</td>\n",
       "      <td>32.0</td>\n",
       "      <td>2144-07-01 05:19:39</td>\n",
       "      <td>2144-07-01 06:28:29</td>\n",
       "      <td>1.15</td>\n",
       "    </tr>\n",
       "  </tbody>\n",
       "</table>\n",
       "</div>"
      ],
      "text/plain": [
       "   ROW_ID  SUBJECT_ID  HADM_ID  ICUSTAY_ID    DBSOURCE  EVENTTYPE  \\\n",
       "0     657         111   192123    254245.0     carevue   transfer   \n",
       "1     658         111   192123         NaN     carevue   transfer   \n",
       "2     659         111   192123         NaN     carevue  discharge   \n",
       "3     660         111   155897    249202.0  metavision      admit   \n",
       "4     661         111   155897         NaN  metavision   transfer   \n",
       "\n",
       "  PREV_CAREUNIT CURR_CAREUNIT  PREV_WARDID  CURR_WARDID               INTIME  \\\n",
       "0           CCU          MICU          7.0         23.0  2142-04-29 15:27:11   \n",
       "1          MICU           NaN         23.0         45.0  2142-05-04 20:38:33   \n",
       "2           NaN           NaN         45.0          NaN  2142-05-05 11:46:32   \n",
       "3           NaN          MICU          NaN         52.0  2144-07-01 04:13:59   \n",
       "4          MICU           NaN         52.0         32.0  2144-07-01 05:19:39   \n",
       "\n",
       "               OUTTIME     LOS  \n",
       "0  2142-05-04 20:38:33  125.19  \n",
       "1  2142-05-05 11:46:32   15.13  \n",
       "2                  NaN     NaN  \n",
       "3  2144-07-01 05:19:39    1.09  \n",
       "4  2144-07-01 06:28:29    1.15  "
      ]
     },
     "execution_count": 7,
     "metadata": {},
     "output_type": "execute_result"
    }
   ],
   "source": [
    "transfers_df.head()"
   ]
  },
  {
   "cell_type": "code",
   "execution_count": 8,
   "id": "851a2abd",
   "metadata": {},
   "outputs": [
    {
     "name": "stdout",
     "output_type": "stream",
     "text": [
      "<class 'pandas.core.frame.DataFrame'>\n",
      "RangeIndex: 261897 entries, 0 to 261896\n",
      "Data columns (total 13 columns):\n",
      " #   Column         Non-Null Count   Dtype  \n",
      "---  ------         --------------   -----  \n",
      " 0   ROW_ID         261897 non-null  int64  \n",
      " 1   SUBJECT_ID     261897 non-null  int64  \n",
      " 2   HADM_ID        261897 non-null  int64  \n",
      " 3   ICUSTAY_ID     87721 non-null   float64\n",
      " 4   DBSOURCE       261656 non-null  object \n",
      " 5   EVENTTYPE      261873 non-null  object \n",
      " 6   PREV_CAREUNIT  96009 non-null   object \n",
      " 7   CURR_CAREUNIT  96016 non-null   object \n",
      " 8   PREV_WARDID    202964 non-null  float64\n",
      " 9   CURR_WARDID    202954 non-null  float64\n",
      " 10  INTIME         261873 non-null  object \n",
      " 11  OUTTIME        202921 non-null  object \n",
      " 12  LOS            202921 non-null  float64\n",
      "dtypes: float64(4), int64(3), object(6)\n",
      "memory usage: 26.0+ MB\n"
     ]
    }
   ],
   "source": [
    "transfers_df.info()"
   ]
  },
  {
   "cell_type": "code",
   "execution_count": 9,
   "id": "dcf180d4",
   "metadata": {},
   "outputs": [
    {
     "data": {
      "text/plain": [
       "<AxesSubplot:>"
      ]
     },
     "execution_count": 9,
     "metadata": {},
     "output_type": "execute_result"
    },
    {
     "data": {
      "image/png": "[encoded data removed]",
      "text/plain": [
       "<Figure size 432x288 with 1 Axes>"
      ]
     },
     "metadata": {},
     "output_type": "display_data"
    }
   ],
   "source": [
    "services_df['CURR_SERVICE'].value_counts().plot(kind='bar')"
   ]
  },
  {
   "cell_type": "markdown",
   "id": "f7f364d2",
   "metadata": {},
   "source": [
    "This plot gives us an idea of the current units that the patients are admitted in."
   ]
  },
  {
   "cell_type": "code",
   "execution_count": 10,
   "id": "f56a0d38",
   "metadata": {},
   "outputs": [
    {
     "data": {
      "text/plain": [
       "([<matplotlib.patches.Wedge at 0x23a8189c2e0>,\n",
       "  <matplotlib.patches.Wedge at 0x23a8189c7c0>,\n",
       "  <matplotlib.patches.Wedge at 0x23a8189cc40>],\n",
       " [Text(-0.17227142372286822, 1.0864265076702133, 'transfer'),\n",
       "  Text(-0.5744415632899714, -0.9380921545162682, 'discharge'),\n",
       "  Text(0.8365529823357661, -0.7142682323505194, 'admit')])"
      ]
     },
     "execution_count": 10,
     "metadata": {},
     "output_type": "execute_result"
    },
    {
     "data": {
      "image/png": "[encoded data removed]",
      "text/plain": [
       "<Figure size 432x288 with 1 Axes>"
      ]
     },
     "metadata": {},
     "output_type": "display_data"
    }
   ],
   "source": [
    "plt.pie(transfers_df['EVENTTYPE'].value_counts(), labels = ['transfer', 'discharge', 'admit'])"
   ]
  },
  {
   "cell_type": "markdown",
   "id": "0a0d3a07",
   "metadata": {},
   "source": [
    "This pie chart represents the percentage of events that were transfers, discharges, and admits."
   ]
  },
  {
   "cell_type": "markdown",
   "id": "2bc1afdd",
   "metadata": {},
   "source": [
    "Average length of stay in each unit"
   ]
  },
  {
   "cell_type": "code",
   "execution_count": 11,
   "id": "d6df227f",
   "metadata": {},
   "outputs": [
    {
     "data": {
      "text/plain": [
       "CURR_CAREUNIT\n",
       "CCU       66.257681\n",
       "CSRU      65.022379\n",
       "MICU      76.956774\n",
       "NICU     104.524207\n",
       "NWARD     38.334765\n",
       "SICU      97.801021\n",
       "TSICU     78.079586\n",
       "Name: LOS, dtype: float64"
      ]
     },
     "execution_count": 11,
     "metadata": {},
     "output_type": "execute_result"
    }
   ],
   "source": [
    "transfers_df.groupby('CURR_CAREUNIT')['LOS'].mean()"
   ]
  },
  {
   "cell_type": "markdown",
   "id": "ba972f09",
   "metadata": {},
   "source": [
    "This marks the end of the first section. The tables explored have been summarised below. <br>\n",
    "**ADMISSIONS**: Every unique hospitalization for each patient in the database <br>\n",
    "**CALLOUT**: Information regarding when a patient was cleared for ICU discharge and when the patient was actually discharged  <br> \n",
    "**ICUSTAYS**: Every unique ICU stay in the database  <br>\n",
    "**PATIENTS**: Every unique patient in the database <br>\n",
    "**SERVICES**: The clinical service under which a patient is registered <br>\n",
    "**TRANSFERS**: Patient movement from bed to bed within the hospital, including ICU admission and discharge <br>"
   ]
  }
 ],
 "metadata": {
  "kernelspec": {
   "display_name": "Python 3",
   "language": "python",
   "name": "python3"
  },
  "language_info": {
   "codemirror_mode": {
    "name": "ipython",
    "version": 3
   },
   "file_extension": ".py",
   "mimetype": "text/x-python",
   "name": "python",
   "nbconvert_exporter": "python",
   "pygments_lexer": "ipython3",
   "version": "3.8.8"
  }
 },
 "nbformat": 4,
 "nbformat_minor": 5
}
